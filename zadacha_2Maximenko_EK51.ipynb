{
 "cells": [
  {
   "cell_type": "markdown",
   "metadata": {},
   "source": [
    "# Data Preprocessing"
   ]
  },
  {
   "cell_type": "markdown",
   "metadata": {},
   "source": [
    "Описание дынных. Исходный датасет имеет 5 переменных.4 первых переменных - это независимые. Последнюю переменную \"Purchased\" - обозначим как зависимую переменную. Из независимых переменных у нас имеется три числовых и 1 текстовая. Переменная \"Purchased\" состоит из числовых показателей со значением 0 и 1. Конвертируем наш документ в формат csv с разделителем \"запятая\". Осуществим подготовку данных, импортировав необходимые библиотеки."
   ]
  },
  {
   "cell_type": "code",
   "execution_count": 1,
   "metadata": {},
   "outputs": [],
   "source": [
    "# Importing the libraries\n",
    "import numpy as np\n",
    "import matplotlib.pyplot as plt\n",
    "import pandas as pd"
   ]
  },
  {
   "cell_type": "markdown",
   "metadata": {},
   "source": [
    "Загрузим наш предварительно конвертированный файл."
   ]
  },
  {
   "cell_type": "code",
   "execution_count": 2,
   "metadata": {},
   "outputs": [],
   "source": [
    "# Importing the dataset\n",
    "df = pd.read_csv('zadacha_2.csv', sep=',')"
   ]
  },
  {
   "cell_type": "markdown",
   "metadata": {},
   "source": [
    "Выведем данные на экран чтобы убедиться в правильности отображения. Имеем 5 колонок и 400 строк."
   ]
  },
  {
   "cell_type": "code",
   "execution_count": 3,
   "metadata": {},
   "outputs": [
    {
     "data": {
      "text/html": [
       "<div>\n",
       "<style scoped>\n",
       "    .dataframe tbody tr th:only-of-type {\n",
       "        vertical-align: middle;\n",
       "    }\n",
       "\n",
       "    .dataframe tbody tr th {\n",
       "        vertical-align: top;\n",
       "    }\n",
       "\n",
       "    .dataframe thead th {\n",
       "        text-align: right;\n",
       "    }\n",
       "</style>\n",
       "<table border=\"1\" class=\"dataframe\">\n",
       "  <thead>\n",
       "    <tr style=\"text-align: right;\">\n",
       "      <th></th>\n",
       "      <th>User ID</th>\n",
       "      <th>Gender</th>\n",
       "      <th>Age</th>\n",
       "      <th>EstimatedSalary</th>\n",
       "      <th>Purchased</th>\n",
       "    </tr>\n",
       "  </thead>\n",
       "  <tbody>\n",
       "    <tr>\n",
       "      <th>0</th>\n",
       "      <td>15624510.0</td>\n",
       "      <td>Male</td>\n",
       "      <td>19.0</td>\n",
       "      <td>19000.0</td>\n",
       "      <td>0.0</td>\n",
       "    </tr>\n",
       "    <tr>\n",
       "      <th>1</th>\n",
       "      <td>15810944.0</td>\n",
       "      <td>Male</td>\n",
       "      <td>35.0</td>\n",
       "      <td>20000.0</td>\n",
       "      <td>0.0</td>\n",
       "    </tr>\n",
       "    <tr>\n",
       "      <th>2</th>\n",
       "      <td>15668575.0</td>\n",
       "      <td>Female</td>\n",
       "      <td>26.0</td>\n",
       "      <td>43000.0</td>\n",
       "      <td>0.0</td>\n",
       "    </tr>\n",
       "    <tr>\n",
       "      <th>3</th>\n",
       "      <td>15603246.0</td>\n",
       "      <td>Female</td>\n",
       "      <td>27.0</td>\n",
       "      <td>57000.0</td>\n",
       "      <td>0.0</td>\n",
       "    </tr>\n",
       "    <tr>\n",
       "      <th>4</th>\n",
       "      <td>15804002.0</td>\n",
       "      <td>Male</td>\n",
       "      <td>19.0</td>\n",
       "      <td>76000.0</td>\n",
       "      <td>0.0</td>\n",
       "    </tr>\n",
       "    <tr>\n",
       "      <th>...</th>\n",
       "      <td>...</td>\n",
       "      <td>...</td>\n",
       "      <td>...</td>\n",
       "      <td>...</td>\n",
       "      <td>...</td>\n",
       "    </tr>\n",
       "    <tr>\n",
       "      <th>395</th>\n",
       "      <td>15691863.0</td>\n",
       "      <td>Female</td>\n",
       "      <td>46.0</td>\n",
       "      <td>41000.0</td>\n",
       "      <td>1.0</td>\n",
       "    </tr>\n",
       "    <tr>\n",
       "      <th>396</th>\n",
       "      <td>15706071.0</td>\n",
       "      <td>Male</td>\n",
       "      <td>51.0</td>\n",
       "      <td>23000.0</td>\n",
       "      <td>1.0</td>\n",
       "    </tr>\n",
       "    <tr>\n",
       "      <th>397</th>\n",
       "      <td>15654296.0</td>\n",
       "      <td>Female</td>\n",
       "      <td>50.0</td>\n",
       "      <td>20000.0</td>\n",
       "      <td>1.0</td>\n",
       "    </tr>\n",
       "    <tr>\n",
       "      <th>398</th>\n",
       "      <td>15755018.0</td>\n",
       "      <td>Male</td>\n",
       "      <td>36.0</td>\n",
       "      <td>33000.0</td>\n",
       "      <td>0.0</td>\n",
       "    </tr>\n",
       "    <tr>\n",
       "      <th>399</th>\n",
       "      <td>15594041.0</td>\n",
       "      <td>Female</td>\n",
       "      <td>49.0</td>\n",
       "      <td>36000.0</td>\n",
       "      <td>1.0</td>\n",
       "    </tr>\n",
       "  </tbody>\n",
       "</table>\n",
       "<p>400 rows × 5 columns</p>\n",
       "</div>"
      ],
      "text/plain": [
       "        User ID  Gender   Age  EstimatedSalary  Purchased\n",
       "0    15624510.0    Male  19.0          19000.0        0.0\n",
       "1    15810944.0    Male  35.0          20000.0        0.0\n",
       "2    15668575.0  Female  26.0          43000.0        0.0\n",
       "3    15603246.0  Female  27.0          57000.0        0.0\n",
       "4    15804002.0    Male  19.0          76000.0        0.0\n",
       "..          ...     ...   ...              ...        ...\n",
       "395  15691863.0  Female  46.0          41000.0        1.0\n",
       "396  15706071.0    Male  51.0          23000.0        1.0\n",
       "397  15654296.0  Female  50.0          20000.0        1.0\n",
       "398  15755018.0    Male  36.0          33000.0        0.0\n",
       "399  15594041.0  Female  49.0          36000.0        1.0\n",
       "\n",
       "[400 rows x 5 columns]"
      ]
     },
     "execution_count": 3,
     "metadata": {},
     "output_type": "execute_result"
    }
   ],
   "source": [
    "df"
   ]
  },
  {
   "cell_type": "markdown",
   "metadata": {},
   "source": [
    "Для определения пропущенных значений в переменных выведем общее количество и процент пропусков по переменным. "
   ]
  },
  {
   "cell_type": "code",
   "execution_count": 4,
   "metadata": {
    "scrolled": true
   },
   "outputs": [
    {
     "data": {
      "text/html": [
       "<div>\n",
       "<style scoped>\n",
       "    .dataframe tbody tr th:only-of-type {\n",
       "        vertical-align: middle;\n",
       "    }\n",
       "\n",
       "    .dataframe tbody tr th {\n",
       "        vertical-align: top;\n",
       "    }\n",
       "\n",
       "    .dataframe thead th {\n",
       "        text-align: right;\n",
       "    }\n",
       "</style>\n",
       "<table border=\"1\" class=\"dataframe\">\n",
       "  <thead>\n",
       "    <tr style=\"text-align: right;\">\n",
       "      <th></th>\n",
       "      <th>Total</th>\n",
       "      <th>Percent</th>\n",
       "    </tr>\n",
       "  </thead>\n",
       "  <tbody>\n",
       "    <tr>\n",
       "      <th>Purchased</th>\n",
       "      <td>0</td>\n",
       "      <td>0.0</td>\n",
       "    </tr>\n",
       "    <tr>\n",
       "      <th>EstimatedSalary</th>\n",
       "      <td>0</td>\n",
       "      <td>0.0</td>\n",
       "    </tr>\n",
       "    <tr>\n",
       "      <th>Age</th>\n",
       "      <td>0</td>\n",
       "      <td>0.0</td>\n",
       "    </tr>\n",
       "    <tr>\n",
       "      <th>Gender</th>\n",
       "      <td>0</td>\n",
       "      <td>0.0</td>\n",
       "    </tr>\n",
       "    <tr>\n",
       "      <th>User ID</th>\n",
       "      <td>0</td>\n",
       "      <td>0.0</td>\n",
       "    </tr>\n",
       "  </tbody>\n",
       "</table>\n",
       "</div>"
      ],
      "text/plain": [
       "                 Total  Percent\n",
       "Purchased            0      0.0\n",
       "EstimatedSalary      0      0.0\n",
       "Age                  0      0.0\n",
       "Gender               0      0.0\n",
       "User ID              0      0.0"
      ]
     },
     "execution_count": 4,
     "metadata": {},
     "output_type": "execute_result"
    }
   ],
   "source": [
    "# Cheking Missing data\n",
    "total = df.isnull().sum().sort_values(ascending=False)\n",
    "percent = (df.isnull().sum()/df.isnull().count()).sort_values(ascending=False)\n",
    "missing_data = pd.concat([total, percent], axis=1, keys=['Total', 'Percent'])\n",
    "missing_data"
   ]
  },
  {
   "cell_type": "markdown",
   "metadata": {},
   "source": [
    "Как видим, пропущенных занчений нет"
   ]
  },
  {
   "cell_type": "markdown",
   "metadata": {},
   "source": [
    "Выведем статистику по числовым переменным."
   ]
  },
  {
   "cell_type": "code",
   "execution_count": 5,
   "metadata": {},
   "outputs": [
    {
     "data": {
      "text/html": [
       "<div>\n",
       "<style scoped>\n",
       "    .dataframe tbody tr th:only-of-type {\n",
       "        vertical-align: middle;\n",
       "    }\n",
       "\n",
       "    .dataframe tbody tr th {\n",
       "        vertical-align: top;\n",
       "    }\n",
       "\n",
       "    .dataframe thead th {\n",
       "        text-align: right;\n",
       "    }\n",
       "</style>\n",
       "<table border=\"1\" class=\"dataframe\">\n",
       "  <thead>\n",
       "    <tr style=\"text-align: right;\">\n",
       "      <th></th>\n",
       "      <th>User ID</th>\n",
       "      <th>Age</th>\n",
       "      <th>EstimatedSalary</th>\n",
       "      <th>Purchased</th>\n",
       "    </tr>\n",
       "  </thead>\n",
       "  <tbody>\n",
       "    <tr>\n",
       "      <th>count</th>\n",
       "      <td>4.000000e+02</td>\n",
       "      <td>400.000000</td>\n",
       "      <td>400.000000</td>\n",
       "      <td>400.000000</td>\n",
       "    </tr>\n",
       "    <tr>\n",
       "      <th>mean</th>\n",
       "      <td>1.569154e+07</td>\n",
       "      <td>37.655000</td>\n",
       "      <td>69742.500000</td>\n",
       "      <td>0.357500</td>\n",
       "    </tr>\n",
       "    <tr>\n",
       "      <th>std</th>\n",
       "      <td>7.165832e+04</td>\n",
       "      <td>10.482877</td>\n",
       "      <td>34096.960282</td>\n",
       "      <td>0.479864</td>\n",
       "    </tr>\n",
       "    <tr>\n",
       "      <th>min</th>\n",
       "      <td>1.556669e+07</td>\n",
       "      <td>18.000000</td>\n",
       "      <td>15000.000000</td>\n",
       "      <td>0.000000</td>\n",
       "    </tr>\n",
       "    <tr>\n",
       "      <th>25%</th>\n",
       "      <td>1.562676e+07</td>\n",
       "      <td>29.750000</td>\n",
       "      <td>43000.000000</td>\n",
       "      <td>0.000000</td>\n",
       "    </tr>\n",
       "    <tr>\n",
       "      <th>50%</th>\n",
       "      <td>1.569434e+07</td>\n",
       "      <td>37.000000</td>\n",
       "      <td>70000.000000</td>\n",
       "      <td>0.000000</td>\n",
       "    </tr>\n",
       "    <tr>\n",
       "      <th>75%</th>\n",
       "      <td>1.575036e+07</td>\n",
       "      <td>46.000000</td>\n",
       "      <td>88000.000000</td>\n",
       "      <td>1.000000</td>\n",
       "    </tr>\n",
       "    <tr>\n",
       "      <th>max</th>\n",
       "      <td>1.581524e+07</td>\n",
       "      <td>60.000000</td>\n",
       "      <td>150000.000000</td>\n",
       "      <td>1.000000</td>\n",
       "    </tr>\n",
       "  </tbody>\n",
       "</table>\n",
       "</div>"
      ],
      "text/plain": [
       "            User ID         Age  EstimatedSalary   Purchased\n",
       "count  4.000000e+02  400.000000       400.000000  400.000000\n",
       "mean   1.569154e+07   37.655000     69742.500000    0.357500\n",
       "std    7.165832e+04   10.482877     34096.960282    0.479864\n",
       "min    1.556669e+07   18.000000     15000.000000    0.000000\n",
       "25%    1.562676e+07   29.750000     43000.000000    0.000000\n",
       "50%    1.569434e+07   37.000000     70000.000000    0.000000\n",
       "75%    1.575036e+07   46.000000     88000.000000    1.000000\n",
       "max    1.581524e+07   60.000000    150000.000000    1.000000"
      ]
     },
     "execution_count": 5,
     "metadata": {},
     "output_type": "execute_result"
    }
   ],
   "source": [
    "df.describe()"
   ]
  },
  {
   "cell_type": "markdown",
   "metadata": {},
   "source": [
    "Проведем проверку типов данных по переменным и выявим соответствие."
   ]
  },
  {
   "cell_type": "code",
   "execution_count": 6,
   "metadata": {},
   "outputs": [
    {
     "data": {
      "text/plain": [
       "User ID            float64\n",
       "Gender              object\n",
       "Age                float64\n",
       "EstimatedSalary    float64\n",
       "Purchased          float64\n",
       "dtype: object"
      ]
     },
     "execution_count": 6,
     "metadata": {},
     "output_type": "execute_result"
    }
   ],
   "source": [
    "df.dtypes"
   ]
  },
  {
   "cell_type": "markdown",
   "metadata": {},
   "source": [
    "Построим графики распределения функций. "
   ]
  },
  {
   "cell_type": "code",
   "execution_count": 7,
   "metadata": {
    "scrolled": true
   },
   "outputs": [
    {
     "name": "stderr",
     "output_type": "stream",
     "text": [
      "C:\\Users\\Admin\\anaconda3\\lib\\site-packages\\seaborn\\axisgrid.py:2071: UserWarning: The `size` parameter has been renamed to `height`; please update your code.\n",
      "  warnings.warn(msg, UserWarning)\n"
     ]
    },
    {
     "data": {
      "image/png": "[encoded data removed]",
      "text/plain": [
       "<Figure size 720x720 with 20 Axes>"
      ]
     },
     "metadata": {},
     "output_type": "display_data"
    }
   ],
   "source": [
    "# Features distribution\n",
    "import seaborn as sns\n",
    "sns.set()\n",
    "sns.pairplot(df, size = 2.5)\n",
    "plt.show();"
   ]
  },
  {
   "cell_type": "markdown",
   "metadata": {},
   "source": [
    "Осуществим работы с выбросами в числовых переменных. Для этого запишем функцию для поиска и замены данных, выходящих за пределы 3 сигма. "
   ]
  },
  {
   "cell_type": "code",
   "execution_count": 8,
   "metadata": {},
   "outputs": [],
   "source": [
    "# Function Outliers\n",
    "def outliers(df):\n",
    "    num_var = list(df._get_numeric_data().columns)\n",
    "    for col_names in num_var:\n",
    "        df[col_names] = df[col_names].apply(lambda y: df[col_names].mean()-3*df[col_names].std() \n",
    "                            if y < df[col_names].mean()-3*df[col_names].std() else y)\n",
    "        df[col_names] = df[col_names].apply(lambda y: df[col_names].mean()+3*df[col_names].std() \n",
    "                            if y > df[col_names].mean()+3*df[col_names].std() else y)\n",
    "    return(df)"
   ]
  },
  {
   "cell_type": "markdown",
   "metadata": {},
   "source": [
    "Запишем в наш датафрейм уже очищенные от  выбросов переменные и повторно выведем статистику."
   ]
  },
  {
   "cell_type": "code",
   "execution_count": 9,
   "metadata": {},
   "outputs": [
    {
     "data": {
      "text/html": [
       "<div>\n",
       "<style scoped>\n",
       "    .dataframe tbody tr th:only-of-type {\n",
       "        vertical-align: middle;\n",
       "    }\n",
       "\n",
       "    .dataframe tbody tr th {\n",
       "        vertical-align: top;\n",
       "    }\n",
       "\n",
       "    .dataframe thead th {\n",
       "        text-align: right;\n",
       "    }\n",
       "</style>\n",
       "<table border=\"1\" class=\"dataframe\">\n",
       "  <thead>\n",
       "    <tr style=\"text-align: right;\">\n",
       "      <th></th>\n",
       "      <th>User ID</th>\n",
       "      <th>Age</th>\n",
       "      <th>EstimatedSalary</th>\n",
       "      <th>Purchased</th>\n",
       "    </tr>\n",
       "  </thead>\n",
       "  <tbody>\n",
       "    <tr>\n",
       "      <th>count</th>\n",
       "      <td>4.000000e+02</td>\n",
       "      <td>400.000000</td>\n",
       "      <td>400.000000</td>\n",
       "      <td>400.000000</td>\n",
       "    </tr>\n",
       "    <tr>\n",
       "      <th>mean</th>\n",
       "      <td>1.569154e+07</td>\n",
       "      <td>37.655000</td>\n",
       "      <td>69742.500000</td>\n",
       "      <td>0.357500</td>\n",
       "    </tr>\n",
       "    <tr>\n",
       "      <th>std</th>\n",
       "      <td>7.165832e+04</td>\n",
       "      <td>10.482877</td>\n",
       "      <td>34096.960282</td>\n",
       "      <td>0.479864</td>\n",
       "    </tr>\n",
       "    <tr>\n",
       "      <th>min</th>\n",
       "      <td>1.556669e+07</td>\n",
       "      <td>18.000000</td>\n",
       "      <td>15000.000000</td>\n",
       "      <td>0.000000</td>\n",
       "    </tr>\n",
       "    <tr>\n",
       "      <th>25%</th>\n",
       "      <td>1.562676e+07</td>\n",
       "      <td>29.750000</td>\n",
       "      <td>43000.000000</td>\n",
       "      <td>0.000000</td>\n",
       "    </tr>\n",
       "    <tr>\n",
       "      <th>50%</th>\n",
       "      <td>1.569434e+07</td>\n",
       "      <td>37.000000</td>\n",
       "      <td>70000.000000</td>\n",
       "      <td>0.000000</td>\n",
       "    </tr>\n",
       "    <tr>\n",
       "      <th>75%</th>\n",
       "      <td>1.575036e+07</td>\n",
       "      <td>46.000000</td>\n",
       "      <td>88000.000000</td>\n",
       "      <td>1.000000</td>\n",
       "    </tr>\n",
       "    <tr>\n",
       "      <th>max</th>\n",
       "      <td>1.581524e+07</td>\n",
       "      <td>60.000000</td>\n",
       "      <td>150000.000000</td>\n",
       "      <td>1.000000</td>\n",
       "    </tr>\n",
       "  </tbody>\n",
       "</table>\n",
       "</div>"
      ],
      "text/plain": [
       "            User ID         Age  EstimatedSalary   Purchased\n",
       "count  4.000000e+02  400.000000       400.000000  400.000000\n",
       "mean   1.569154e+07   37.655000     69742.500000    0.357500\n",
       "std    7.165832e+04   10.482877     34096.960282    0.479864\n",
       "min    1.556669e+07   18.000000     15000.000000    0.000000\n",
       "25%    1.562676e+07   29.750000     43000.000000    0.000000\n",
       "50%    1.569434e+07   37.000000     70000.000000    0.000000\n",
       "75%    1.575036e+07   46.000000     88000.000000    1.000000\n",
       "max    1.581524e+07   60.000000    150000.000000    1.000000"
      ]
     },
     "execution_count": 9,
     "metadata": {},
     "output_type": "execute_result"
    }
   ],
   "source": [
    "# Outliers\n",
    "df = outliers(df)\n",
    "df.describe()"
   ]
  },
  {
   "cell_type": "markdown",
   "metadata": {},
   "source": [
    "В результате выполнения очистки можно наблюдать, что показатели максимального, минимального, среднего значений, а также стандартного отклонения не изменились и соответствуют нормальному распределению, что говорит об отсутствии выбросов."
   ]
  },
  {
   "cell_type": "markdown",
   "metadata": {},
   "source": [
    "Построим корреляционную матрицую Данная матрица необходима для визуализации и выявления наиболее значимых факторов, которые необходимо будет включить в модель. Как можно определить изначально, большее влияние имеет переменная , Age, потом EstimatedSalary."
   ]
  },
  {
   "cell_type": "code",
   "execution_count": 10,
   "metadata": {},
   "outputs": [
    {
     "data": {
      "image/png": "[encoded data removed]",
      "text/plain": [
       "<Figure size 864x648 with 2 Axes>"
      ]
     },
     "metadata": {},
     "output_type": "display_data"
    }
   ],
   "source": [
    "# Cheking correlations\n",
    "import seaborn as sns\n",
    "corrmat = df.corr()\n",
    "f, ax = plt.subplots(figsize=(12, 9))\n",
    "sns.heatmap(corrmat, annot=True)\n",
    "plt.show()"
   ]
  },
  {
   "cell_type": "markdown",
   "metadata": {},
   "source": [
    "# Logistic Regression"
   ]
  },
  {
   "cell_type": "markdown",
   "metadata": {},
   "source": [
    "В нашем датасете присутствуют качественные переменные. Их необходимо закодировать с помощью функции.\n",
    "Запишем список нечисловых переменных и проведем кодирование качественных переменных. Результат запишем обратно в базу."
   ]
  },
  {
   "cell_type": "code",
   "execution_count": 11,
   "metadata": {},
   "outputs": [],
   "source": [
    "# Function Encoding\n",
    "def encoding_char(x):\n",
    "    char_var = list(set(x.columns) - set(x._get_numeric_data().columns))\n",
    "    for col_names in char_var:\n",
    "        f = pd.factorize(x[col_names])\n",
    "        x[col_names] = pd.factorize(x[col_names])[0]\n",
    "    return(x)"
   ]
  },
  {
   "cell_type": "code",
   "execution_count": 12,
   "metadata": {},
   "outputs": [],
   "source": [
    "# Encoding categorical data\n",
    "df = encoding_char(df)"
   ]
  },
  {
   "cell_type": "code",
   "execution_count": 13,
   "metadata": {},
   "outputs": [
    {
     "data": {
      "text/html": [
       "<div>\n",
       "<style scoped>\n",
       "    .dataframe tbody tr th:only-of-type {\n",
       "        vertical-align: middle;\n",
       "    }\n",
       "\n",
       "    .dataframe tbody tr th {\n",
       "        vertical-align: top;\n",
       "    }\n",
       "\n",
       "    .dataframe thead th {\n",
       "        text-align: right;\n",
       "    }\n",
       "</style>\n",
       "<table border=\"1\" class=\"dataframe\">\n",
       "  <thead>\n",
       "    <tr style=\"text-align: right;\">\n",
       "      <th></th>\n",
       "      <th>User ID</th>\n",
       "      <th>Gender</th>\n",
       "      <th>Age</th>\n",
       "      <th>EstimatedSalary</th>\n",
       "      <th>Purchased</th>\n",
       "    </tr>\n",
       "  </thead>\n",
       "  <tbody>\n",
       "    <tr>\n",
       "      <th>0</th>\n",
       "      <td>15624510.0</td>\n",
       "      <td>0</td>\n",
       "      <td>19.0</td>\n",
       "      <td>19000.0</td>\n",
       "      <td>0.0</td>\n",
       "    </tr>\n",
       "    <tr>\n",
       "      <th>1</th>\n",
       "      <td>15810944.0</td>\n",
       "      <td>0</td>\n",
       "      <td>35.0</td>\n",
       "      <td>20000.0</td>\n",
       "      <td>0.0</td>\n",
       "    </tr>\n",
       "    <tr>\n",
       "      <th>2</th>\n",
       "      <td>15668575.0</td>\n",
       "      <td>1</td>\n",
       "      <td>26.0</td>\n",
       "      <td>43000.0</td>\n",
       "      <td>0.0</td>\n",
       "    </tr>\n",
       "    <tr>\n",
       "      <th>3</th>\n",
       "      <td>15603246.0</td>\n",
       "      <td>1</td>\n",
       "      <td>27.0</td>\n",
       "      <td>57000.0</td>\n",
       "      <td>0.0</td>\n",
       "    </tr>\n",
       "    <tr>\n",
       "      <th>4</th>\n",
       "      <td>15804002.0</td>\n",
       "      <td>0</td>\n",
       "      <td>19.0</td>\n",
       "      <td>76000.0</td>\n",
       "      <td>0.0</td>\n",
       "    </tr>\n",
       "    <tr>\n",
       "      <th>...</th>\n",
       "      <td>...</td>\n",
       "      <td>...</td>\n",
       "      <td>...</td>\n",
       "      <td>...</td>\n",
       "      <td>...</td>\n",
       "    </tr>\n",
       "    <tr>\n",
       "      <th>395</th>\n",
       "      <td>15691863.0</td>\n",
       "      <td>1</td>\n",
       "      <td>46.0</td>\n",
       "      <td>41000.0</td>\n",
       "      <td>1.0</td>\n",
       "    </tr>\n",
       "    <tr>\n",
       "      <th>396</th>\n",
       "      <td>15706071.0</td>\n",
       "      <td>0</td>\n",
       "      <td>51.0</td>\n",
       "      <td>23000.0</td>\n",
       "      <td>1.0</td>\n",
       "    </tr>\n",
       "    <tr>\n",
       "      <th>397</th>\n",
       "      <td>15654296.0</td>\n",
       "      <td>1</td>\n",
       "      <td>50.0</td>\n",
       "      <td>20000.0</td>\n",
       "      <td>1.0</td>\n",
       "    </tr>\n",
       "    <tr>\n",
       "      <th>398</th>\n",
       "      <td>15755018.0</td>\n",
       "      <td>0</td>\n",
       "      <td>36.0</td>\n",
       "      <td>33000.0</td>\n",
       "      <td>0.0</td>\n",
       "    </tr>\n",
       "    <tr>\n",
       "      <th>399</th>\n",
       "      <td>15594041.0</td>\n",
       "      <td>1</td>\n",
       "      <td>49.0</td>\n",
       "      <td>36000.0</td>\n",
       "      <td>1.0</td>\n",
       "    </tr>\n",
       "  </tbody>\n",
       "</table>\n",
       "<p>400 rows × 5 columns</p>\n",
       "</div>"
      ],
      "text/plain": [
       "        User ID  Gender   Age  EstimatedSalary  Purchased\n",
       "0    15624510.0       0  19.0          19000.0        0.0\n",
       "1    15810944.0       0  35.0          20000.0        0.0\n",
       "2    15668575.0       1  26.0          43000.0        0.0\n",
       "3    15603246.0       1  27.0          57000.0        0.0\n",
       "4    15804002.0       0  19.0          76000.0        0.0\n",
       "..          ...     ...   ...              ...        ...\n",
       "395  15691863.0       1  46.0          41000.0        1.0\n",
       "396  15706071.0       0  51.0          23000.0        1.0\n",
       "397  15654296.0       1  50.0          20000.0        1.0\n",
       "398  15755018.0       0  36.0          33000.0        0.0\n",
       "399  15594041.0       1  49.0          36000.0        1.0\n",
       "\n",
       "[400 rows x 5 columns]"
      ]
     },
     "execution_count": 13,
     "metadata": {},
     "output_type": "execute_result"
    }
   ],
   "source": [
    "df"
   ]
  },
  {
   "cell_type": "markdown",
   "metadata": {},
   "source": [
    "Разделим наш датасет на обучающую и тестовую выборку по пропорции 20% на 80%"
   ]
  },
  {
   "cell_type": "code",
   "execution_count": 14,
   "metadata": {},
   "outputs": [],
   "source": [
    "# Splitting the dataset into the Training set and Test set\n",
    "X = df.iloc[:, :-1].values\n",
    "y = df.iloc[:, -1].values\n",
    "from sklearn.model_selection import train_test_split\n",
    "X_train, X_test, y_train, y_test = train_test_split(X, y, test_size=0.2, random_state=13)"
   ]
  },
  {
   "cell_type": "markdown",
   "metadata": {},
   "source": [
    "Проведем шкалирование данных. Из библиотеки импортируем класс StandardScaler и рассчитаем и запишем в переменную необходимые \n",
    "параметры шкалирования, посчитанные на основе обучающей выборки. Затем с использованием жтих параметров шкалируем обучающую и \n",
    "тестовую выборкую. Эндогенная переменная в шкалировании не нуждается. Она должна быть дискретного типа 0;1. Что у нас и есть."
   ]
  },
  {
   "cell_type": "code",
   "execution_count": 15,
   "metadata": {},
   "outputs": [],
   "source": [
    "# Feature Scaling\n",
    "from sklearn.preprocessing import StandardScaler\n",
    "sc_X = StandardScaler().fit(X_train)\n",
    "X_train = sc_X.transform(X_train)\n",
    "X_test = sc_X.transform(X_test)"
   ]
  },
  {
   "cell_type": "markdown",
   "metadata": {},
   "source": [
    "Строим базовую модель. Для жтого из библиотеки statsmodels с помощью ф-и Logit посмотрим отчет по модели. Видим, что  \n",
    "переменные Х3 и Х4 значимыми,  т.к. их значения Р не превышают 1%. Поэтому оставим только их"
   ]
  },
  {
   "cell_type": "code",
   "execution_count": 16,
   "metadata": {},
   "outputs": [
    {
     "name": "stdout",
     "output_type": "stream",
     "text": [
      "Optimization terminated successfully.\n",
      "         Current function value: 0.380721\n",
      "         Iterations 7\n",
      "                         Results: Logit\n",
      "=================================================================\n",
      "Model:              Logit            Pseudo R-squared: 0.425     \n",
      "Dependent Variable: y                AIC:              251.6615  \n",
      "Date:               2021-01-12 20:45 BIC:              266.7348  \n",
      "No. Observations:   320              Log-Likelihood:   -121.83   \n",
      "Df Model:           3                LL-Null:          -211.70   \n",
      "Df Residuals:       316              LLR p-value:      1.0042e-38\n",
      "Converged:          1.0000           Scale:            1.0000    \n",
      "No. Iterations:     7.0000                                       \n",
      "--------------------------------------------------------------------\n",
      "        Coef.     Std.Err.       z       P>|z|      [0.025    0.975]\n",
      "--------------------------------------------------------------------\n",
      "x1     -0.0549      0.1639    -0.3353    0.7374    -0.3761    0.2662\n",
      "x2     -0.1354      0.1612    -0.8399    0.4010    -0.4513    0.1805\n",
      "x3      2.3182      0.2884     8.0394    0.0000     1.7531    2.8834\n",
      "x4      1.4581      0.2283     6.3864    0.0000     1.0106    1.9056\n",
      "=================================================================\n",
      "\n"
     ]
    }
   ],
   "source": [
    "# Baseline model\n",
    "import statsmodels.api as sm\n",
    "lr = sm.Logit(y_train, X_train).fit()\n",
    "print(lr.summary2())"
   ]
  },
  {
   "cell_type": "markdown",
   "metadata": {},
   "source": [
    "Проведем автоматический отбор переменных для того, чтгобы убдедиться в правильности нашего выбора. Как видим, наше предположение о возможности оставить все переменные оказлось правильным. (автоматический отбор также определил переменную Х2 как значимую, но мы не будем бать ее и оставим Х3 и Х4)"
   ]
  },
  {
   "cell_type": "code",
   "execution_count": 17,
   "metadata": {},
   "outputs": [
    {
     "name": "stdout",
     "output_type": "stream",
     "text": [
      "3\n",
      "[False  True  True  True]\n",
      "[2 1 1 1]\n"
     ]
    }
   ],
   "source": [
    "# Automatic Feature Selection\n",
    "from sklearn.feature_selection import RFECV\n",
    "from sklearn.linear_model import LogisticRegression\n",
    "estimator=LogisticRegression(random_state=123)\n",
    "selector=RFECV(estimator, step=1)\n",
    "selector=selector.fit(X_train, y_train)\n",
    "print(selector.n_features_)\n",
    "print(selector.support_)\n",
    "print(selector.ranking_)"
   ]
  },
  {
   "cell_type": "markdown",
   "metadata": {},
   "source": [
    "Выведем индексы отобранных переменных."
   ]
  },
  {
   "cell_type": "code",
   "execution_count": 18,
   "metadata": {},
   "outputs": [
    {
     "name": "stdout",
     "output_type": "stream",
     "text": [
      "[1, 2, 3]\n",
      "№\tIndex\tFeature\n",
      "0\t1\tGender\n",
      "1\t2\tAge\n",
      "2\t3\tEstimatedSalary\n"
     ]
    }
   ],
   "source": [
    "# Selected Features\n",
    "selected_columns=[]\n",
    "for i in range(len(X_train[0])):\n",
    "    if selector.support_[i]==1:\n",
    "        selected_columns.append(i)\n",
    "print(selected_columns)\n",
    "print('№\\tIndex\\tFeature')\n",
    "i=0\n",
    "for column in selected_columns:\n",
    "    print(str(i)+'\\t'+str(column)+'\\t'+str(df.columns[column]))\n",
    "    i=i+1"
   ]
  },
  {
   "cell_type": "markdown",
   "metadata": {},
   "source": [
    "Преобразуем обучающую и тестовую выборки, оставив в ней только значимые переменные. Age и EstimatedSalary"
   ]
  },
  {
   "cell_type": "code",
   "execution_count": 19,
   "metadata": {},
   "outputs": [],
   "source": [
    "# p-value < 1% Features\n",
    "X_train = X_train[:,[2,3]]\n",
    "X_test = X_test[:,[2,3]]"
   ]
  },
  {
   "cell_type": "markdown",
   "metadata": {},
   "source": [
    "Обучим модель логистическй регрессии на 2 переменных."
   ]
  },
  {
   "cell_type": "code",
   "execution_count": 20,
   "metadata": {},
   "outputs": [],
   "source": [
    "# Fitting Logistic Regression to the Training set\n",
    "from sklearn.linear_model import LogisticRegression\n",
    "lr = LogisticRegression(random_state = 13).fit(X_train, y_train)"
   ]
  },
  {
   "cell_type": "markdown",
   "metadata": {},
   "source": [
    "Проведем прогноз на тестовой выборке и оценим качетво модели. Уровень качества высокий, 83,7% объектов распознаны верно."
   ]
  },
  {
   "cell_type": "code",
   "execution_count": 21,
   "metadata": {},
   "outputs": [
    {
     "data": {
      "text/plain": [
       "0.8375"
      ]
     },
     "execution_count": 21,
     "metadata": {},
     "output_type": "execute_result"
    }
   ],
   "source": [
    "# Predicting the Test set results\n",
    "y_pred = lr.predict(X_test)\n",
    "lr.score(X_test,y_test)"
   ]
  },
  {
   "cell_type": "markdown",
   "metadata": {},
   "source": [
    "Выведем таблицу сопряженности, которая показывает, что 6 позитивных объектов распознаны как негативные, а 7\n",
    "негативных определены как позитивные."
   ]
  },
  {
   "cell_type": "code",
   "execution_count": 22,
   "metadata": {},
   "outputs": [
    {
     "name": "stdout",
     "output_type": "stream",
     "text": [
      "[[50  7]\n",
      " [ 6 17]]\n"
     ]
    }
   ],
   "source": [
    "# Making the Confusion Matrix\n",
    "from sklearn.metrics import confusion_matrix\n",
    "cm = confusion_matrix(y_test, y_pred)\n",
    "print(cm)"
   ]
  },
  {
   "cell_type": "markdown",
   "metadata": {},
   "source": [
    "Произведем расчет доли ошибки, чувствителности и специфичности модели."
   ]
  },
  {
   "cell_type": "code",
   "execution_count": 23,
   "metadata": {},
   "outputs": [
    {
     "data": {
      "text/plain": [
       "0.15"
      ]
     },
     "execution_count": 23,
     "metadata": {},
     "output_type": "execute_result"
    }
   ],
   "source": [
    "Error_rate = (5+7)/(80)\n",
    "Error_rate"
   ]
  },
  {
   "cell_type": "code",
   "execution_count": 24,
   "metadata": {},
   "outputs": [
    {
     "data": {
      "text/plain": [
       "0.782608695652174"
      ]
     },
     "execution_count": 24,
     "metadata": {},
     "output_type": "execute_result"
    }
   ],
   "source": [
    "Se = 18/(18+5)\n",
    "Se"
   ]
  },
  {
   "cell_type": "code",
   "execution_count": 25,
   "metadata": {},
   "outputs": [
    {
     "data": {
      "text/plain": [
       "0.8771929824561403"
      ]
     },
     "execution_count": 25,
     "metadata": {},
     "output_type": "execute_result"
    }
   ],
   "source": [
    "Sp = 50/(50+7)\n",
    "Sp"
   ]
  },
  {
   "cell_type": "markdown",
   "metadata": {},
   "source": [
    "Итак, можно увидеть, что в модели логистической регрессии чувствительность составляет 78%, специфичность 87%.Это говорит, что модель приблизительно одинаково пределяет как определяет истинно негативные, так и истинно позитивные случаи. Доля ошибки низкая = 15%, точность высокая = 83,75%. Это наш базовый уровень для построения Нейронной Сети."
   ]
  },
  {
   "cell_type": "markdown",
   "metadata": {},
   "source": [
    "# Classification Neural Network"
   ]
  },
  {
   "cell_type": "markdown",
   "metadata": {},
   "source": [
    "Рассмотрим модель классификации, основанную на нейронных сетях. Импортируем библиотеки, данные и модули."
   ]
  },
  {
   "cell_type": "code",
   "execution_count": 26,
   "metadata": {},
   "outputs": [],
   "source": [
    "# Install Tensorflow\n",
    "# Install Keras\n",
    "# Importing the Keras libraries and packages\n",
    "import keras\n",
    "from keras.models import Sequential\n",
    "from keras.layers import Dense"
   ]
  },
  {
   "cell_type": "markdown",
   "metadata": {},
   "source": [
    "Построим нейронную сеть прямой передачи сигнала. Обычно для этого используется сужающая архитектура, где число нейронов на первом слое не превышает число нейронов на входном слое. Т.к. у нас 2 параметра классификации - на входном слое у нас будет 2 нейронов. Поэтому на первом слое возьмем количество меньшее, равное 5. используем функцию активации \"relu\". На втором слое выберем один нейрон, т.к. одного элемента со значением 0;1 будет достаточно. Число выходов классификатора= число классов -1. Используем сигмоидальную ф-ю, т.к. она изменяется в интервале [0;1]."
   ]
  },
  {
   "cell_type": "code",
   "execution_count": 27,
   "metadata": {},
   "outputs": [],
   "source": [
    "# Initialising the ANN\n",
    "cnn = Sequential()\n",
    "\n",
    "# Adding the input layer and the first hidden layer\n",
    "cnn.add(Dense(units = 1, kernel_initializer = 'uniform', activation = 'relu', input_dim = 2))\n",
    "\n",
    "# Adding the output layer\n",
    "cnn.add(Dense(units = 1, kernel_initializer = 'uniform', activation = 'sigmoid'))\n",
    "\n",
    "# Compiling the ANN\n",
    "cnn.compile(optimizer = 'adam', loss = 'binary_crossentropy', metrics = ['accuracy'])"
   ]
  },
  {
   "cell_type": "markdown",
   "metadata": {},
   "source": [
    "Обучаем модель партиями по 8 объектов в течении 100 эпох."
   ]
  },
  {
   "cell_type": "code",
   "execution_count": 28,
   "metadata": {},
   "outputs": [
    {
     "name": "stdout",
     "output_type": "stream",
     "text": [
      "Epoch 1/100\n",
      "40/40 [==============================] - 0s 10ms/step - loss: 0.6919 - accuracy: 0.6156 - val_loss: 0.6880 - val_accuracy: 0.7125\n",
      "Epoch 2/100\n",
      "40/40 [==============================] - 0s 4ms/step - loss: 0.6881 - accuracy: 0.6250 - val_loss: 0.6809 - val_accuracy: 0.7125\n",
      "Epoch 3/100\n",
      "40/40 [==============================] - 0s 4ms/step - loss: 0.6821 - accuracy: 0.6250 - val_loss: 0.6724 - val_accuracy: 0.7125\n",
      "Epoch 4/100\n",
      "40/40 [==============================] - 0s 3ms/step - loss: 0.6739 - accuracy: 0.6250 - val_loss: 0.6600 - val_accuracy: 0.7125\n",
      "Epoch 5/100\n",
      "40/40 [==============================] - 0s 4ms/step - loss: 0.6637 - accuracy: 0.6250 - val_loss: 0.6440 - val_accuracy: 0.7125\n",
      "Epoch 6/100\n",
      "40/40 [==============================] - 0s 4ms/step - loss: 0.6511 - accuracy: 0.6250 - val_loss: 0.6279 - val_accuracy: 0.7125\n",
      "Epoch 7/100\n",
      "40/40 [==============================] - 0s 3ms/step - loss: 0.6374 - accuracy: 0.6250 - val_loss: 0.6109 - val_accuracy: 0.7125\n",
      "Epoch 8/100\n",
      "40/40 [==============================] - 0s 2ms/step - loss: 0.6233 - accuracy: 0.6250 - val_loss: 0.5924 - val_accuracy: 0.7125\n",
      "Epoch 9/100\n",
      "40/40 [==============================] - 0s 2ms/step - loss: 0.6089 - accuracy: 0.6250 - val_loss: 0.5752 - val_accuracy: 0.7125\n",
      "Epoch 10/100\n",
      "40/40 [==============================] - 0s 2ms/step - loss: 0.5952 - accuracy: 0.6250 - val_loss: 0.5579 - val_accuracy: 0.7125\n",
      "Epoch 11/100\n",
      "40/40 [==============================] - 0s 2ms/step - loss: 0.5817 - accuracy: 0.6250 - val_loss: 0.5427 - val_accuracy: 0.7125\n",
      "Epoch 12/100\n",
      "40/40 [==============================] - 0s 1ms/step - loss: 0.5693 - accuracy: 0.6250 - val_loss: 0.5275 - val_accuracy: 0.7125\n",
      "Epoch 13/100\n",
      "40/40 [==============================] - 0s 2ms/step - loss: 0.5577 - accuracy: 0.6250 - val_loss: 0.5137 - val_accuracy: 0.7125\n",
      "Epoch 14/100\n",
      "40/40 [==============================] - 0s 1ms/step - loss: 0.5469 - accuracy: 0.6250 - val_loss: 0.5021 - val_accuracy: 0.7125\n",
      "Epoch 15/100\n",
      "40/40 [==============================] - 0s 1ms/step - loss: 0.5372 - accuracy: 0.6250 - val_loss: 0.4907 - val_accuracy: 0.7125\n",
      "Epoch 16/100\n",
      "40/40 [==============================] - 0s 1ms/step - loss: 0.5281 - accuracy: 0.6250 - val_loss: 0.4808 - val_accuracy: 0.7125\n",
      "Epoch 17/100\n",
      "40/40 [==============================] - 0s 1ms/step - loss: 0.5198 - accuracy: 0.6250 - val_loss: 0.4718 - val_accuracy: 0.7125\n",
      "Epoch 18/100\n",
      "40/40 [==============================] - 0s 2ms/step - loss: 0.5121 - accuracy: 0.6250 - val_loss: 0.4629 - val_accuracy: 0.7125\n",
      "Epoch 19/100\n",
      "40/40 [==============================] - 0s 2ms/step - loss: 0.5048 - accuracy: 0.6250 - val_loss: 0.4556 - val_accuracy: 0.7125\n",
      "Epoch 20/100\n",
      "40/40 [==============================] - 0s 1ms/step - loss: 0.4980 - accuracy: 0.6250 - val_loss: 0.4484 - val_accuracy: 0.7125\n",
      "Epoch 21/100\n",
      "40/40 [==============================] - 0s 2ms/step - loss: 0.4916 - accuracy: 0.6250 - val_loss: 0.4417 - val_accuracy: 0.7125\n",
      "Epoch 22/100\n",
      "40/40 [==============================] - 0s 2ms/step - loss: 0.4857 - accuracy: 0.6250 - val_loss: 0.4352 - val_accuracy: 0.7125\n",
      "Epoch 23/100\n",
      "40/40 [==============================] - 0s 1ms/step - loss: 0.4800 - accuracy: 0.6250 - val_loss: 0.4294 - val_accuracy: 0.7125\n",
      "Epoch 24/100\n",
      "40/40 [==============================] - 0s 2ms/step - loss: 0.4749 - accuracy: 0.6250 - val_loss: 0.4239 - val_accuracy: 0.7125\n",
      "Epoch 25/100\n",
      "40/40 [==============================] - 0s 1ms/step - loss: 0.4692 - accuracy: 0.6750 - val_loss: 0.4191 - val_accuracy: 0.8000\n",
      "Epoch 26/100\n",
      "40/40 [==============================] - 0s 2ms/step - loss: 0.4644 - accuracy: 0.8156 - val_loss: 0.4140 - val_accuracy: 0.8000\n",
      "Epoch 27/100\n",
      "40/40 [==============================] - 0s 2ms/step - loss: 0.4596 - accuracy: 0.8156 - val_loss: 0.4100 - val_accuracy: 0.8125\n",
      "Epoch 28/100\n",
      "40/40 [==============================] - 0s 2ms/step - loss: 0.4550 - accuracy: 0.8219 - val_loss: 0.4059 - val_accuracy: 0.8125\n",
      "Epoch 29/100\n",
      "40/40 [==============================] - 0s 2ms/step - loss: 0.4506 - accuracy: 0.8219 - val_loss: 0.4020 - val_accuracy: 0.8125\n",
      "Epoch 30/100\n",
      "40/40 [==============================] - 0s 2ms/step - loss: 0.4465 - accuracy: 0.8250 - val_loss: 0.3982 - val_accuracy: 0.8125\n",
      "Epoch 31/100\n",
      "40/40 [==============================] - 0s 3ms/step - loss: 0.4423 - accuracy: 0.8250 - val_loss: 0.3950 - val_accuracy: 0.8125\n",
      "Epoch 32/100\n",
      "40/40 [==============================] - 0s 2ms/step - loss: 0.4384 - accuracy: 0.8250 - val_loss: 0.3911 - val_accuracy: 0.8125\n",
      "Epoch 33/100\n",
      "40/40 [==============================] - 0s 2ms/step - loss: 0.4346 - accuracy: 0.8250 - val_loss: 0.3880 - val_accuracy: 0.8250\n",
      "Epoch 34/100\n",
      "40/40 [==============================] - 0s 3ms/step - loss: 0.4308 - accuracy: 0.8219 - val_loss: 0.3849 - val_accuracy: 0.8250\n",
      "Epoch 35/100\n",
      "40/40 [==============================] - 0s 2ms/step - loss: 0.4273 - accuracy: 0.8313 - val_loss: 0.3822 - val_accuracy: 0.8250\n",
      "Epoch 36/100\n",
      "40/40 [==============================] - 0s 2ms/step - loss: 0.4239 - accuracy: 0.8375 - val_loss: 0.3793 - val_accuracy: 0.8250\n",
      "Epoch 37/100\n",
      "40/40 [==============================] - 0s 2ms/step - loss: 0.4207 - accuracy: 0.8438 - val_loss: 0.3766 - val_accuracy: 0.8250\n",
      "Epoch 38/100\n",
      "40/40 [==============================] - 0s 2ms/step - loss: 0.4178 - accuracy: 0.8438 - val_loss: 0.3743 - val_accuracy: 0.8250\n",
      "Epoch 39/100\n",
      "40/40 [==============================] - 0s 2ms/step - loss: 0.4144 - accuracy: 0.8469 - val_loss: 0.3717 - val_accuracy: 0.8250\n",
      "Epoch 40/100\n",
      "40/40 [==============================] - 0s 2ms/step - loss: 0.4116 - accuracy: 0.8469 - val_loss: 0.3698 - val_accuracy: 0.8375\n",
      "Epoch 41/100\n",
      "40/40 [==============================] - 0s 2ms/step - loss: 0.4088 - accuracy: 0.8469 - val_loss: 0.3678 - val_accuracy: 0.8375\n",
      "Epoch 42/100\n",
      "40/40 [==============================] - 0s 2ms/step - loss: 0.4060 - accuracy: 0.8469 - val_loss: 0.3657 - val_accuracy: 0.8375\n",
      "Epoch 43/100\n",
      "40/40 [==============================] - 0s 2ms/step - loss: 0.4033 - accuracy: 0.8406 - val_loss: 0.3636 - val_accuracy: 0.8375\n",
      "Epoch 44/100\n",
      "40/40 [==============================] - 0s 2ms/step - loss: 0.4008 - accuracy: 0.8406 - val_loss: 0.3619 - val_accuracy: 0.8375\n",
      "Epoch 45/100\n",
      "40/40 [==============================] - 0s 2ms/step - loss: 0.3985 - accuracy: 0.8438 - val_loss: 0.3601 - val_accuracy: 0.8375\n",
      "Epoch 46/100\n",
      "40/40 [==============================] - 0s 2ms/step - loss: 0.3961 - accuracy: 0.8469 - val_loss: 0.3581 - val_accuracy: 0.8375\n",
      "Epoch 47/100\n",
      "40/40 [==============================] - 0s 2ms/step - loss: 0.3938 - accuracy: 0.8531 - val_loss: 0.3571 - val_accuracy: 0.8500\n",
      "Epoch 48/100\n",
      "40/40 [==============================] - 0s 2ms/step - loss: 0.3917 - accuracy: 0.8531 - val_loss: 0.3554 - val_accuracy: 0.8500\n",
      "Epoch 49/100\n",
      "40/40 [==============================] - 0s 3ms/step - loss: 0.3895 - accuracy: 0.8531 - val_loss: 0.3537 - val_accuracy: 0.8500\n",
      "Epoch 50/100\n",
      "40/40 [==============================] - 0s 2ms/step - loss: 0.3874 - accuracy: 0.8531 - val_loss: 0.3528 - val_accuracy: 0.8500\n",
      "Epoch 51/100\n",
      "40/40 [==============================] - 0s 2ms/step - loss: 0.3855 - accuracy: 0.8531 - val_loss: 0.3520 - val_accuracy: 0.8500\n",
      "Epoch 52/100\n",
      "40/40 [==============================] - 0s 2ms/step - loss: 0.3836 - accuracy: 0.8531 - val_loss: 0.3506 - val_accuracy: 0.8500\n",
      "Epoch 53/100\n",
      "40/40 [==============================] - 0s 2ms/step - loss: 0.3818 - accuracy: 0.8500 - val_loss: 0.3496 - val_accuracy: 0.8500\n",
      "Epoch 54/100\n",
      "40/40 [==============================] - 0s 2ms/step - loss: 0.3799 - accuracy: 0.8500 - val_loss: 0.3483 - val_accuracy: 0.8500\n",
      "Epoch 55/100\n",
      "40/40 [==============================] - 0s 2ms/step - loss: 0.3784 - accuracy: 0.8531 - val_loss: 0.3473 - val_accuracy: 0.8625\n",
      "Epoch 56/100\n",
      "40/40 [==============================] - 0s 2ms/step - loss: 0.3768 - accuracy: 0.8531 - val_loss: 0.3467 - val_accuracy: 0.8625\n",
      "Epoch 57/100\n",
      "40/40 [==============================] - 0s 3ms/step - loss: 0.3750 - accuracy: 0.8531 - val_loss: 0.3455 - val_accuracy: 0.8625\n",
      "Epoch 58/100\n",
      "40/40 [==============================] - 0s 2ms/step - loss: 0.3736 - accuracy: 0.8531 - val_loss: 0.3447 - val_accuracy: 0.8625\n"
     ]
    },
    {
     "name": "stdout",
     "output_type": "stream",
     "text": [
      "Epoch 59/100\n",
      "40/40 [==============================] - 0s 2ms/step - loss: 0.3720 - accuracy: 0.8531 - val_loss: 0.3438 - val_accuracy: 0.8625\n",
      "Epoch 60/100\n",
      "40/40 [==============================] - 0s 2ms/step - loss: 0.3706 - accuracy: 0.8531 - val_loss: 0.3432 - val_accuracy: 0.8625\n",
      "Epoch 61/100\n",
      "40/40 [==============================] - 0s 2ms/step - loss: 0.3691 - accuracy: 0.8562 - val_loss: 0.3422 - val_accuracy: 0.8625\n",
      "Epoch 62/100\n",
      "40/40 [==============================] - 0s 2ms/step - loss: 0.3680 - accuracy: 0.8562 - val_loss: 0.3416 - val_accuracy: 0.8625\n",
      "Epoch 63/100\n",
      "40/40 [==============================] - 0s 3ms/step - loss: 0.3665 - accuracy: 0.8562 - val_loss: 0.3410 - val_accuracy: 0.8625\n",
      "Epoch 64/100\n",
      "40/40 [==============================] - 0s 2ms/step - loss: 0.3652 - accuracy: 0.8594 - val_loss: 0.3401 - val_accuracy: 0.8625\n",
      "Epoch 65/100\n",
      "40/40 [==============================] - 0s 2ms/step - loss: 0.3640 - accuracy: 0.8594 - val_loss: 0.3396 - val_accuracy: 0.8625\n",
      "Epoch 66/100\n",
      "40/40 [==============================] - 0s 2ms/step - loss: 0.3628 - accuracy: 0.8594 - val_loss: 0.3391 - val_accuracy: 0.8625\n",
      "Epoch 67/100\n",
      "40/40 [==============================] - 0s 2ms/step - loss: 0.3616 - accuracy: 0.8594 - val_loss: 0.3387 - val_accuracy: 0.8625\n",
      "Epoch 68/100\n",
      "40/40 [==============================] - 0s 3ms/step - loss: 0.3605 - accuracy: 0.8625 - val_loss: 0.3380 - val_accuracy: 0.8625\n",
      "Epoch 69/100\n",
      "40/40 [==============================] - 0s 2ms/step - loss: 0.3596 - accuracy: 0.8625 - val_loss: 0.3381 - val_accuracy: 0.8625\n",
      "Epoch 70/100\n",
      "40/40 [==============================] - 0s 2ms/step - loss: 0.3584 - accuracy: 0.8625 - val_loss: 0.3372 - val_accuracy: 0.8625\n",
      "Epoch 71/100\n",
      "40/40 [==============================] - 0s 2ms/step - loss: 0.3573 - accuracy: 0.8625 - val_loss: 0.3368 - val_accuracy: 0.8625\n",
      "Epoch 72/100\n",
      "40/40 [==============================] - 0s 2ms/step - loss: 0.3564 - accuracy: 0.8625 - val_loss: 0.3364 - val_accuracy: 0.8625\n",
      "Epoch 73/100\n",
      "40/40 [==============================] - 0s 2ms/step - loss: 0.3555 - accuracy: 0.8625 - val_loss: 0.3363 - val_accuracy: 0.8500\n",
      "Epoch 74/100\n",
      "40/40 [==============================] - 0s 2ms/step - loss: 0.3547 - accuracy: 0.8531 - val_loss: 0.3359 - val_accuracy: 0.8500\n",
      "Epoch 75/100\n",
      "40/40 [==============================] - 0s 2ms/step - loss: 0.3536 - accuracy: 0.8531 - val_loss: 0.3358 - val_accuracy: 0.8500\n",
      "Epoch 76/100\n",
      "40/40 [==============================] - 0s 2ms/step - loss: 0.3530 - accuracy: 0.8500 - val_loss: 0.3360 - val_accuracy: 0.8500\n",
      "Epoch 77/100\n",
      "40/40 [==============================] - 0s 2ms/step - loss: 0.3519 - accuracy: 0.8531 - val_loss: 0.3353 - val_accuracy: 0.8500\n",
      "Epoch 78/100\n",
      "40/40 [==============================] - 0s 3ms/step - loss: 0.3509 - accuracy: 0.8438 - val_loss: 0.3350 - val_accuracy: 0.8500\n",
      "Epoch 79/100\n",
      "40/40 [==============================] - 0s 2ms/step - loss: 0.3503 - accuracy: 0.8438 - val_loss: 0.3350 - val_accuracy: 0.8500\n",
      "Epoch 80/100\n",
      "40/40 [==============================] - 0s 2ms/step - loss: 0.3494 - accuracy: 0.8438 - val_loss: 0.3348 - val_accuracy: 0.8500\n",
      "Epoch 81/100\n",
      "40/40 [==============================] - 0s 2ms/step - loss: 0.3487 - accuracy: 0.8438 - val_loss: 0.3343 - val_accuracy: 0.8500\n",
      "Epoch 82/100\n",
      "40/40 [==============================] - 0s 2ms/step - loss: 0.3481 - accuracy: 0.8406 - val_loss: 0.3343 - val_accuracy: 0.8500\n",
      "Epoch 83/100\n",
      "40/40 [==============================] - 0s 2ms/step - loss: 0.3473 - accuracy: 0.8438 - val_loss: 0.3342 - val_accuracy: 0.8500\n",
      "Epoch 84/100\n",
      "40/40 [==============================] - 0s 3ms/step - loss: 0.3466 - accuracy: 0.8438 - val_loss: 0.3338 - val_accuracy: 0.8500\n",
      "Epoch 85/100\n",
      "40/40 [==============================] - 0s 2ms/step - loss: 0.3460 - accuracy: 0.8438 - val_loss: 0.3338 - val_accuracy: 0.8500\n",
      "Epoch 86/100\n",
      "40/40 [==============================] - 0s 2ms/step - loss: 0.3455 - accuracy: 0.8438 - val_loss: 0.3332 - val_accuracy: 0.8500\n",
      "Epoch 87/100\n",
      "40/40 [==============================] - 0s 2ms/step - loss: 0.3447 - accuracy: 0.8469 - val_loss: 0.3337 - val_accuracy: 0.8375\n",
      "Epoch 88/100\n",
      "40/40 [==============================] - 0s 2ms/step - loss: 0.3442 - accuracy: 0.8438 - val_loss: 0.3333 - val_accuracy: 0.8500\n",
      "Epoch 89/100\n",
      "40/40 [==============================] - 0s 3ms/step - loss: 0.3434 - accuracy: 0.8469 - val_loss: 0.3328 - val_accuracy: 0.8375\n",
      "Epoch 90/100\n",
      "40/40 [==============================] - 0s 2ms/step - loss: 0.3429 - accuracy: 0.8438 - val_loss: 0.3334 - val_accuracy: 0.8375\n",
      "Epoch 91/100\n",
      "40/40 [==============================] - 0s 2ms/step - loss: 0.3423 - accuracy: 0.8438 - val_loss: 0.3334 - val_accuracy: 0.8375\n",
      "Epoch 92/100\n",
      "40/40 [==============================] - 0s 2ms/step - loss: 0.3418 - accuracy: 0.8438 - val_loss: 0.3328 - val_accuracy: 0.8375\n",
      "Epoch 93/100\n",
      "40/40 [==============================] - 0s 2ms/step - loss: 0.3412 - accuracy: 0.8438 - val_loss: 0.3331 - val_accuracy: 0.8375\n",
      "Epoch 94/100\n",
      "40/40 [==============================] - 0s 2ms/step - loss: 0.3408 - accuracy: 0.8438 - val_loss: 0.3328 - val_accuracy: 0.8375\n",
      "Epoch 95/100\n",
      "40/40 [==============================] - 0s 2ms/step - loss: 0.3403 - accuracy: 0.8438 - val_loss: 0.3328 - val_accuracy: 0.8375\n",
      "Epoch 96/100\n",
      "40/40 [==============================] - 0s 2ms/step - loss: 0.3397 - accuracy: 0.8406 - val_loss: 0.3329 - val_accuracy: 0.8375\n",
      "Epoch 97/100\n",
      "40/40 [==============================] - 0s 3ms/step - loss: 0.3392 - accuracy: 0.8406 - val_loss: 0.3326 - val_accuracy: 0.8375\n",
      "Epoch 98/100\n",
      "40/40 [==============================] - 0s 2ms/step - loss: 0.3390 - accuracy: 0.8406 - val_loss: 0.3323 - val_accuracy: 0.8375\n",
      "Epoch 99/100\n",
      "40/40 [==============================] - 0s 3ms/step - loss: 0.3385 - accuracy: 0.8406 - val_loss: 0.3324 - val_accuracy: 0.8375\n",
      "Epoch 100/100\n",
      "40/40 [==============================] - 0s 2ms/step - loss: 0.3380 - accuracy: 0.8406 - val_loss: 0.3327 - val_accuracy: 0.8375\n"
     ]
    }
   ],
   "source": [
    "# Fitting the ANN to the Training set\n",
    "history = cnn.fit(X_train, y_train, batch_size = 8, epochs = 100, validation_data=(X_test, y_test))"
   ]
  },
  {
   "cell_type": "markdown",
   "metadata": {},
   "source": [
    "Произведем прогноз на тестовой выборке, задав порог = 0,6"
   ]
  },
  {
   "cell_type": "code",
   "execution_count": 29,
   "metadata": {},
   "outputs": [],
   "source": [
    "# Predicting the Test set results\n",
    "y_pred = cnn.predict(X_test)\n",
    "y_pred = (y_pred > 0.6)"
   ]
  },
  {
   "cell_type": "markdown",
   "metadata": {},
   "source": [
    "Выведем таблицу сопряженности, которая показывает, что 6 позитивных объектов распознаны как негативные, а 7\n",
    "негативных определены как позитивные."
   ]
  },
  {
   "cell_type": "code",
   "execution_count": 30,
   "metadata": {},
   "outputs": [
    {
     "name": "stdout",
     "output_type": "stream",
     "text": [
      "[[50  7]\n",
      " [ 6 17]]\n"
     ]
    }
   ],
   "source": [
    "# Making the Confusion Matrix\n",
    "from sklearn.metrics import confusion_matrix\n",
    "cm = confusion_matrix(y_test, y_pred)\n",
    "print(cm)"
   ]
  },
  {
   "cell_type": "markdown",
   "metadata": {},
   "source": [
    "Произведем расчет доли ошибки, чувствителности и специфичности модели."
   ]
  },
  {
   "cell_type": "code",
   "execution_count": 32,
   "metadata": {},
   "outputs": [
    {
     "data": {
      "text/plain": [
       "0.8375"
      ]
     },
     "execution_count": 32,
     "metadata": {},
     "output_type": "execute_result"
    }
   ],
   "source": [
    "Accurary_rate = (50+17)/(80)\n",
    "Accurary_rate"
   ]
  },
  {
   "cell_type": "code",
   "execution_count": 33,
   "metadata": {},
   "outputs": [
    {
     "data": {
      "text/plain": [
       "0.1625"
      ]
     },
     "execution_count": 33,
     "metadata": {},
     "output_type": "execute_result"
    }
   ],
   "source": [
    "Error_rate = (6+7)/(80)\n",
    "Error_rate"
   ]
  },
  {
   "cell_type": "code",
   "execution_count": 34,
   "metadata": {},
   "outputs": [
    {
     "data": {
      "text/plain": [
       "0.7391304347826086"
      ]
     },
     "execution_count": 34,
     "metadata": {},
     "output_type": "execute_result"
    }
   ],
   "source": [
    "Se = 17/(17+6)\n",
    "Se"
   ]
  },
  {
   "cell_type": "code",
   "execution_count": 35,
   "metadata": {},
   "outputs": [
    {
     "data": {
      "text/plain": [
       "0.8771929824561403"
      ]
     },
     "execution_count": 35,
     "metadata": {},
     "output_type": "execute_result"
    }
   ],
   "source": [
    "Sp = 50/(50+7)\n",
    "Sp"
   ]
  },
  {
   "cell_type": "markdown",
   "metadata": {},
   "source": [
    "По сравнению с простой логистической регрессией(83.7%) модель НС имеет абсолютно одинаковую точность = 83,75%. Доля ошибок увеличилась с 15 % до 16,25.\n",
    "При этом снизилась чувстивельность с 78% до 73%, а специфичность осталась такой же 87,7%  "
   ]
  },
  {
   "cell_type": "markdown",
   "metadata": {},
   "source": [
    "Вывод:\n",
    "* обе можели одинаково хорошо описывают нашу выборку данных. По моему мнению, их можно использовать обе. "
   ]
  },
  {
   "cell_type": "markdown",
   "metadata": {},
   "source": [
    "Hierarchical Clustering"
   ]
  },
  {
   "cell_type": "markdown",
   "metadata": {},
   "source": [
    "Рассмотрим метод для определения оптиального числа кластеров - метод дерева решений. Импортируем библиотеки, данные и модули."
   ]
  },
  {
   "cell_type": "code",
   "execution_count": 36,
   "metadata": {},
   "outputs": [],
   "source": [
    "# Importing the libraries\n",
    "import numpy as np\n",
    "import matplotlib.pyplot as plt\n",
    "import pandas as pd"
   ]
  },
  {
   "cell_type": "markdown",
   "metadata": {},
   "source": [
    "Выведем данные на экран чтобы убедиться в правильности отображения. Имеем 5 колонок и 400 строк."
   ]
  },
  {
   "cell_type": "code",
   "execution_count": 37,
   "metadata": {
    "scrolled": true
   },
   "outputs": [
    {
     "data": {
      "text/html": [
       "<div>\n",
       "<style scoped>\n",
       "    .dataframe tbody tr th:only-of-type {\n",
       "        vertical-align: middle;\n",
       "    }\n",
       "\n",
       "    .dataframe tbody tr th {\n",
       "        vertical-align: top;\n",
       "    }\n",
       "\n",
       "    .dataframe thead th {\n",
       "        text-align: right;\n",
       "    }\n",
       "</style>\n",
       "<table border=\"1\" class=\"dataframe\">\n",
       "  <thead>\n",
       "    <tr style=\"text-align: right;\">\n",
       "      <th></th>\n",
       "      <th>User ID</th>\n",
       "      <th>Gender</th>\n",
       "      <th>Age</th>\n",
       "      <th>EstimatedSalary</th>\n",
       "      <th>Purchased</th>\n",
       "    </tr>\n",
       "  </thead>\n",
       "  <tbody>\n",
       "    <tr>\n",
       "      <th>0</th>\n",
       "      <td>15624510.0</td>\n",
       "      <td>0</td>\n",
       "      <td>19.0</td>\n",
       "      <td>19000.0</td>\n",
       "      <td>0.0</td>\n",
       "    </tr>\n",
       "    <tr>\n",
       "      <th>1</th>\n",
       "      <td>15810944.0</td>\n",
       "      <td>0</td>\n",
       "      <td>35.0</td>\n",
       "      <td>20000.0</td>\n",
       "      <td>0.0</td>\n",
       "    </tr>\n",
       "    <tr>\n",
       "      <th>2</th>\n",
       "      <td>15668575.0</td>\n",
       "      <td>1</td>\n",
       "      <td>26.0</td>\n",
       "      <td>43000.0</td>\n",
       "      <td>0.0</td>\n",
       "    </tr>\n",
       "    <tr>\n",
       "      <th>3</th>\n",
       "      <td>15603246.0</td>\n",
       "      <td>1</td>\n",
       "      <td>27.0</td>\n",
       "      <td>57000.0</td>\n",
       "      <td>0.0</td>\n",
       "    </tr>\n",
       "    <tr>\n",
       "      <th>4</th>\n",
       "      <td>15804002.0</td>\n",
       "      <td>0</td>\n",
       "      <td>19.0</td>\n",
       "      <td>76000.0</td>\n",
       "      <td>0.0</td>\n",
       "    </tr>\n",
       "    <tr>\n",
       "      <th>...</th>\n",
       "      <td>...</td>\n",
       "      <td>...</td>\n",
       "      <td>...</td>\n",
       "      <td>...</td>\n",
       "      <td>...</td>\n",
       "    </tr>\n",
       "    <tr>\n",
       "      <th>395</th>\n",
       "      <td>15691863.0</td>\n",
       "      <td>1</td>\n",
       "      <td>46.0</td>\n",
       "      <td>41000.0</td>\n",
       "      <td>1.0</td>\n",
       "    </tr>\n",
       "    <tr>\n",
       "      <th>396</th>\n",
       "      <td>15706071.0</td>\n",
       "      <td>0</td>\n",
       "      <td>51.0</td>\n",
       "      <td>23000.0</td>\n",
       "      <td>1.0</td>\n",
       "    </tr>\n",
       "    <tr>\n",
       "      <th>397</th>\n",
       "      <td>15654296.0</td>\n",
       "      <td>1</td>\n",
       "      <td>50.0</td>\n",
       "      <td>20000.0</td>\n",
       "      <td>1.0</td>\n",
       "    </tr>\n",
       "    <tr>\n",
       "      <th>398</th>\n",
       "      <td>15755018.0</td>\n",
       "      <td>0</td>\n",
       "      <td>36.0</td>\n",
       "      <td>33000.0</td>\n",
       "      <td>0.0</td>\n",
       "    </tr>\n",
       "    <tr>\n",
       "      <th>399</th>\n",
       "      <td>15594041.0</td>\n",
       "      <td>1</td>\n",
       "      <td>49.0</td>\n",
       "      <td>36000.0</td>\n",
       "      <td>1.0</td>\n",
       "    </tr>\n",
       "  </tbody>\n",
       "</table>\n",
       "<p>400 rows × 5 columns</p>\n",
       "</div>"
      ],
      "text/plain": [
       "        User ID  Gender   Age  EstimatedSalary  Purchased\n",
       "0    15624510.0       0  19.0          19000.0        0.0\n",
       "1    15810944.0       0  35.0          20000.0        0.0\n",
       "2    15668575.0       1  26.0          43000.0        0.0\n",
       "3    15603246.0       1  27.0          57000.0        0.0\n",
       "4    15804002.0       0  19.0          76000.0        0.0\n",
       "..          ...     ...   ...              ...        ...\n",
       "395  15691863.0       1  46.0          41000.0        1.0\n",
       "396  15706071.0       0  51.0          23000.0        1.0\n",
       "397  15654296.0       1  50.0          20000.0        1.0\n",
       "398  15755018.0       0  36.0          33000.0        0.0\n",
       "399  15594041.0       1  49.0          36000.0        1.0\n",
       "\n",
       "[400 rows x 5 columns]"
      ]
     },
     "execution_count": 37,
     "metadata": {},
     "output_type": "execute_result"
    }
   ],
   "source": [
    "df"
   ]
  },
  {
   "cell_type": "markdown",
   "metadata": {},
   "source": [
    "Отшкалируем данные, используя MinMaxScaler, переведя наши данные в диапазон от 0 до 1 с округлением.  Используем мин-макс шкалирование т.к. он не внесет никаких дополнительных изменений. Вывыдем результат в таблицу, подписав соответственно названия столбцов."
   ]
  },
  {
   "cell_type": "code",
   "execution_count": 38,
   "metadata": {},
   "outputs": [
    {
     "data": {
      "text/html": [
       "<div>\n",
       "<style scoped>\n",
       "    .dataframe tbody tr th:only-of-type {\n",
       "        vertical-align: middle;\n",
       "    }\n",
       "\n",
       "    .dataframe tbody tr th {\n",
       "        vertical-align: top;\n",
       "    }\n",
       "\n",
       "    .dataframe thead th {\n",
       "        text-align: right;\n",
       "    }\n",
       "</style>\n",
       "<table border=\"1\" class=\"dataframe\">\n",
       "  <thead>\n",
       "    <tr style=\"text-align: right;\">\n",
       "      <th></th>\n",
       "      <th>User ID</th>\n",
       "      <th>Gender</th>\n",
       "      <th>Age</th>\n",
       "      <th>EstimatedSalary</th>\n",
       "      <th>Purchased</th>\n",
       "    </tr>\n",
       "  </thead>\n",
       "  <tbody>\n",
       "    <tr>\n",
       "      <th>0</th>\n",
       "      <td>0.0</td>\n",
       "      <td>0.0</td>\n",
       "      <td>0.0</td>\n",
       "      <td>0.0</td>\n",
       "      <td>0.0</td>\n",
       "    </tr>\n",
       "    <tr>\n",
       "      <th>1</th>\n",
       "      <td>1.0</td>\n",
       "      <td>0.0</td>\n",
       "      <td>0.0</td>\n",
       "      <td>0.0</td>\n",
       "      <td>0.0</td>\n",
       "    </tr>\n",
       "    <tr>\n",
       "      <th>2</th>\n",
       "      <td>0.0</td>\n",
       "      <td>1.0</td>\n",
       "      <td>0.0</td>\n",
       "      <td>0.0</td>\n",
       "      <td>0.0</td>\n",
       "    </tr>\n",
       "    <tr>\n",
       "      <th>3</th>\n",
       "      <td>0.0</td>\n",
       "      <td>1.0</td>\n",
       "      <td>0.0</td>\n",
       "      <td>0.0</td>\n",
       "      <td>0.0</td>\n",
       "    </tr>\n",
       "    <tr>\n",
       "      <th>4</th>\n",
       "      <td>1.0</td>\n",
       "      <td>0.0</td>\n",
       "      <td>0.0</td>\n",
       "      <td>0.0</td>\n",
       "      <td>0.0</td>\n",
       "    </tr>\n",
       "    <tr>\n",
       "      <th>...</th>\n",
       "      <td>...</td>\n",
       "      <td>...</td>\n",
       "      <td>...</td>\n",
       "      <td>...</td>\n",
       "      <td>...</td>\n",
       "    </tr>\n",
       "    <tr>\n",
       "      <th>395</th>\n",
       "      <td>1.0</td>\n",
       "      <td>1.0</td>\n",
       "      <td>1.0</td>\n",
       "      <td>0.0</td>\n",
       "      <td>1.0</td>\n",
       "    </tr>\n",
       "    <tr>\n",
       "      <th>396</th>\n",
       "      <td>1.0</td>\n",
       "      <td>0.0</td>\n",
       "      <td>1.0</td>\n",
       "      <td>0.0</td>\n",
       "      <td>1.0</td>\n",
       "    </tr>\n",
       "    <tr>\n",
       "      <th>397</th>\n",
       "      <td>0.0</td>\n",
       "      <td>1.0</td>\n",
       "      <td>1.0</td>\n",
       "      <td>0.0</td>\n",
       "      <td>1.0</td>\n",
       "    </tr>\n",
       "    <tr>\n",
       "      <th>398</th>\n",
       "      <td>1.0</td>\n",
       "      <td>0.0</td>\n",
       "      <td>0.0</td>\n",
       "      <td>0.0</td>\n",
       "      <td>0.0</td>\n",
       "    </tr>\n",
       "    <tr>\n",
       "      <th>399</th>\n",
       "      <td>0.0</td>\n",
       "      <td>1.0</td>\n",
       "      <td>1.0</td>\n",
       "      <td>0.0</td>\n",
       "      <td>1.0</td>\n",
       "    </tr>\n",
       "  </tbody>\n",
       "</table>\n",
       "<p>400 rows × 5 columns</p>\n",
       "</div>"
      ],
      "text/plain": [
       "     User ID  Gender  Age  EstimatedSalary  Purchased\n",
       "0        0.0     0.0  0.0              0.0        0.0\n",
       "1        1.0     0.0  0.0              0.0        0.0\n",
       "2        0.0     1.0  0.0              0.0        0.0\n",
       "3        0.0     1.0  0.0              0.0        0.0\n",
       "4        1.0     0.0  0.0              0.0        0.0\n",
       "..       ...     ...  ...              ...        ...\n",
       "395      1.0     1.0  1.0              0.0        1.0\n",
       "396      1.0     0.0  1.0              0.0        1.0\n",
       "397      0.0     1.0  1.0              0.0        1.0\n",
       "398      1.0     0.0  0.0              0.0        0.0\n",
       "399      0.0     1.0  1.0              0.0        1.0\n",
       "\n",
       "[400 rows x 5 columns]"
      ]
     },
     "execution_count": 38,
     "metadata": {},
     "output_type": "execute_result"
    }
   ],
   "source": [
    "# Feature Scaling\n",
    "from sklearn.preprocessing import MinMaxScaler\n",
    "sc = MinMaxScaler().fit(df)\n",
    "df = sc.transform(df)\n",
    "pd.DataFrame(df, columns = ['User ID','Gender','Age','EstimatedSalary','Purchased']).round()"
   ]
  },
  {
   "cell_type": "markdown",
   "metadata": {},
   "source": [
    "Используем способ дерева решений или дендрограммы для определения количества кластеров"
   ]
  },
  {
   "cell_type": "code",
   "execution_count": 39,
   "metadata": {},
   "outputs": [
    {
     "data": {
      "image/png": "[encoded data removed]",
      "text/plain": [
       "<Figure size 432x288 with 1 Axes>"
      ]
     },
     "metadata": {},
     "output_type": "display_data"
    }
   ],
   "source": [
    "# Using the dendrogram to find the optimal number of clusters\n",
    "import scipy.cluster.hierarchy as sch\n",
    "dendrogram = sch.dendrogram(sch.linkage(df, method = 'ward'))\n",
    "plt.title('Dendrogram')\n",
    "plt.xlabel('Customers')\n",
    "plt.ylabel('Euclidean distances')\n",
    "plt.show()"
   ]
  },
  {
   "cell_type": "markdown",
   "metadata": {},
   "source": [
    "Как видим, тут можно выделить три кластера, также можно разбить и на 6 кластеров. Существует вариант деления на 2 кластера, но это не представляет для нас интереса. "
   ]
  },
  {
   "cell_type": "markdown",
   "metadata": {},
   "source": [
    "Проведем деление на 3 кластера. "
   ]
  },
  {
   "cell_type": "code",
   "execution_count": 40,
   "metadata": {},
   "outputs": [],
   "source": [
    "# Fitting Hierarchical Clustering to the dataset\n",
    "from sklearn.cluster import AgglomerativeClustering\n",
    "hc = AgglomerativeClustering(n_clusters = 3, affinity = 'euclidean', linkage = 'ward').fit_predict(df)"
   ]
  },
  {
   "cell_type": "code",
   "execution_count": 41,
   "metadata": {},
   "outputs": [
    {
     "data": {
      "text/plain": [
       "array([2, 2, 1, 1, 2, 2, 1, 0, 2, 1, 1, 1, 2, 2, 2, 2, 0, 0, 0, 0, 0, 0,\n",
       "       0, 0, 0, 0, 0, 0, 2, 2, 2, 0, 1, 1, 2, 2, 1, 2, 1, 1, 1, 1, 2, 2,\n",
       "       1, 2, 2, 1, 0, 1, 1, 1, 1, 1, 1, 1, 1, 2, 2, 1, 2, 2, 1, 0, 1, 2,\n",
       "       2, 1, 1, 1, 2, 1, 1, 1, 2, 0, 2, 1, 1, 1, 2, 2, 2, 2, 1, 0, 2, 1,\n",
       "       2, 2, 2, 1, 2, 1, 1, 1, 1, 0, 2, 1, 2, 2, 1, 0, 1, 2, 1, 2, 2, 1,\n",
       "       1, 1, 2, 2, 2, 2, 2, 2, 2, 2, 1, 2, 1, 2, 1, 1, 2, 2, 2, 1, 2, 2,\n",
       "       2, 1, 1, 2, 1, 0, 1, 2, 2, 1, 2, 2, 1, 1, 0, 1, 2, 2, 1, 2, 2, 1,\n",
       "       2, 1, 2, 2, 2, 0, 0, 2, 1, 2, 1, 1, 1, 1, 0, 1, 2, 2, 1, 1, 1, 1,\n",
       "       1, 2, 2, 1, 2, 1, 0, 2, 1, 2, 1, 1, 2, 2, 2, 1, 2, 2, 2, 2, 1, 1,\n",
       "       2, 2, 2, 2, 0, 1, 0, 1, 0, 1, 0, 1, 0, 0, 1, 2, 2, 0, 2, 2, 1, 0,\n",
       "       1, 0, 0, 0, 1, 2, 0, 0, 1, 0, 0, 2, 0, 0, 1, 0, 2, 1, 1, 0, 0, 2,\n",
       "       0, 0, 1, 0, 1, 0, 2, 0, 1, 2, 0, 0, 1, 0, 1, 2, 0, 0, 1, 0, 0, 1,\n",
       "       0, 0, 2, 2, 0, 2, 1, 0, 0, 0, 0, 0, 2, 0, 0, 0, 0, 2, 0, 0, 2, 0,\n",
       "       1, 0, 2, 0, 0, 0, 0, 2, 1, 1, 0, 0, 2, 0, 0, 0, 0, 0, 1, 2, 1, 0,\n",
       "       0, 1, 1, 0, 1, 0, 1, 0, 0, 2, 0, 2, 0, 0, 2, 0, 0, 1, 2, 1, 0, 0,\n",
       "       2, 0, 2, 2, 0, 1, 0, 2, 1, 0, 0, 2, 1, 0, 0, 1, 0, 0, 2, 2, 0, 2,\n",
       "       0, 1, 0, 0, 0, 1, 0, 2, 0, 0, 0, 1, 0, 0, 0, 0, 2, 0, 0, 0, 1, 0,\n",
       "       1, 0, 1, 1, 0, 0, 2, 0, 0, 0, 0, 0, 0, 2, 0, 0, 0, 0, 0, 0, 1, 0,\n",
       "       0, 0, 2, 0], dtype=int64)"
      ]
     },
     "execution_count": 41,
     "metadata": {},
     "output_type": "execute_result"
    }
   ],
   "source": [
    "hc"
   ]
  },
  {
   "cell_type": "code",
   "execution_count": 43,
   "metadata": {},
   "outputs": [],
   "source": [
    "# Export hc clusters\n",
    "import pickle\n",
    "obj = {'hc': hc}\n",
    "output = open('ZD2.pkl', 'wb')\n",
    "pickle.dump(obj, output, 3)\n",
    "output.close()"
   ]
  },
  {
   "cell_type": "markdown",
   "metadata": {},
   "source": [
    "Посмотрим  на метод локтя для алгоритмя к-средних. Это нужно для того, чтобы видеть, сколько кластеров имеет смысл выделить. Прогоним наш алгоритм в цикле от 1 до 11 кластеров.  Посмотрим как будет изменяться функция расстояния от ядра до объектов кластера и отобразим на графике."
   ]
  },
  {
   "cell_type": "code",
   "execution_count": 44,
   "metadata": {},
   "outputs": [
    {
     "data": {
      "image/png": "[encoded data removed]",
      "text/plain": [
       "<Figure size 432x288 with 1 Axes>"
      ]
     },
     "metadata": {},
     "output_type": "display_data"
    }
   ],
   "source": [
    "# Using the elbow method to find the optimal number of clusters\n",
    "from sklearn.cluster import KMeans\n",
    "wcss = []\n",
    "for i in range(1, 11):\n",
    "    kmeans = KMeans(n_clusters = i, init = 'k-means++', random_state = 0)\n",
    "    kmeans.fit(df)\n",
    "    wcss.append(kmeans.inertia_)\n",
    "plt.plot(range(1, 11), wcss)\n",
    "plt.title('The Elbow Method')\n",
    "plt.xlabel('Number of clusters')\n",
    "plt.ylabel('WCSS')\n",
    "plt.show()"
   ]
  },
  {
   "cell_type": "markdown",
   "metadata": {},
   "source": [
    "Видим, что функция падает при 2х и 3х кластерах, потом на 4м скорость плавно падает. "
   ]
  },
  {
   "cell_type": "markdown",
   "metadata": {},
   "source": [
    "Еще один метод для определения оптиального числа кластеров - метод силуэта. Применим для рассчета кластеров от 2х до 7ми. "
   ]
  },
  {
   "cell_type": "code",
   "execution_count": 45,
   "metadata": {},
   "outputs": [
    {
     "data": {
      "image/png": "[encoded data removed]",
      "text/plain": [
       "<Figure size 432x288 with 1 Axes>"
      ]
     },
     "metadata": {},
     "output_type": "display_data"
    },
    {
     "name": "stdout",
     "output_type": "stream",
     "text": [
      "2:0.3912557609258488\n",
      "3:0.4488126454729053\n",
      "4:0.5273806053923131\n",
      "5:0.46152516926853887\n",
      "6:0.3921949125865572\n"
     ]
    }
   ],
   "source": [
    "# Using the silhouette method to find the optimal number of clusters\n",
    "from sklearn.metrics import silhouette_score\n",
    "\n",
    "sil = []\n",
    "\n",
    "for k in range(2, 7):\n",
    "  kmeans = KMeans(n_clusters = k).fit(df)  \n",
    "  preds = kmeans.fit_predict(df)\n",
    "  sil.append(silhouette_score(df, preds, metric = 'euclidean'))\n",
    "\n",
    "\n",
    "plt.plot(range(2, 7), sil)\n",
    "plt.title('Silhouette Method')\n",
    "plt.xlabel('Number of clusters')\n",
    "plt.ylabel('Sil')\n",
    "plt.show()\n",
    "\n",
    "for i in range(len(sil)):\n",
    " print(str(i+2) +\":\"+ str(sil[i]))"
   ]
  },
  {
   "cell_type": "markdown",
   "metadata": {},
   "source": [
    "Видим, что максимкальное значение у нас достигается при 4х кластерах, т.к. его значение наибольшее. Далее идет 5 кластеров. Выделим 4 кластера на наших данных. Применим метод к-средних с 4мя кластерами и выведем ядра в табличку. "
   ]
  },
  {
   "cell_type": "code",
   "execution_count": 46,
   "metadata": {
    "scrolled": true
   },
   "outputs": [
    {
     "data": {
      "text/html": [
       "<div>\n",
       "<style scoped>\n",
       "    .dataframe tbody tr th:only-of-type {\n",
       "        vertical-align: middle;\n",
       "    }\n",
       "\n",
       "    .dataframe tbody tr th {\n",
       "        vertical-align: top;\n",
       "    }\n",
       "\n",
       "    .dataframe thead th {\n",
       "        text-align: right;\n",
       "    }\n",
       "</style>\n",
       "<table border=\"1\" class=\"dataframe\">\n",
       "  <thead>\n",
       "    <tr style=\"text-align: right;\">\n",
       "      <th></th>\n",
       "      <th>User ID</th>\n",
       "      <th>Gender</th>\n",
       "      <th>Age</th>\n",
       "      <th>EstimatedSalary</th>\n",
       "      <th>Purchased</th>\n",
       "    </tr>\n",
       "  </thead>\n",
       "  <tbody>\n",
       "    <tr>\n",
       "      <th>0</th>\n",
       "      <td>0.507339</td>\n",
       "      <td>2.220446e-16</td>\n",
       "      <td>0.344872</td>\n",
       "      <td>0.330598</td>\n",
       "      <td>-7.771561e-16</td>\n",
       "    </tr>\n",
       "    <tr>\n",
       "      <th>1</th>\n",
       "      <td>0.494093</td>\n",
       "      <td>1.000000e+00</td>\n",
       "      <td>0.359768</td>\n",
       "      <td>0.344299</td>\n",
       "      <td>-7.216450e-16</td>\n",
       "    </tr>\n",
       "    <tr>\n",
       "      <th>2</th>\n",
       "      <td>0.534777</td>\n",
       "      <td>1.000000e+00</td>\n",
       "      <td>0.694187</td>\n",
       "      <td>0.546032</td>\n",
       "      <td>1.000000e+00</td>\n",
       "    </tr>\n",
       "    <tr>\n",
       "      <th>3</th>\n",
       "      <td>0.470414</td>\n",
       "      <td>-2.220446e-16</td>\n",
       "      <td>0.654762</td>\n",
       "      <td>0.506846</td>\n",
       "      <td>1.000000e+00</td>\n",
       "    </tr>\n",
       "  </tbody>\n",
       "</table>\n",
       "</div>"
      ],
      "text/plain": [
       "    User ID        Gender       Age  EstimatedSalary     Purchased\n",
       "0  0.507339  2.220446e-16  0.344872         0.330598 -7.771561e-16\n",
       "1  0.494093  1.000000e+00  0.359768         0.344299 -7.216450e-16\n",
       "2  0.534777  1.000000e+00  0.694187         0.546032  1.000000e+00\n",
       "3  0.470414 -2.220446e-16  0.654762         0.506846  1.000000e+00"
      ]
     },
     "execution_count": 46,
     "metadata": {},
     "output_type": "execute_result"
    }
   ],
   "source": [
    "# Fitting K-Means to the dataset\n",
    "km = KMeans(n_clusters = 4, init = 'k-means++', random_state = 0).fit_predict(df)\n",
    "kms = KMeans(n_clusters = 4, random_state = 0).fit(df)\n",
    "pd.DataFrame(kms.cluster_centers_, columns = ['User ID','Gender','Age','EstimatedSalary','Purchased'])"
   ]
  },
  {
   "cell_type": "markdown",
   "metadata": {},
   "source": [
    "Видим 4 кластера:\n",
    "- User ID > 0.5, женцины молодого возраста, EstimatedSalary <0.5, Purchased<-3\n",
    "- User ID < 0.5, мужчины молодого возраста, EstimatedSalary <0.5, Purchased<-3\n",
    "- User ID > 0.5, мужчины молодого возраста, EstimatedSalary >0.5, Purchased>-3\n",
    "- User ID > 0.5, женщины молодого возраста, EstimatedSalary >0.5, Purchased>-3\n",
    "Мы получили некую базу для дальнейшего построения нейронной сети в задачах кластеризации. Сравним полученные данные с предыдущим результатом на основе Hierarchical Clustering"
   ]
  },
  {
   "cell_type": "code",
   "execution_count": 49,
   "metadata": {},
   "outputs": [],
   "source": [
    "# Importing hc clusters\n",
    "import pickle\n",
    "input = open('ZD2.pkl', 'rb')\n",
    "obj = pickle.load(input)\n",
    "input.close()\n",
    "hc = obj[\"hc\"]"
   ]
  },
  {
   "cell_type": "markdown",
   "metadata": {},
   "source": [
    "Как видим, результат пересекается больше чем на 84.9% поэтому будем считать, что мы на правильном пути."
   ]
  },
  {
   "cell_type": "code",
   "execution_count": 50,
   "metadata": {
    "scrolled": true
   },
   "outputs": [
    {
     "data": {
      "text/plain": [
       "0.8493067455043097"
      ]
     },
     "execution_count": 50,
     "metadata": {},
     "output_type": "execute_result"
    }
   ],
   "source": [
    "# Comparing Clustering Algorithms\n",
    "from sklearn.metrics.cluster import adjusted_rand_score\n",
    "adjusted_rand_score(hc,km)"
   ]
  },
  {
   "cell_type": "markdown",
   "metadata": {},
   "source": [
    "Вывод, модель хорошо делится как на 3, так и на 4 кластера. Имеем право применять оба разбиения."
   ]
  }
 ],
 "metadata": {
  "kernelspec": {
   "display_name": "Python 3",
   "language": "python",
   "name": "python3"
  },
  "language_info": {
   "codemirror_mode": {
    "name": "ipython",
    "version": 3
   },
   "file_extension": ".py",
   "mimetype": "text/x-python",
   "name": "python",
   "nbconvert_exporter": "python",
   "pygments_lexer": "ipython3",
   "version": "3.8.3"
  }
 },
 "nbformat": 4,
 "nbformat_minor": 4
}
