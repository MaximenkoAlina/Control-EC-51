{
 "cells": [
  {
   "cell_type": "markdown",
   "metadata": {},
   "source": [
    "Classification Neural Network"
   ]
  },
  {
   "cell_type": "markdown",
   "metadata": {},
   "source": [
    "Рассмотрим модель классификации, основанную на нейронных сетях. Импортируем библиотеки, данные и модули."
   ]
  },
  {
   "cell_type": "code",
   "execution_count": 1,
   "metadata": {},
   "outputs": [],
   "source": [
    "# Importing the libraries\n",
    "import numpy as np\n",
    "import matplotlib.pyplot as plt\n",
    "import pandas as pd"
   ]
  },
  {
   "cell_type": "code",
   "execution_count": 2,
   "metadata": {},
   "outputs": [],
   "source": [
    "# Importing prepared dataset\n",
    "import pickle\n",
    "input = open('vehicleprice_data.pkl', 'rb')\n",
    "obj = pickle.load(input)\n",
    "input.close()\n",
    "X_train = obj[\"X_train\"]\n",
    "X_test = obj[\"X_test\"]\n",
    "y_train = obj[\"y_train\"]\n",
    "y_test = obj[\"y_test\"]"
   ]
  },
  {
   "cell_type": "code",
   "execution_count": 3,
   "metadata": {},
   "outputs": [],
   "source": [
    "# Install Tensorflow\n",
    "# Install Keras\n",
    "# Importing the Keras libraries and packages\n",
    "import keras\n",
    "from keras.models import Sequential\n",
    "from keras.layers import Dense"
   ]
  },
  {
   "cell_type": "markdown",
   "metadata": {},
   "source": [
    "Построим нейронную сеть прямой передачи сигнала. Обычно для этого используется сужающая архитектура, где число нейронов на первом слое не превышает число нейронов на входном слое. Т.к. у нас 8 параметров классификации - на входном слое у нас будет\n",
    "8 нейронов. Поэтому на первом слое возьмем количество меньшее, равное 5. используем функцию активации \"relu\". На втором слое выберем один нейрон, т.к.  одного элемента со значением 0;1  будет достаточно. Число выходов классификатора= число классов -1. Используем сигмоидальную ф-ю, т.к.\n",
    "она изменяется в интервале [0;1]."
   ]
  },
  {
   "cell_type": "code",
   "execution_count": 4,
   "metadata": {},
   "outputs": [],
   "source": [
    "# Initialising the ANN\n",
    "cnn = Sequential()\n",
    "\n",
    "# Adding the input layer and the first hidden layer\n",
    "cnn.add(Dense(units = 5, kernel_initializer = 'uniform', activation = 'relu', input_dim = 8))\n",
    "\n",
    "# Adding the output layer\n",
    "cnn.add(Dense(units = 1, kernel_initializer = 'uniform', activation = 'sigmoid'))\n",
    "\n",
    "# Compiling the ANN\n",
    "cnn.compile(optimizer = 'adam', loss = 'binary_crossentropy', metrics = ['accuracy'])"
   ]
  },
  {
   "cell_type": "markdown",
   "metadata": {},
   "source": [
    "Обучим нашу нейронную сеть в партиями по 12 течении 100 эпох и посмотрим, каков прогноз и качество прогноза на тестовой выборке."
   ]
  },
  {
   "cell_type": "code",
   "execution_count": 5,
   "metadata": {},
   "outputs": [
    {
     "name": "stdout",
     "output_type": "stream",
     "text": [
      "Epoch 1/100\n",
      "156/156 [==============================] - 0s 917us/step - loss: 0.6541 - accuracy: 0.6727\n",
      "Epoch 2/100\n",
      "156/156 [==============================] - 0s 943us/step - loss: 0.4874 - accuracy: 0.8235\n",
      "Epoch 3/100\n",
      "156/156 [==============================] - 0s 885us/step - loss: 0.3684 - accuracy: 0.8847\n",
      "Epoch 4/100\n",
      "156/156 [==============================] - 0s 910us/step - loss: 0.3074 - accuracy: 0.8911\n",
      "Epoch 5/100\n",
      "156/156 [==============================] - 0s 885us/step - loss: 0.2735 - accuracy: 0.8969\n",
      "Epoch 6/100\n",
      "156/156 [==============================] - 0s 878us/step - loss: 0.2539 - accuracy: 0.9021\n",
      "Epoch 7/100\n",
      "156/156 [==============================] - 0s 910us/step - loss: 0.2419 - accuracy: 0.9053\n",
      "Epoch 8/100\n",
      "156/156 [==============================] - 0s 878us/step - loss: 0.2334 - accuracy: 0.9021\n",
      "Epoch 9/100\n",
      "156/156 [==============================] - 0s 930us/step - loss: 0.2275 - accuracy: 0.9040\n",
      "Epoch 10/100\n",
      "156/156 [==============================] - 0s 936us/step - loss: 0.2230 - accuracy: 0.9046\n",
      "Epoch 11/100\n",
      "156/156 [==============================] - 0s 1ms/step - loss: 0.2195 - accuracy: 0.9046\n",
      "Epoch 12/100\n",
      "156/156 [==============================] - 0s 878us/step - loss: 0.2167 - accuracy: 0.9066\n",
      "Epoch 13/100\n",
      "156/156 [==============================] - 0s 866us/step - loss: 0.2146 - accuracy: 0.9066\n",
      "Epoch 14/100\n",
      "156/156 [==============================] - 0s 891us/step - loss: 0.2128 - accuracy: 0.9066\n",
      "Epoch 15/100\n",
      "156/156 [==============================] - 0s 891us/step - loss: 0.2114 - accuracy: 0.9072\n",
      "Epoch 16/100\n",
      "156/156 [==============================] - 0s 949us/step - loss: 0.2102 - accuracy: 0.9085\n",
      "Epoch 17/100\n",
      "156/156 [==============================] - 0s 911us/step - loss: 0.2090 - accuracy: 0.9059\n",
      "Epoch 18/100\n",
      "156/156 [==============================] - 0s 994us/step - loss: 0.2083 - accuracy: 0.9053\n",
      "Epoch 19/100\n",
      "156/156 [==============================] - 0s 917us/step - loss: 0.2076 - accuracy: 0.9053\n",
      "Epoch 20/100\n",
      "156/156 [==============================] - 0s 949us/step - loss: 0.2069 - accuracy: 0.9053\n",
      "Epoch 21/100\n",
      "156/156 [==============================] - 0s 910us/step - loss: 0.2065 - accuracy: 0.9072\n",
      "Epoch 22/100\n",
      "156/156 [==============================] - 0s 936us/step - loss: 0.2060 - accuracy: 0.9059\n",
      "Epoch 23/100\n",
      "156/156 [==============================] - 0s 866us/step - loss: 0.2056 - accuracy: 0.9053\n",
      "Epoch 24/100\n",
      "156/156 [==============================] - 0s 923us/step - loss: 0.2051 - accuracy: 0.9059\n",
      "Epoch 25/100\n",
      "156/156 [==============================] - 0s 917us/step - loss: 0.2046 - accuracy: 0.9046\n",
      "Epoch 26/100\n",
      "156/156 [==============================] - 0s 904us/step - loss: 0.2043 - accuracy: 0.9040\n",
      "Epoch 27/100\n",
      "156/156 [==============================] - 0s 930us/step - loss: 0.2041 - accuracy: 0.9053\n",
      "Epoch 28/100\n",
      "156/156 [==============================] - 0s 943us/step - loss: 0.2036 - accuracy: 0.9046\n",
      "Epoch 29/100\n",
      "156/156 [==============================] - 0s 853us/step - loss: 0.2036 - accuracy: 0.9059\n",
      "Epoch 30/100\n",
      "156/156 [==============================] - 0s 866us/step - loss: 0.2031 - accuracy: 0.9072\n",
      "Epoch 31/100\n",
      "156/156 [==============================] - 0s 923us/step - loss: 0.2029 - accuracy: 0.9053\n",
      "Epoch 32/100\n",
      "156/156 [==============================] - 0s 930us/step - loss: 0.2026 - accuracy: 0.9059\n",
      "Epoch 33/100\n",
      "156/156 [==============================] - 0s 936us/step - loss: 0.2025 - accuracy: 0.9066\n",
      "Epoch 34/100\n",
      "156/156 [==============================] - 0s 891us/step - loss: 0.2026 - accuracy: 0.9059\n",
      "Epoch 35/100\n",
      "156/156 [==============================] - 0s 994us/step - loss: 0.2020 - accuracy: 0.9059\n",
      "Epoch 36/100\n",
      "156/156 [==============================] - 0s 872us/step - loss: 0.2024 - accuracy: 0.9072\n",
      "Epoch 37/100\n",
      "156/156 [==============================] - 0s 955us/step - loss: 0.2017 - accuracy: 0.9079\n",
      "Epoch 38/100\n",
      "156/156 [==============================] - 0s 1ms/step - loss: 0.2014 - accuracy: 0.9091\n",
      "Epoch 39/100\n",
      "156/156 [==============================] - 0s 1ms/step - loss: 0.2016 - accuracy: 0.9072\n",
      "Epoch 40/100\n",
      "156/156 [==============================] - 0s 885us/step - loss: 0.2014 - accuracy: 0.9085\n",
      "Epoch 41/100\n",
      "156/156 [==============================] - 0s 885us/step - loss: 0.2012 - accuracy: 0.9079\n",
      "Epoch 42/100\n",
      "156/156 [==============================] - 0s 961us/step - loss: 0.2010 - accuracy: 0.9079\n",
      "Epoch 43/100\n",
      "156/156 [==============================] - 0s 885us/step - loss: 0.2012 - accuracy: 0.9085\n",
      "Epoch 44/100\n",
      "156/156 [==============================] - 0s 962us/step - loss: 0.2008 - accuracy: 0.9098\n",
      "Epoch 45/100\n",
      "156/156 [==============================] - 0s 898us/step - loss: 0.2008 - accuracy: 0.9104\n",
      "Epoch 46/100\n",
      "156/156 [==============================] - 0s 904us/step - loss: 0.2009 - accuracy: 0.9098\n",
      "Epoch 47/100\n",
      "156/156 [==============================] - 0s 853us/step - loss: 0.2003 - accuracy: 0.9098\n",
      "Epoch 48/100\n",
      "156/156 [==============================] - 0s 898us/step - loss: 0.2002 - accuracy: 0.9079\n",
      "Epoch 49/100\n",
      "156/156 [==============================] - 0s 884us/step - loss: 0.1999 - accuracy: 0.9104\n",
      "Epoch 50/100\n",
      "156/156 [==============================] - 0s 1ms/step - loss: 0.2000 - accuracy: 0.9098\n",
      "Epoch 51/100\n",
      "156/156 [==============================] - 0s 872us/step - loss: 0.1998 - accuracy: 0.9111\n",
      "Epoch 52/100\n",
      "156/156 [==============================] - 0s 923us/step - loss: 0.1998 - accuracy: 0.9085\n",
      "Epoch 53/100\n",
      "156/156 [==============================] - 0s 898us/step - loss: 0.1997 - accuracy: 0.9104\n",
      "Epoch 54/100\n",
      "156/156 [==============================] - 0s 923us/step - loss: 0.1994 - accuracy: 0.9098\n",
      "Epoch 55/100\n",
      "156/156 [==============================] - 0s 930us/step - loss: 0.1993 - accuracy: 0.9124\n",
      "Epoch 56/100\n",
      "156/156 [==============================] - 0s 936us/step - loss: 0.1990 - accuracy: 0.9091\n",
      "Epoch 57/100\n",
      "156/156 [==============================] - 0s 968us/step - loss: 0.1990 - accuracy: 0.9104\n",
      "Epoch 58/100\n",
      "156/156 [==============================] - 0s 885us/step - loss: 0.1993 - accuracy: 0.9098\n",
      "Epoch 59/100\n",
      "156/156 [==============================] - 0s 968us/step - loss: 0.1992 - accuracy: 0.9124\n",
      "Epoch 60/100\n",
      "156/156 [==============================] - 0s 872us/step - loss: 0.1991 - accuracy: 0.9117\n",
      "Epoch 61/100\n",
      "156/156 [==============================] - 0s 949us/step - loss: 0.1987 - accuracy: 0.9104\n",
      "Epoch 62/100\n",
      "156/156 [==============================] - 0s 923us/step - loss: 0.1988 - accuracy: 0.9111\n",
      "Epoch 63/100\n",
      "156/156 [==============================] - 0s 923us/step - loss: 0.1988 - accuracy: 0.9104\n",
      "Epoch 64/100\n",
      "156/156 [==============================] - 0s 1ms/step - loss: 0.1984 - accuracy: 0.9104\n",
      "Epoch 65/100\n",
      "156/156 [==============================] - 0s 943us/step - loss: 0.1986 - accuracy: 0.9091\n",
      "Epoch 66/100\n",
      "156/156 [==============================] - 0s 917us/step - loss: 0.1983 - accuracy: 0.9124\n",
      "Epoch 67/100\n",
      "156/156 [==============================] - 0s 911us/step - loss: 0.1980 - accuracy: 0.9111\n",
      "Epoch 68/100\n",
      "156/156 [==============================] - 0s 840us/step - loss: 0.1981 - accuracy: 0.9104\n",
      "Epoch 69/100\n",
      "156/156 [==============================] - 0s 859us/step - loss: 0.1980 - accuracy: 0.9117\n",
      "Epoch 70/100\n",
      "156/156 [==============================] - 0s 891us/step - loss: 0.1977 - accuracy: 0.9104\n",
      "Epoch 71/100\n",
      "156/156 [==============================] - 0s 891us/step - loss: 0.1976 - accuracy: 0.9111\n",
      "Epoch 72/100\n",
      "156/156 [==============================] - 0s 923us/step - loss: 0.1977 - accuracy: 0.9111\n",
      "Epoch 73/100\n",
      "156/156 [==============================] - 0s 853us/step - loss: 0.1974 - accuracy: 0.9111\n",
      "Epoch 74/100\n",
      "156/156 [==============================] - 0s 904us/step - loss: 0.1973 - accuracy: 0.9098\n",
      "Epoch 75/100\n",
      "156/156 [==============================] - 0s 859us/step - loss: 0.1972 - accuracy: 0.9124\n",
      "Epoch 76/100\n",
      "156/156 [==============================] - 0s 878us/step - loss: 0.1973 - accuracy: 0.9117\n",
      "Epoch 77/100\n",
      "156/156 [==============================] - 0s 866us/step - loss: 0.1970 - accuracy: 0.9117\n",
      "Epoch 78/100\n",
      "156/156 [==============================] - 0s 872us/step - loss: 0.1970 - accuracy: 0.9117\n",
      "Epoch 79/100\n",
      "156/156 [==============================] - 0s 943us/step - loss: 0.1969 - accuracy: 0.9137\n"
     ]
    },
    {
     "name": "stdout",
     "output_type": "stream",
     "text": [
      "Epoch 80/100\n",
      "156/156 [==============================] - 0s 878us/step - loss: 0.1970 - accuracy: 0.9130\n",
      "Epoch 81/100\n",
      "156/156 [==============================] - 0s 943us/step - loss: 0.1969 - accuracy: 0.9130\n",
      "Epoch 82/100\n",
      "156/156 [==============================] - 0s 859us/step - loss: 0.1969 - accuracy: 0.9124\n",
      "Epoch 83/100\n",
      "156/156 [==============================] - 0s 923us/step - loss: 0.1967 - accuracy: 0.9124\n",
      "Epoch 84/100\n",
      "156/156 [==============================] - 0s 859us/step - loss: 0.1964 - accuracy: 0.9130\n",
      "Epoch 85/100\n",
      "156/156 [==============================] - 0s 923us/step - loss: 0.1964 - accuracy: 0.9117\n",
      "Epoch 86/100\n",
      "156/156 [==============================] - 0s 859us/step - loss: 0.1965 - accuracy: 0.9156\n",
      "Epoch 87/100\n",
      "156/156 [==============================] - 0s 973us/step - loss: 0.1961 - accuracy: 0.9130\n",
      "Epoch 88/100\n",
      "156/156 [==============================] - 0s 866us/step - loss: 0.1960 - accuracy: 0.9124\n",
      "Epoch 89/100\n",
      "156/156 [==============================] - 0s 885us/step - loss: 0.1959 - accuracy: 0.9117\n",
      "Epoch 90/100\n",
      "156/156 [==============================] - 0s 917us/step - loss: 0.1961 - accuracy: 0.9124\n",
      "Epoch 91/100\n",
      "156/156 [==============================] - 0s 923us/step - loss: 0.1961 - accuracy: 0.9117\n",
      "Epoch 92/100\n",
      "156/156 [==============================] - 0s 866us/step - loss: 0.1959 - accuracy: 0.9130\n",
      "Epoch 93/100\n",
      "156/156 [==============================] - 0s 859us/step - loss: 0.1959 - accuracy: 0.9111\n",
      "Epoch 94/100\n",
      "156/156 [==============================] - 0s 911us/step - loss: 0.1957 - accuracy: 0.9098\n",
      "Epoch 95/100\n",
      "156/156 [==============================] - 0s 917us/step - loss: 0.1957 - accuracy: 0.9124\n",
      "Epoch 96/100\n",
      "156/156 [==============================] - 0s 930us/step - loss: 0.1956 - accuracy: 0.9124\n",
      "Epoch 97/100\n",
      "156/156 [==============================] - 0s 891us/step - loss: 0.1953 - accuracy: 0.9111\n",
      "Epoch 98/100\n",
      "156/156 [==============================] - 0s 949us/step - loss: 0.1954 - accuracy: 0.9104\n",
      "Epoch 99/100\n",
      "156/156 [==============================] - 0s 904us/step - loss: 0.1952 - accuracy: 0.9104\n",
      "Epoch 100/100\n",
      "156/156 [==============================] - 0s 930us/step - loss: 0.1951 - accuracy: 0.9098\n"
     ]
    },
    {
     "data": {
      "text/plain": [
       "<tensorflow.python.keras.callbacks.History at 0x2a90678acd0>"
      ]
     },
     "execution_count": 5,
     "metadata": {},
     "output_type": "execute_result"
    }
   ],
   "source": [
    "# Fitting the ANN to the Training set\n",
    "cnn.fit(X_train, y_train, batch_size =10 , epochs = 100)"
   ]
  },
  {
   "cell_type": "markdown",
   "metadata": {},
   "source": [
    "Произведем прогноз на тестовой выборке, задав порог = 0,6 (максимально возможный порог, при котором модель имеет наибольшую точность)"
   ]
  },
  {
   "cell_type": "code",
   "execution_count": 6,
   "metadata": {},
   "outputs": [],
   "source": [
    "# Predicting the Test set results\n",
    "y_pred = cnn.predict(X_test)\n",
    "y_pred = (y_pred > 0.6)"
   ]
  },
  {
   "cell_type": "markdown",
   "metadata": {},
   "source": [
    "Выведем таблицу сопряженности, которая показывает, что 23 позитивных объекта распознаны как негативныйе, а 25\n",
    "негативных определены как позитивные."
   ]
  },
  {
   "cell_type": "code",
   "execution_count": 7,
   "metadata": {},
   "outputs": [
    {
     "name": "stdout",
     "output_type": "stream",
     "text": [
      "[[245  25]\n",
      " [ 23  95]]\n"
     ]
    }
   ],
   "source": [
    "# Making the Confusion Matrix\n",
    "from sklearn.metrics import confusion_matrix\n",
    "cm = confusion_matrix(y_test, y_pred)\n",
    "print(cm)"
   ]
  },
  {
   "cell_type": "markdown",
   "metadata": {},
   "source": [
    "Произведем расчет доли ошибки, чувствителности и специфичности модели."
   ]
  },
  {
   "cell_type": "code",
   "execution_count": 8,
   "metadata": {},
   "outputs": [
    {
     "data": {
      "text/plain": [
       "0.8762886597938144"
      ]
     },
     "execution_count": 8,
     "metadata": {},
     "output_type": "execute_result"
    }
   ],
   "source": [
    "Accurary_rate = (245+95)/(388)\n",
    "Accurary_rate"
   ]
  },
  {
   "cell_type": "code",
   "execution_count": 9,
   "metadata": {},
   "outputs": [
    {
     "data": {
      "text/plain": [
       "0.12371134020618557"
      ]
     },
     "execution_count": 9,
     "metadata": {},
     "output_type": "execute_result"
    }
   ],
   "source": [
    "Error_rate = (23+25)/(388)\n",
    "Error_rate"
   ]
  },
  {
   "cell_type": "code",
   "execution_count": 10,
   "metadata": {},
   "outputs": [
    {
     "data": {
      "text/plain": [
       "0.8050847457627118"
      ]
     },
     "execution_count": 10,
     "metadata": {},
     "output_type": "execute_result"
    }
   ],
   "source": [
    "Se = 95/(95+23)\n",
    "Se"
   ]
  },
  {
   "cell_type": "code",
   "execution_count": 11,
   "metadata": {},
   "outputs": [
    {
     "data": {
      "text/plain": [
       "0.9074074074074074"
      ]
     },
     "execution_count": 11,
     "metadata": {},
     "output_type": "execute_result"
    }
   ],
   "source": [
    "Sp = 245/(245+25)\n",
    "Sp"
   ]
  },
  {
   "cell_type": "markdown",
   "metadata": {},
   "source": [
    "По сравнению с простой логистической регрессией(87,37%) модель НС имеет более чуть высокую точность = 87,62%. Доля ошибок снизилась с 12,6 % до 12,3%.\n",
    "При этом значительно чувстивельность слегка снизилась с 83,5% до 80,5%, а специфичность незначительно увеличилась с 89,25% до 90,7%. "
   ]
  },
  {
   "cell_type": "markdown",
   "metadata": {},
   "source": [
    "В итоге получаем результат результат, который незначительно лучше базовой модели."
   ]
  }
 ],
 "metadata": {
  "kernelspec": {
   "display_name": "Python 3",
   "language": "python",
   "name": "python3"
  },
  "language_info": {
   "codemirror_mode": {
    "name": "ipython",
    "version": 3
   },
   "file_extension": ".py",
   "mimetype": "text/x-python",
   "name": "python",
   "nbconvert_exporter": "python",
   "pygments_lexer": "ipython3",
   "version": "3.8.3"
  }
 },
 "nbformat": 4,
 "nbformat_minor": 4
}
