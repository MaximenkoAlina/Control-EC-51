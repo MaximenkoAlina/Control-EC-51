{
 "cells": [
  {
   "cell_type": "markdown",
   "metadata": {},
   "source": [
    "Описание дынных. Исходный датасет имеет 10 переменных.9 первых переменных - это независимые. Последняя переменная \"Category\" - зависимая переменная. Переменная \"Category\" состоит из двух типов: 0 и 1, где 0 - это здоровые люди, 1 - заболевшие.\n",
    "Конвертируем наш документ в формат csv с разделителем \"запятая\". \n",
    "Осуществим подготовку данных, импортировав необходимые библиотеки."
   ]
  },
  {
   "cell_type": "code",
   "execution_count": 1,
   "metadata": {},
   "outputs": [],
   "source": [
    "# Data Preprocessing"
   ]
  },
  {
   "cell_type": "code",
   "execution_count": 2,
   "metadata": {},
   "outputs": [],
   "source": [
    "# Importing the libraries\n",
    "import numpy as np\n",
    "import matplotlib.pyplot as plt\n",
    "import pandas as pd"
   ]
  },
  {
   "cell_type": "markdown",
   "metadata": {},
   "source": [
    "Загрузим наш предварительно конвертированный файл."
   ]
  },
  {
   "cell_type": "code",
   "execution_count": 3,
   "metadata": {},
   "outputs": [],
   "source": [
    "# Importing the dataset\n",
    "df = pd.read_csv('CR_2.csv', sep=',')"
   ]
  },
  {
   "cell_type": "markdown",
   "metadata": {},
   "source": [
    "Выведем данные на экран чтобы убедиться в правильности отображения. Имеем 10 колонок и 615 строк."
   ]
  },
  {
   "cell_type": "code",
   "execution_count": 4,
   "metadata": {},
   "outputs": [
    {
     "data": {
      "text/html": [
       "<div>\n",
       "<style scoped>\n",
       "    .dataframe tbody tr th:only-of-type {\n",
       "        vertical-align: middle;\n",
       "    }\n",
       "\n",
       "    .dataframe tbody tr th {\n",
       "        vertical-align: top;\n",
       "    }\n",
       "\n",
       "    .dataframe thead th {\n",
       "        text-align: right;\n",
       "    }\n",
       "</style>\n",
       "<table border=\"1\" class=\"dataframe\">\n",
       "  <thead>\n",
       "    <tr style=\"text-align: right;\">\n",
       "      <th></th>\n",
       "      <th>Age</th>\n",
       "      <th>Sex</th>\n",
       "      <th>ALB</th>\n",
       "      <th>ALP</th>\n",
       "      <th>ALT</th>\n",
       "      <th>AST</th>\n",
       "      <th>CHE</th>\n",
       "      <th>GGT</th>\n",
       "      <th>PROT</th>\n",
       "      <th>Category</th>\n",
       "    </tr>\n",
       "  </thead>\n",
       "  <tbody>\n",
       "    <tr>\n",
       "      <th>0</th>\n",
       "      <td>32</td>\n",
       "      <td>m</td>\n",
       "      <td>38.5</td>\n",
       "      <td>52.5</td>\n",
       "      <td>7.7</td>\n",
       "      <td>22.1</td>\n",
       "      <td>6.93</td>\n",
       "      <td>12.1</td>\n",
       "      <td>69.0</td>\n",
       "      <td>0</td>\n",
       "    </tr>\n",
       "    <tr>\n",
       "      <th>1</th>\n",
       "      <td>32</td>\n",
       "      <td>m</td>\n",
       "      <td>38.5</td>\n",
       "      <td>70.3</td>\n",
       "      <td>18.0</td>\n",
       "      <td>24.7</td>\n",
       "      <td>11.17</td>\n",
       "      <td>15.6</td>\n",
       "      <td>76.5</td>\n",
       "      <td>0</td>\n",
       "    </tr>\n",
       "    <tr>\n",
       "      <th>2</th>\n",
       "      <td>32</td>\n",
       "      <td>m</td>\n",
       "      <td>46.9</td>\n",
       "      <td>74.7</td>\n",
       "      <td>36.2</td>\n",
       "      <td>52.6</td>\n",
       "      <td>8.84</td>\n",
       "      <td>33.2</td>\n",
       "      <td>79.3</td>\n",
       "      <td>0</td>\n",
       "    </tr>\n",
       "    <tr>\n",
       "      <th>3</th>\n",
       "      <td>32</td>\n",
       "      <td>m</td>\n",
       "      <td>43.2</td>\n",
       "      <td>52.0</td>\n",
       "      <td>30.6</td>\n",
       "      <td>22.6</td>\n",
       "      <td>7.33</td>\n",
       "      <td>33.8</td>\n",
       "      <td>75.7</td>\n",
       "      <td>0</td>\n",
       "    </tr>\n",
       "    <tr>\n",
       "      <th>4</th>\n",
       "      <td>32</td>\n",
       "      <td>m</td>\n",
       "      <td>39.2</td>\n",
       "      <td>74.1</td>\n",
       "      <td>32.6</td>\n",
       "      <td>24.8</td>\n",
       "      <td>9.15</td>\n",
       "      <td>29.9</td>\n",
       "      <td>68.7</td>\n",
       "      <td>0</td>\n",
       "    </tr>\n",
       "    <tr>\n",
       "      <th>...</th>\n",
       "      <td>...</td>\n",
       "      <td>...</td>\n",
       "      <td>...</td>\n",
       "      <td>...</td>\n",
       "      <td>...</td>\n",
       "      <td>...</td>\n",
       "      <td>...</td>\n",
       "      <td>...</td>\n",
       "      <td>...</td>\n",
       "      <td>...</td>\n",
       "    </tr>\n",
       "    <tr>\n",
       "      <th>610</th>\n",
       "      <td>62</td>\n",
       "      <td>f</td>\n",
       "      <td>32.0</td>\n",
       "      <td>416.6</td>\n",
       "      <td>5.9</td>\n",
       "      <td>110.3</td>\n",
       "      <td>5.57</td>\n",
       "      <td>650.9</td>\n",
       "      <td>68.5</td>\n",
       "      <td>1</td>\n",
       "    </tr>\n",
       "    <tr>\n",
       "      <th>611</th>\n",
       "      <td>64</td>\n",
       "      <td>f</td>\n",
       "      <td>24.0</td>\n",
       "      <td>102.8</td>\n",
       "      <td>2.9</td>\n",
       "      <td>44.4</td>\n",
       "      <td>1.54</td>\n",
       "      <td>35.9</td>\n",
       "      <td>71.3</td>\n",
       "      <td>1</td>\n",
       "    </tr>\n",
       "    <tr>\n",
       "      <th>612</th>\n",
       "      <td>64</td>\n",
       "      <td>f</td>\n",
       "      <td>29.0</td>\n",
       "      <td>87.3</td>\n",
       "      <td>3.5</td>\n",
       "      <td>99.0</td>\n",
       "      <td>1.66</td>\n",
       "      <td>64.2</td>\n",
       "      <td>82.0</td>\n",
       "      <td>1</td>\n",
       "    </tr>\n",
       "    <tr>\n",
       "      <th>613</th>\n",
       "      <td>46</td>\n",
       "      <td>f</td>\n",
       "      <td>33.0</td>\n",
       "      <td>NaN</td>\n",
       "      <td>39.0</td>\n",
       "      <td>62.0</td>\n",
       "      <td>3.56</td>\n",
       "      <td>50.0</td>\n",
       "      <td>71.0</td>\n",
       "      <td>1</td>\n",
       "    </tr>\n",
       "    <tr>\n",
       "      <th>614</th>\n",
       "      <td>59</td>\n",
       "      <td>f</td>\n",
       "      <td>36.0</td>\n",
       "      <td>NaN</td>\n",
       "      <td>100.0</td>\n",
       "      <td>80.0</td>\n",
       "      <td>9.07</td>\n",
       "      <td>34.0</td>\n",
       "      <td>68.0</td>\n",
       "      <td>1</td>\n",
       "    </tr>\n",
       "  </tbody>\n",
       "</table>\n",
       "<p>615 rows × 10 columns</p>\n",
       "</div>"
      ],
      "text/plain": [
       "     Age Sex   ALB    ALP    ALT    AST    CHE    GGT  PROT  Category\n",
       "0     32   m  38.5   52.5    7.7   22.1   6.93   12.1  69.0         0\n",
       "1     32   m  38.5   70.3   18.0   24.7  11.17   15.6  76.5         0\n",
       "2     32   m  46.9   74.7   36.2   52.6   8.84   33.2  79.3         0\n",
       "3     32   m  43.2   52.0   30.6   22.6   7.33   33.8  75.7         0\n",
       "4     32   m  39.2   74.1   32.6   24.8   9.15   29.9  68.7         0\n",
       "..   ...  ..   ...    ...    ...    ...    ...    ...   ...       ...\n",
       "610   62   f  32.0  416.6    5.9  110.3   5.57  650.9  68.5         1\n",
       "611   64   f  24.0  102.8    2.9   44.4   1.54   35.9  71.3         1\n",
       "612   64   f  29.0   87.3    3.5   99.0   1.66   64.2  82.0         1\n",
       "613   46   f  33.0    NaN   39.0   62.0   3.56   50.0  71.0         1\n",
       "614   59   f  36.0    NaN  100.0   80.0   9.07   34.0  68.0         1\n",
       "\n",
       "[615 rows x 10 columns]"
      ]
     },
     "execution_count": 4,
     "metadata": {},
     "output_type": "execute_result"
    }
   ],
   "source": [
    "df"
   ]
  },
  {
   "cell_type": "markdown",
   "metadata": {},
   "source": [
    "Для определения пропущенных значений в переменных выведем общее количество и процент пропусков по переменным. "
   ]
  },
  {
   "cell_type": "code",
   "execution_count": 5,
   "metadata": {},
   "outputs": [
    {
     "data": {
      "text/html": [
       "<div>\n",
       "<style scoped>\n",
       "    .dataframe tbody tr th:only-of-type {\n",
       "        vertical-align: middle;\n",
       "    }\n",
       "\n",
       "    .dataframe tbody tr th {\n",
       "        vertical-align: top;\n",
       "    }\n",
       "\n",
       "    .dataframe thead th {\n",
       "        text-align: right;\n",
       "    }\n",
       "</style>\n",
       "<table border=\"1\" class=\"dataframe\">\n",
       "  <thead>\n",
       "    <tr style=\"text-align: right;\">\n",
       "      <th></th>\n",
       "      <th>Total</th>\n",
       "      <th>Percent</th>\n",
       "    </tr>\n",
       "  </thead>\n",
       "  <tbody>\n",
       "    <tr>\n",
       "      <th>ALP</th>\n",
       "      <td>18</td>\n",
       "      <td>0.029268</td>\n",
       "    </tr>\n",
       "    <tr>\n",
       "      <th>PROT</th>\n",
       "      <td>1</td>\n",
       "      <td>0.001626</td>\n",
       "    </tr>\n",
       "    <tr>\n",
       "      <th>ALT</th>\n",
       "      <td>1</td>\n",
       "      <td>0.001626</td>\n",
       "    </tr>\n",
       "    <tr>\n",
       "      <th>ALB</th>\n",
       "      <td>1</td>\n",
       "      <td>0.001626</td>\n",
       "    </tr>\n",
       "    <tr>\n",
       "      <th>Category</th>\n",
       "      <td>0</td>\n",
       "      <td>0.000000</td>\n",
       "    </tr>\n",
       "    <tr>\n",
       "      <th>GGT</th>\n",
       "      <td>0</td>\n",
       "      <td>0.000000</td>\n",
       "    </tr>\n",
       "    <tr>\n",
       "      <th>CHE</th>\n",
       "      <td>0</td>\n",
       "      <td>0.000000</td>\n",
       "    </tr>\n",
       "    <tr>\n",
       "      <th>AST</th>\n",
       "      <td>0</td>\n",
       "      <td>0.000000</td>\n",
       "    </tr>\n",
       "    <tr>\n",
       "      <th>Sex</th>\n",
       "      <td>0</td>\n",
       "      <td>0.000000</td>\n",
       "    </tr>\n",
       "    <tr>\n",
       "      <th>Age</th>\n",
       "      <td>0</td>\n",
       "      <td>0.000000</td>\n",
       "    </tr>\n",
       "  </tbody>\n",
       "</table>\n",
       "</div>"
      ],
      "text/plain": [
       "          Total   Percent\n",
       "ALP          18  0.029268\n",
       "PROT          1  0.001626\n",
       "ALT           1  0.001626\n",
       "ALB           1  0.001626\n",
       "Category      0  0.000000\n",
       "GGT           0  0.000000\n",
       "CHE           0  0.000000\n",
       "AST           0  0.000000\n",
       "Sex           0  0.000000\n",
       "Age           0  0.000000"
      ]
     },
     "execution_count": 5,
     "metadata": {},
     "output_type": "execute_result"
    }
   ],
   "source": [
    "# Cheking Missing data\n",
    "total = df.isnull().sum().sort_values(ascending=False)\n",
    "percent = (df.isnull().sum()/df.isnull().count()).sort_values(ascending=False)\n",
    "missing_data = pd.concat([total, percent], axis=1, keys=['Total', 'Percent'])\n",
    "missing_data"
   ]
  },
  {
   "cell_type": "markdown",
   "metadata": {},
   "source": [
    "Как видим, есть пропущенные значения. Проведем поиск и подстановку пропущенных значений, при чем имеем картину, что пропуски\n",
    "присутствуют только в числовых значений. Соответственно произведем поиск и подстановку только числовых значений. "
   ]
  },
  {
   "cell_type": "code",
   "execution_count": 6,
   "metadata": {},
   "outputs": [],
   "source": [
    "# Function Missing data (numeric)\n",
    "def fill_missing_num(x):\n",
    "    num_var = list(x._get_numeric_data().columns)\n",
    "    for col_names in num_var:        \n",
    "        prep_med = SimpleImputer(missing_values=np.nan, strategy='mean')\n",
    "        prep_med.fit(x[num_var])\n",
    "        x[num_var] = prep_med.transform(x[num_var])\n",
    "    return(x)"
   ]
  },
  {
   "cell_type": "markdown",
   "metadata": {},
   "source": [
    "Заполним пропуски полученными значениями. "
   ]
  },
  {
   "cell_type": "code",
   "execution_count": 7,
   "metadata": {},
   "outputs": [],
   "source": [
    "# Filling NA \n",
    "from sklearn.impute import SimpleImputer\n",
    "df = fill_missing_num(df)"
   ]
  },
  {
   "cell_type": "markdown",
   "metadata": {},
   "source": [
    "Заново выведем общее количество и процент пропусков"
   ]
  },
  {
   "cell_type": "code",
   "execution_count": 8,
   "metadata": {},
   "outputs": [
    {
     "data": {
      "text/html": [
       "<div>\n",
       "<style scoped>\n",
       "    .dataframe tbody tr th:only-of-type {\n",
       "        vertical-align: middle;\n",
       "    }\n",
       "\n",
       "    .dataframe tbody tr th {\n",
       "        vertical-align: top;\n",
       "    }\n",
       "\n",
       "    .dataframe thead th {\n",
       "        text-align: right;\n",
       "    }\n",
       "</style>\n",
       "<table border=\"1\" class=\"dataframe\">\n",
       "  <thead>\n",
       "    <tr style=\"text-align: right;\">\n",
       "      <th></th>\n",
       "      <th>Total</th>\n",
       "      <th>Percent</th>\n",
       "    </tr>\n",
       "  </thead>\n",
       "  <tbody>\n",
       "    <tr>\n",
       "      <th>Category</th>\n",
       "      <td>0</td>\n",
       "      <td>0.0</td>\n",
       "    </tr>\n",
       "    <tr>\n",
       "      <th>PROT</th>\n",
       "      <td>0</td>\n",
       "      <td>0.0</td>\n",
       "    </tr>\n",
       "    <tr>\n",
       "      <th>GGT</th>\n",
       "      <td>0</td>\n",
       "      <td>0.0</td>\n",
       "    </tr>\n",
       "    <tr>\n",
       "      <th>CHE</th>\n",
       "      <td>0</td>\n",
       "      <td>0.0</td>\n",
       "    </tr>\n",
       "    <tr>\n",
       "      <th>AST</th>\n",
       "      <td>0</td>\n",
       "      <td>0.0</td>\n",
       "    </tr>\n",
       "    <tr>\n",
       "      <th>ALT</th>\n",
       "      <td>0</td>\n",
       "      <td>0.0</td>\n",
       "    </tr>\n",
       "    <tr>\n",
       "      <th>ALP</th>\n",
       "      <td>0</td>\n",
       "      <td>0.0</td>\n",
       "    </tr>\n",
       "    <tr>\n",
       "      <th>ALB</th>\n",
       "      <td>0</td>\n",
       "      <td>0.0</td>\n",
       "    </tr>\n",
       "    <tr>\n",
       "      <th>Sex</th>\n",
       "      <td>0</td>\n",
       "      <td>0.0</td>\n",
       "    </tr>\n",
       "    <tr>\n",
       "      <th>Age</th>\n",
       "      <td>0</td>\n",
       "      <td>0.0</td>\n",
       "    </tr>\n",
       "  </tbody>\n",
       "</table>\n",
       "</div>"
      ],
      "text/plain": [
       "          Total  Percent\n",
       "Category      0      0.0\n",
       "PROT          0      0.0\n",
       "GGT           0      0.0\n",
       "CHE           0      0.0\n",
       "AST           0      0.0\n",
       "ALT           0      0.0\n",
       "ALP           0      0.0\n",
       "ALB           0      0.0\n",
       "Sex           0      0.0\n",
       "Age           0      0.0"
      ]
     },
     "execution_count": 8,
     "metadata": {},
     "output_type": "execute_result"
    }
   ],
   "source": [
    "# Cheking Missing data\n",
    "total = df.isnull().sum().sort_values(ascending=False)\n",
    "percent = (df.isnull().sum()/df.isnull().count()).sort_values(ascending=False)\n",
    "missing_data = pd.concat([total, percent], axis=1, keys=['Total', 'Percent'])\n",
    "missing_data"
   ]
  },
  {
   "cell_type": "markdown",
   "metadata": {},
   "source": [
    "Выведем статистику по числовым значениям. Как и следовало ожидать - пропущенных значений нет. "
   ]
  },
  {
   "cell_type": "code",
   "execution_count": 9,
   "metadata": {},
   "outputs": [
    {
     "data": {
      "text/html": [
       "<div>\n",
       "<style scoped>\n",
       "    .dataframe tbody tr th:only-of-type {\n",
       "        vertical-align: middle;\n",
       "    }\n",
       "\n",
       "    .dataframe tbody tr th {\n",
       "        vertical-align: top;\n",
       "    }\n",
       "\n",
       "    .dataframe thead th {\n",
       "        text-align: right;\n",
       "    }\n",
       "</style>\n",
       "<table border=\"1\" class=\"dataframe\">\n",
       "  <thead>\n",
       "    <tr style=\"text-align: right;\">\n",
       "      <th></th>\n",
       "      <th>Age</th>\n",
       "      <th>ALB</th>\n",
       "      <th>ALP</th>\n",
       "      <th>ALT</th>\n",
       "      <th>AST</th>\n",
       "      <th>CHE</th>\n",
       "      <th>GGT</th>\n",
       "      <th>PROT</th>\n",
       "      <th>Category</th>\n",
       "    </tr>\n",
       "  </thead>\n",
       "  <tbody>\n",
       "    <tr>\n",
       "      <th>count</th>\n",
       "      <td>615.000000</td>\n",
       "      <td>615.000000</td>\n",
       "      <td>615.000000</td>\n",
       "      <td>615.000000</td>\n",
       "      <td>615.000000</td>\n",
       "      <td>615.000000</td>\n",
       "      <td>615.000000</td>\n",
       "      <td>615.000000</td>\n",
       "      <td>615.000000</td>\n",
       "    </tr>\n",
       "    <tr>\n",
       "      <th>mean</th>\n",
       "      <td>47.408130</td>\n",
       "      <td>41.620195</td>\n",
       "      <td>68.283920</td>\n",
       "      <td>28.450814</td>\n",
       "      <td>34.786341</td>\n",
       "      <td>8.196634</td>\n",
       "      <td>39.533171</td>\n",
       "      <td>72.044137</td>\n",
       "      <td>0.133333</td>\n",
       "    </tr>\n",
       "    <tr>\n",
       "      <th>std</th>\n",
       "      <td>10.055105</td>\n",
       "      <td>5.775920</td>\n",
       "      <td>25.643955</td>\n",
       "      <td>25.448940</td>\n",
       "      <td>33.090690</td>\n",
       "      <td>2.205657</td>\n",
       "      <td>54.661071</td>\n",
       "      <td>5.398234</td>\n",
       "      <td>0.340211</td>\n",
       "    </tr>\n",
       "    <tr>\n",
       "      <th>min</th>\n",
       "      <td>19.000000</td>\n",
       "      <td>14.900000</td>\n",
       "      <td>11.300000</td>\n",
       "      <td>0.900000</td>\n",
       "      <td>10.600000</td>\n",
       "      <td>1.420000</td>\n",
       "      <td>4.500000</td>\n",
       "      <td>44.800000</td>\n",
       "      <td>0.000000</td>\n",
       "    </tr>\n",
       "    <tr>\n",
       "      <th>25%</th>\n",
       "      <td>39.000000</td>\n",
       "      <td>38.800000</td>\n",
       "      <td>52.950000</td>\n",
       "      <td>16.400000</td>\n",
       "      <td>21.600000</td>\n",
       "      <td>6.935000</td>\n",
       "      <td>15.700000</td>\n",
       "      <td>69.300000</td>\n",
       "      <td>0.000000</td>\n",
       "    </tr>\n",
       "    <tr>\n",
       "      <th>50%</th>\n",
       "      <td>47.000000</td>\n",
       "      <td>41.900000</td>\n",
       "      <td>66.700000</td>\n",
       "      <td>23.000000</td>\n",
       "      <td>25.900000</td>\n",
       "      <td>8.260000</td>\n",
       "      <td>23.300000</td>\n",
       "      <td>72.200000</td>\n",
       "      <td>0.000000</td>\n",
       "    </tr>\n",
       "    <tr>\n",
       "      <th>75%</th>\n",
       "      <td>54.000000</td>\n",
       "      <td>45.200000</td>\n",
       "      <td>79.300000</td>\n",
       "      <td>33.050000</td>\n",
       "      <td>32.900000</td>\n",
       "      <td>9.590000</td>\n",
       "      <td>40.200000</td>\n",
       "      <td>75.400000</td>\n",
       "      <td>0.000000</td>\n",
       "    </tr>\n",
       "    <tr>\n",
       "      <th>max</th>\n",
       "      <td>77.000000</td>\n",
       "      <td>82.200000</td>\n",
       "      <td>416.600000</td>\n",
       "      <td>325.300000</td>\n",
       "      <td>324.000000</td>\n",
       "      <td>16.410000</td>\n",
       "      <td>650.900000</td>\n",
       "      <td>90.000000</td>\n",
       "      <td>1.000000</td>\n",
       "    </tr>\n",
       "  </tbody>\n",
       "</table>\n",
       "</div>"
      ],
      "text/plain": [
       "              Age         ALB         ALP         ALT         AST         CHE  \\\n",
       "count  615.000000  615.000000  615.000000  615.000000  615.000000  615.000000   \n",
       "mean    47.408130   41.620195   68.283920   28.450814   34.786341    8.196634   \n",
       "std     10.055105    5.775920   25.643955   25.448940   33.090690    2.205657   \n",
       "min     19.000000   14.900000   11.300000    0.900000   10.600000    1.420000   \n",
       "25%     39.000000   38.800000   52.950000   16.400000   21.600000    6.935000   \n",
       "50%     47.000000   41.900000   66.700000   23.000000   25.900000    8.260000   \n",
       "75%     54.000000   45.200000   79.300000   33.050000   32.900000    9.590000   \n",
       "max     77.000000   82.200000  416.600000  325.300000  324.000000   16.410000   \n",
       "\n",
       "              GGT        PROT    Category  \n",
       "count  615.000000  615.000000  615.000000  \n",
       "mean    39.533171   72.044137    0.133333  \n",
       "std     54.661071    5.398234    0.340211  \n",
       "min      4.500000   44.800000    0.000000  \n",
       "25%     15.700000   69.300000    0.000000  \n",
       "50%     23.300000   72.200000    0.000000  \n",
       "75%     40.200000   75.400000    0.000000  \n",
       "max    650.900000   90.000000    1.000000  "
      ]
     },
     "execution_count": 9,
     "metadata": {},
     "output_type": "execute_result"
    }
   ],
   "source": [
    "df.describe()"
   ]
  },
  {
   "cell_type": "markdown",
   "metadata": {},
   "source": [
    "Осуществим работы с выбросами в числовых переменных: для этого запишем функцию для поиска и замены данных, выходящих за \n",
    "пределы 3 сигма."
   ]
  },
  {
   "cell_type": "code",
   "execution_count": 10,
   "metadata": {},
   "outputs": [],
   "source": [
    "# Function Outliers\n",
    "def outliers(df):\n",
    "    num_var = list(df._get_numeric_data().columns)\n",
    "    for col_names in num_var:\n",
    "        df[col_names] = df[col_names].apply(lambda y: df[col_names].mean()-3*df[col_names].std() \n",
    "                            if y < df[col_names].mean()-3*df[col_names].std() else y)\n",
    "        df[col_names] = df[col_names].apply(lambda y: df[col_names].mean()+3*df[col_names].std() \n",
    "                            if y > df[col_names].mean()+3*df[col_names].std() else y)\n",
    "    return(df)"
   ]
  },
  {
   "cell_type": "markdown",
   "metadata": {},
   "source": [
    "Запишем в наш датафрейм уже очищенные от выбросов переменные и повторно выведем статистику. \n",
    "В результате выполнения очистки можно наблюдать, что показатели максимального, минимального,среднего значений, \n",
    "а также стандартного отклонения изменились. Значит у нас имелись выбросы, но из-за проведенных выше работ с выбросами, \n",
    "мы от них избавились, поэтому теперь наши данные соответствуют нормальному распределению,что говорит об отсутствии выбросов."
   ]
  },
  {
   "cell_type": "code",
   "execution_count": 11,
   "metadata": {},
   "outputs": [
    {
     "data": {
      "text/html": [
       "<div>\n",
       "<style scoped>\n",
       "    .dataframe tbody tr th:only-of-type {\n",
       "        vertical-align: middle;\n",
       "    }\n",
       "\n",
       "    .dataframe tbody tr th {\n",
       "        vertical-align: top;\n",
       "    }\n",
       "\n",
       "    .dataframe thead th {\n",
       "        text-align: right;\n",
       "    }\n",
       "</style>\n",
       "<table border=\"1\" class=\"dataframe\">\n",
       "  <thead>\n",
       "    <tr style=\"text-align: right;\">\n",
       "      <th></th>\n",
       "      <th>Age</th>\n",
       "      <th>ALB</th>\n",
       "      <th>ALP</th>\n",
       "      <th>ALT</th>\n",
       "      <th>AST</th>\n",
       "      <th>CHE</th>\n",
       "      <th>GGT</th>\n",
       "      <th>PROT</th>\n",
       "      <th>Category</th>\n",
       "    </tr>\n",
       "  </thead>\n",
       "  <tbody>\n",
       "    <tr>\n",
       "      <th>count</th>\n",
       "      <td>615.000000</td>\n",
       "      <td>615.000000</td>\n",
       "      <td>615.000000</td>\n",
       "      <td>615.000000</td>\n",
       "      <td>615.000000</td>\n",
       "      <td>615.000000</td>\n",
       "      <td>615.000000</td>\n",
       "      <td>615.000000</td>\n",
       "      <td>615.000000</td>\n",
       "    </tr>\n",
       "    <tr>\n",
       "      <th>mean</th>\n",
       "      <td>47.408130</td>\n",
       "      <td>41.619142</td>\n",
       "      <td>67.666273</td>\n",
       "      <td>27.375654</td>\n",
       "      <td>33.139378</td>\n",
       "      <td>8.191132</td>\n",
       "      <td>36.816201</td>\n",
       "      <td>72.117821</td>\n",
       "      <td>0.133333</td>\n",
       "    </tr>\n",
       "    <tr>\n",
       "      <th>std</th>\n",
       "      <td>10.055105</td>\n",
       "      <td>5.363302</td>\n",
       "      <td>20.790903</td>\n",
       "      <td>18.293360</td>\n",
       "      <td>23.652140</td>\n",
       "      <td>2.184622</td>\n",
       "      <td>37.237116</td>\n",
       "      <td>5.085763</td>\n",
       "      <td>0.340211</td>\n",
       "    </tr>\n",
       "    <tr>\n",
       "      <th>min</th>\n",
       "      <td>19.000000</td>\n",
       "      <td>24.292435</td>\n",
       "      <td>11.300000</td>\n",
       "      <td>0.900000</td>\n",
       "      <td>10.600000</td>\n",
       "      <td>1.579662</td>\n",
       "      <td>4.500000</td>\n",
       "      <td>55.849434</td>\n",
       "      <td>0.000000</td>\n",
       "    </tr>\n",
       "    <tr>\n",
       "      <th>25%</th>\n",
       "      <td>39.000000</td>\n",
       "      <td>38.800000</td>\n",
       "      <td>52.950000</td>\n",
       "      <td>16.400000</td>\n",
       "      <td>21.600000</td>\n",
       "      <td>6.935000</td>\n",
       "      <td>15.700000</td>\n",
       "      <td>69.300000</td>\n",
       "      <td>0.000000</td>\n",
       "    </tr>\n",
       "    <tr>\n",
       "      <th>50%</th>\n",
       "      <td>47.000000</td>\n",
       "      <td>41.900000</td>\n",
       "      <td>66.700000</td>\n",
       "      <td>23.000000</td>\n",
       "      <td>25.900000</td>\n",
       "      <td>8.260000</td>\n",
       "      <td>23.300000</td>\n",
       "      <td>72.200000</td>\n",
       "      <td>0.000000</td>\n",
       "    </tr>\n",
       "    <tr>\n",
       "      <th>75%</th>\n",
       "      <td>54.000000</td>\n",
       "      <td>45.200000</td>\n",
       "      <td>79.300000</td>\n",
       "      <td>33.050000</td>\n",
       "      <td>32.900000</td>\n",
       "      <td>9.590000</td>\n",
       "      <td>40.200000</td>\n",
       "      <td>75.400000</td>\n",
       "      <td>0.000000</td>\n",
       "    </tr>\n",
       "    <tr>\n",
       "      <th>max</th>\n",
       "      <td>77.000000</td>\n",
       "      <td>58.479990</td>\n",
       "      <td>145.215784</td>\n",
       "      <td>104.797633</td>\n",
       "      <td>134.058412</td>\n",
       "      <td>14.809541</td>\n",
       "      <td>203.516384</td>\n",
       "      <td>87.420364</td>\n",
       "      <td>1.000000</td>\n",
       "    </tr>\n",
       "  </tbody>\n",
       "</table>\n",
       "</div>"
      ],
      "text/plain": [
       "              Age         ALB         ALP         ALT         AST         CHE  \\\n",
       "count  615.000000  615.000000  615.000000  615.000000  615.000000  615.000000   \n",
       "mean    47.408130   41.619142   67.666273   27.375654   33.139378    8.191132   \n",
       "std     10.055105    5.363302   20.790903   18.293360   23.652140    2.184622   \n",
       "min     19.000000   24.292435   11.300000    0.900000   10.600000    1.579662   \n",
       "25%     39.000000   38.800000   52.950000   16.400000   21.600000    6.935000   \n",
       "50%     47.000000   41.900000   66.700000   23.000000   25.900000    8.260000   \n",
       "75%     54.000000   45.200000   79.300000   33.050000   32.900000    9.590000   \n",
       "max     77.000000   58.479990  145.215784  104.797633  134.058412   14.809541   \n",
       "\n",
       "              GGT        PROT    Category  \n",
       "count  615.000000  615.000000  615.000000  \n",
       "mean    36.816201   72.117821    0.133333  \n",
       "std     37.237116    5.085763    0.340211  \n",
       "min      4.500000   55.849434    0.000000  \n",
       "25%     15.700000   69.300000    0.000000  \n",
       "50%     23.300000   72.200000    0.000000  \n",
       "75%     40.200000   75.400000    0.000000  \n",
       "max    203.516384   87.420364    1.000000  "
      ]
     },
     "execution_count": 11,
     "metadata": {},
     "output_type": "execute_result"
    }
   ],
   "source": [
    "# Outliers\n",
    "df = outliers(df)\n",
    "df.describe()"
   ]
  },
  {
   "cell_type": "markdown",
   "metadata": {},
   "source": [
    "Проведем проверку типов данных по переменным и выявим соответствие."
   ]
  },
  {
   "cell_type": "code",
   "execution_count": 12,
   "metadata": {},
   "outputs": [
    {
     "data": {
      "text/plain": [
       "Age         float64\n",
       "Sex          object\n",
       "ALB         float64\n",
       "ALP         float64\n",
       "ALT         float64\n",
       "AST         float64\n",
       "CHE         float64\n",
       "GGT         float64\n",
       "PROT        float64\n",
       "Category    float64\n",
       "dtype: object"
      ]
     },
     "execution_count": 12,
     "metadata": {},
     "output_type": "execute_result"
    }
   ],
   "source": [
    "df.dtypes"
   ]
  },
  {
   "cell_type": "markdown",
   "metadata": {},
   "source": [
    "Мы получили подготовленный набор данных, который можно далее использовать для моделирования."
   ]
  },
  {
   "cell_type": "code",
   "execution_count": 13,
   "metadata": {},
   "outputs": [],
   "source": [
    "# Logistic Regression"
   ]
  },
  {
   "cell_type": "markdown",
   "metadata": {},
   "source": [
    "В нашем датасете присутствуют качественные переменные - пол. Ее необходимо закодировать с помощью функции.\n",
    "Запишем список нечисловых переменных и проведем кодирование качественных переменных. Результат запишем обратно в базу."
   ]
  },
  {
   "cell_type": "code",
   "execution_count": 14,
   "metadata": {},
   "outputs": [],
   "source": [
    "# Function Encoding\n",
    "def encoding_char(x):\n",
    "    char_var = list(set(x.columns) - set(x._get_numeric_data().columns))\n",
    "    for col_names in char_var:\n",
    "        f = pd.factorize(x[col_names])\n",
    "        x[col_names] = pd.factorize(x[col_names])[0]\n",
    "    return(x)"
   ]
  },
  {
   "cell_type": "code",
   "execution_count": 15,
   "metadata": {},
   "outputs": [],
   "source": [
    "# Encoding categorical data\n",
    "df = encoding_char(df)"
   ]
  },
  {
   "cell_type": "markdown",
   "metadata": {},
   "source": [
    "Посмотрим, как будут выглядеть наши закодированные данные. Теперь все переменные в ней являются числовыми. \n",
    "С ними можно теперь работать."
   ]
  },
  {
   "cell_type": "code",
   "execution_count": 16,
   "metadata": {},
   "outputs": [
    {
     "data": {
      "text/html": [
       "<div>\n",
       "<style scoped>\n",
       "    .dataframe tbody tr th:only-of-type {\n",
       "        vertical-align: middle;\n",
       "    }\n",
       "\n",
       "    .dataframe tbody tr th {\n",
       "        vertical-align: top;\n",
       "    }\n",
       "\n",
       "    .dataframe thead th {\n",
       "        text-align: right;\n",
       "    }\n",
       "</style>\n",
       "<table border=\"1\" class=\"dataframe\">\n",
       "  <thead>\n",
       "    <tr style=\"text-align: right;\">\n",
       "      <th></th>\n",
       "      <th>Age</th>\n",
       "      <th>Sex</th>\n",
       "      <th>ALB</th>\n",
       "      <th>ALP</th>\n",
       "      <th>ALT</th>\n",
       "      <th>AST</th>\n",
       "      <th>CHE</th>\n",
       "      <th>GGT</th>\n",
       "      <th>PROT</th>\n",
       "      <th>Category</th>\n",
       "    </tr>\n",
       "  </thead>\n",
       "  <tbody>\n",
       "    <tr>\n",
       "      <th>0</th>\n",
       "      <td>32.0</td>\n",
       "      <td>0</td>\n",
       "      <td>38.500000</td>\n",
       "      <td>52.500000</td>\n",
       "      <td>7.7</td>\n",
       "      <td>22.1</td>\n",
       "      <td>6.930000</td>\n",
       "      <td>12.100000</td>\n",
       "      <td>69.0</td>\n",
       "      <td>0.0</td>\n",
       "    </tr>\n",
       "    <tr>\n",
       "      <th>1</th>\n",
       "      <td>32.0</td>\n",
       "      <td>0</td>\n",
       "      <td>38.500000</td>\n",
       "      <td>70.300000</td>\n",
       "      <td>18.0</td>\n",
       "      <td>24.7</td>\n",
       "      <td>11.170000</td>\n",
       "      <td>15.600000</td>\n",
       "      <td>76.5</td>\n",
       "      <td>0.0</td>\n",
       "    </tr>\n",
       "    <tr>\n",
       "      <th>2</th>\n",
       "      <td>32.0</td>\n",
       "      <td>0</td>\n",
       "      <td>46.900000</td>\n",
       "      <td>74.700000</td>\n",
       "      <td>36.2</td>\n",
       "      <td>52.6</td>\n",
       "      <td>8.840000</td>\n",
       "      <td>33.200000</td>\n",
       "      <td>79.3</td>\n",
       "      <td>0.0</td>\n",
       "    </tr>\n",
       "    <tr>\n",
       "      <th>3</th>\n",
       "      <td>32.0</td>\n",
       "      <td>0</td>\n",
       "      <td>43.200000</td>\n",
       "      <td>52.000000</td>\n",
       "      <td>30.6</td>\n",
       "      <td>22.6</td>\n",
       "      <td>7.330000</td>\n",
       "      <td>33.800000</td>\n",
       "      <td>75.7</td>\n",
       "      <td>0.0</td>\n",
       "    </tr>\n",
       "    <tr>\n",
       "      <th>4</th>\n",
       "      <td>32.0</td>\n",
       "      <td>0</td>\n",
       "      <td>39.200000</td>\n",
       "      <td>74.100000</td>\n",
       "      <td>32.6</td>\n",
       "      <td>24.8</td>\n",
       "      <td>9.150000</td>\n",
       "      <td>29.900000</td>\n",
       "      <td>68.7</td>\n",
       "      <td>0.0</td>\n",
       "    </tr>\n",
       "    <tr>\n",
       "      <th>...</th>\n",
       "      <td>...</td>\n",
       "      <td>...</td>\n",
       "      <td>...</td>\n",
       "      <td>...</td>\n",
       "      <td>...</td>\n",
       "      <td>...</td>\n",
       "      <td>...</td>\n",
       "      <td>...</td>\n",
       "      <td>...</td>\n",
       "      <td>...</td>\n",
       "    </tr>\n",
       "    <tr>\n",
       "      <th>610</th>\n",
       "      <td>62.0</td>\n",
       "      <td>1</td>\n",
       "      <td>32.000000</td>\n",
       "      <td>145.215784</td>\n",
       "      <td>5.9</td>\n",
       "      <td>110.3</td>\n",
       "      <td>5.570000</td>\n",
       "      <td>203.516384</td>\n",
       "      <td>68.5</td>\n",
       "      <td>1.0</td>\n",
       "    </tr>\n",
       "    <tr>\n",
       "      <th>611</th>\n",
       "      <td>64.0</td>\n",
       "      <td>1</td>\n",
       "      <td>24.292435</td>\n",
       "      <td>102.800000</td>\n",
       "      <td>2.9</td>\n",
       "      <td>44.4</td>\n",
       "      <td>1.579662</td>\n",
       "      <td>35.900000</td>\n",
       "      <td>71.3</td>\n",
       "      <td>1.0</td>\n",
       "    </tr>\n",
       "    <tr>\n",
       "      <th>612</th>\n",
       "      <td>64.0</td>\n",
       "      <td>1</td>\n",
       "      <td>29.000000</td>\n",
       "      <td>87.300000</td>\n",
       "      <td>3.5</td>\n",
       "      <td>99.0</td>\n",
       "      <td>1.660000</td>\n",
       "      <td>64.200000</td>\n",
       "      <td>82.0</td>\n",
       "      <td>1.0</td>\n",
       "    </tr>\n",
       "    <tr>\n",
       "      <th>613</th>\n",
       "      <td>46.0</td>\n",
       "      <td>1</td>\n",
       "      <td>33.000000</td>\n",
       "      <td>68.283920</td>\n",
       "      <td>39.0</td>\n",
       "      <td>62.0</td>\n",
       "      <td>3.560000</td>\n",
       "      <td>50.000000</td>\n",
       "      <td>71.0</td>\n",
       "      <td>1.0</td>\n",
       "    </tr>\n",
       "    <tr>\n",
       "      <th>614</th>\n",
       "      <td>59.0</td>\n",
       "      <td>1</td>\n",
       "      <td>36.000000</td>\n",
       "      <td>68.283920</td>\n",
       "      <td>100.0</td>\n",
       "      <td>80.0</td>\n",
       "      <td>9.070000</td>\n",
       "      <td>34.000000</td>\n",
       "      <td>68.0</td>\n",
       "      <td>1.0</td>\n",
       "    </tr>\n",
       "  </tbody>\n",
       "</table>\n",
       "<p>615 rows × 10 columns</p>\n",
       "</div>"
      ],
      "text/plain": [
       "      Age  Sex        ALB         ALP    ALT    AST        CHE         GGT  \\\n",
       "0    32.0    0  38.500000   52.500000    7.7   22.1   6.930000   12.100000   \n",
       "1    32.0    0  38.500000   70.300000   18.0   24.7  11.170000   15.600000   \n",
       "2    32.0    0  46.900000   74.700000   36.2   52.6   8.840000   33.200000   \n",
       "3    32.0    0  43.200000   52.000000   30.6   22.6   7.330000   33.800000   \n",
       "4    32.0    0  39.200000   74.100000   32.6   24.8   9.150000   29.900000   \n",
       "..    ...  ...        ...         ...    ...    ...        ...         ...   \n",
       "610  62.0    1  32.000000  145.215784    5.9  110.3   5.570000  203.516384   \n",
       "611  64.0    1  24.292435  102.800000    2.9   44.4   1.579662   35.900000   \n",
       "612  64.0    1  29.000000   87.300000    3.5   99.0   1.660000   64.200000   \n",
       "613  46.0    1  33.000000   68.283920   39.0   62.0   3.560000   50.000000   \n",
       "614  59.0    1  36.000000   68.283920  100.0   80.0   9.070000   34.000000   \n",
       "\n",
       "     PROT  Category  \n",
       "0    69.0       0.0  \n",
       "1    76.5       0.0  \n",
       "2    79.3       0.0  \n",
       "3    75.7       0.0  \n",
       "4    68.7       0.0  \n",
       "..    ...       ...  \n",
       "610  68.5       1.0  \n",
       "611  71.3       1.0  \n",
       "612  82.0       1.0  \n",
       "613  71.0       1.0  \n",
       "614  68.0       1.0  \n",
       "\n",
       "[615 rows x 10 columns]"
      ]
     },
     "execution_count": 16,
     "metadata": {},
     "output_type": "execute_result"
    }
   ],
   "source": [
    "df"
   ]
  },
  {
   "cell_type": "markdown",
   "metadata": {},
   "source": [
    "Разделим наш датасет на обучающую и тестовую вывборку по пропорции 20% на 80%"
   ]
  },
  {
   "cell_type": "code",
   "execution_count": 17,
   "metadata": {},
   "outputs": [],
   "source": [
    "# Splitting the dataset into the Training set and Test set\n",
    "X = df.iloc[:, :-1].values\n",
    "y = df.iloc[:, -1].values\n",
    "from sklearn.model_selection import train_test_split\n",
    "X_train, X_test, y_train, y_test = train_test_split(X, y, test_size=0.2, random_state=13)"
   ]
  },
  {
   "cell_type": "markdown",
   "metadata": {},
   "source": [
    "Проведем шкалирование данных. Из библиотеки импортируем класс StandardScaler и рассчитаем и запишем в переменную необходимые \n",
    "параметры шкалирования, посчитанные на основе обучающей выборки. Затем с использованием жтих параметров шкалируем обучающую и \n",
    "тестовую выборкую. Эндогенная переменная в шкалировании не нуждается. Она должна быть дискретного типа 0;1. Что у нас и есть."
   ]
  },
  {
   "cell_type": "code",
   "execution_count": 18,
   "metadata": {},
   "outputs": [],
   "source": [
    "# Feature Scaling\n",
    "from sklearn.preprocessing import StandardScaler\n",
    "sc_X = StandardScaler().fit(X_train)\n",
    "X_train = sc_X.transform(X_train)\n",
    "X_test = sc_X.transform(X_test)"
   ]
  },
  {
   "cell_type": "markdown",
   "metadata": {},
   "source": [
    "Строим базовую модель. Для жтого из библиотеки statsmodels с помощью ф-и Logit посмотрим отчет по модели. Видим, что из все \n",
    "переменных значимыми будут переменные: Х5, Х6,Х8; т.к. их значения Р не превышают 1%. Остальные переменные не будем использовать\n",
    "для построения классификаторов."
   ]
  },
  {
   "cell_type": "code",
   "execution_count": 19,
   "metadata": {},
   "outputs": [
    {
     "name": "stdout",
     "output_type": "stream",
     "text": [
      "Optimization terminated successfully.\n",
      "         Current function value: 0.319196\n",
      "         Iterations 8\n",
      "                         Results: Logit\n",
      "=================================================================\n",
      "Model:              Logit            Pseudo R-squared: 0.198     \n",
      "Dependent Variable: y                AIC:              332.0884  \n",
      "Date:               2020-11-23 12:29 BIC:              369.8747  \n",
      "No. Observations:   492              Log-Likelihood:   -157.04   \n",
      "Df Model:           8                LL-Null:          -195.80   \n",
      "Df Residuals:       483              LLR p-value:      1.5480e-13\n",
      "Converged:          1.0000           Scale:            1.0000    \n",
      "No. Iterations:     8.0000                                       \n",
      "--------------------------------------------------------------------\n",
      "       Coef.     Std.Err.       z       P>|z|      [0.025     0.975]\n",
      "--------------------------------------------------------------------\n",
      "x1    -0.1793      0.1523    -1.1773    0.2391    -0.4779     0.1192\n",
      "x2     0.0076      0.1572     0.0482    0.9616    -0.3006     0.3157\n",
      "x3    -0.4735      0.2086    -2.2699    0.0232    -0.8824    -0.0646\n",
      "x4    -0.2855      0.1845    -1.5472    0.1218    -0.6471     0.0762\n",
      "x5    -1.7863      0.2590    -6.8976    0.0000    -2.2939    -1.2787\n",
      "x6     5.6411      0.5079    11.1073    0.0000     4.6457     6.6365\n",
      "x7    -0.3568      0.1867    -1.9106    0.0561    -0.7227     0.0092\n",
      "x8     0.9985      0.2320     4.3036    0.0000     0.5438     1.4532\n",
      "x9     0.2999      0.1959     1.5309    0.1258    -0.0840     0.6838\n",
      "=================================================================\n",
      "\n"
     ]
    }
   ],
   "source": [
    "# Baseline model\n",
    "import statsmodels.api as sm\n",
    "lr = sm.Logit(y_train, X_train).fit()\n",
    "print(lr.summary2())"
   ]
  },
  {
   "cell_type": "markdown",
   "metadata": {},
   "source": [
    "Используем оставленные нами значения Х5, Х6,Х8 для построения классификаторов. Преобразуем обучающую и тестовую выборку, \n",
    "оставив только значимые переменные. При чем проведем эксперимент: какая пара значений имеет лучшее качество."
   ]
  },
  {
   "cell_type": "markdown",
   "metadata": {},
   "source": [
    "Оставим значения Х5, Х6. Имеем:"
   ]
  },
  {
   "cell_type": "code",
   "execution_count": 20,
   "metadata": {},
   "outputs": [],
   "source": [
    "# p-value < 1% Features\n",
    "X_train1 = X_train[:,[4,5]]\n",
    "X_test1 = X_test[:,[4,5]]"
   ]
  },
  {
   "cell_type": "markdown",
   "metadata": {},
   "source": [
    "Обучим модель логистической регрессии с использованием библиотеки sklearn. "
   ]
  },
  {
   "cell_type": "code",
   "execution_count": 21,
   "metadata": {},
   "outputs": [],
   "source": [
    "# Fitting Logistic Regression to the Training set (2 variables)\n",
    "from sklearn.linear_model import LogisticRegression\n",
    "lr = LogisticRegression(random_state = 13).fit(X_train1, y_train)"
   ]
  },
  {
   "cell_type": "markdown",
   "metadata": {},
   "source": [
    "Проведем прогноз на тестовой выборке и оценим качество этой модели. Видим, что уровень качества базовой модели очень высок\n",
    "и превышает 95%. Значит 95% объектов у нас распознаны верно. "
   ]
  },
  {
   "cell_type": "code",
   "execution_count": 22,
   "metadata": {},
   "outputs": [
    {
     "data": {
      "text/plain": [
       "0.959349593495935"
      ]
     },
     "execution_count": 22,
     "metadata": {},
     "output_type": "execute_result"
    }
   ],
   "source": [
    "# Predicting the Test set results\n",
    "y_pred = lr.predict(X_test1)\n",
    "lr.score(X_test1,y_test)"
   ]
  },
  {
   "cell_type": "markdown",
   "metadata": {},
   "source": [
    "Оставим значения Х6, Х8. Имеем:"
   ]
  },
  {
   "cell_type": "code",
   "execution_count": 25,
   "metadata": {},
   "outputs": [],
   "source": [
    "# p-value < 1% Features\n",
    "X_train2 = X_train[:,[5,7]]\n",
    "X_test2 = X_test[:,[5,7]]"
   ]
  },
  {
   "cell_type": "markdown",
   "metadata": {},
   "source": [
    "Обучим модель логистической регрессии с использованием библиотеки sklearn. "
   ]
  },
  {
   "cell_type": "code",
   "execution_count": 26,
   "metadata": {},
   "outputs": [],
   "source": [
    "# Fitting Logistic Regression to the Training set (2 variables)\n",
    "from sklearn.linear_model import LogisticRegression\n",
    "lr = LogisticRegression(random_state = 13).fit(X_train2, y_train)"
   ]
  },
  {
   "cell_type": "markdown",
   "metadata": {},
   "source": [
    "Проведем прогноз на тестовой выборке и оценим качество этой модели. Видим, что уровень качества базовой модели очень высок\n",
    "и превышает 94%. Значит 94% объектов у нас распознаны верно. "
   ]
  },
  {
   "cell_type": "code",
   "execution_count": 27,
   "metadata": {},
   "outputs": [
    {
     "data": {
      "text/plain": [
       "0.943089430894309"
      ]
     },
     "execution_count": 27,
     "metadata": {},
     "output_type": "execute_result"
    }
   ],
   "source": [
    "# Predicting the Test set results\n",
    "y_pred = lr.predict(X_test2)\n",
    "lr.score(X_test2,y_test)"
   ]
  },
  {
   "cell_type": "markdown",
   "metadata": {},
   "source": [
    "Оставим значения Х5, Х8. Имеем:"
   ]
  },
  {
   "cell_type": "code",
   "execution_count": 28,
   "metadata": {},
   "outputs": [],
   "source": [
    "# p-value < 1% Features\n",
    "X_train3 = X_train[:,[4,7]]\n",
    "X_test3 = X_test[:,[4,7]]"
   ]
  },
  {
   "cell_type": "markdown",
   "metadata": {},
   "source": [
    "Обучим модель логистической регрессии с использованием библиотеки sklearn. "
   ]
  },
  {
   "cell_type": "code",
   "execution_count": 29,
   "metadata": {},
   "outputs": [],
   "source": [
    "# Fitting Logistic Regression to the Training set (2 variables)\n",
    "from sklearn.linear_model import LogisticRegression\n",
    "lr = LogisticRegression(random_state = 13).fit(X_train3, y_train)"
   ]
  },
  {
   "cell_type": "markdown",
   "metadata": {},
   "source": [
    "Проведем прогноз на тестовой выборке и оценим качество этой модели. Видим, что уровень качества базовой модели очень высок\n",
    "и превышает 89%. Значит 89% объектов у нас распознаны верно. "
   ]
  },
  {
   "cell_type": "code",
   "execution_count": 30,
   "metadata": {},
   "outputs": [
    {
     "data": {
      "text/plain": [
       "0.8943089430894309"
      ]
     },
     "execution_count": 30,
     "metadata": {},
     "output_type": "execute_result"
    }
   ],
   "source": [
    "# Predicting the Test set results\n",
    "y_pred = lr.predict(X_test3)\n",
    "lr.score(X_test3,y_test)"
   ]
  },
  {
   "cell_type": "markdown",
   "metadata": {},
   "source": [
    "В соответствии с качеством модели делаем вывод, что стоит оставить переменные Х5 и Х6, т.к. качество можели составляет 95.9%"
   ]
  },
  {
   "cell_type": "markdown",
   "metadata": {},
   "source": [
    "Посмотрим на таблицу сопряженности. Видим, что 5 положительных случаев ложно определены как отрицательные и 0 отрицательных\n",
    "случаев ложно определены как положительный."
   ]
  },
  {
   "cell_type": "code",
   "execution_count": 23,
   "metadata": {},
   "outputs": [
    {
     "name": "stdout",
     "output_type": "stream",
     "text": [
      "[[108   0]\n",
      " [  5  10]]\n"
     ]
    }
   ],
   "source": [
    "# Making the Confusion Matrix\n",
    "from sklearn.metrics import confusion_matrix\n",
    "cm = confusion_matrix(y_test, y_pred)\n",
    "print(cm)"
   ]
  },
  {
   "cell_type": "markdown",
   "metadata": {},
   "source": [
    "Посмотрим на область значений нашей функции для визуализации разделяющей прямой. Это нужно для того, чтобы понимать как объекты\n",
    "одного типа отделяются от объектов другого типа. По каждой переменной создадим множество точек в диапазоне изменения пременных \n",
    "от минимума до максимума с шагом в 0,01. Множество зеленых точек - прогноз класса 1, множество красных точек - прогноз класса 0."
   ]
  },
  {
   "cell_type": "code",
   "execution_count": 24,
   "metadata": {},
   "outputs": [
    {
     "name": "stderr",
     "output_type": "stream",
     "text": [
      "*c* argument looks like a single numeric RGB or RGBA sequence, which should be avoided as value-mapping will have precedence in case its length matches with *x* & *y*.  Please use the *color* keyword-argument or provide a 2-D array with a single row if you intend to specify the same RGB or RGBA value for all points.\n",
      "*c* argument looks like a single numeric RGB or RGBA sequence, which should be avoided as value-mapping will have precedence in case its length matches with *x* & *y*.  Please use the *color* keyword-argument or provide a 2-D array with a single row if you intend to specify the same RGB or RGBA value for all points.\n"
     ]
    },
    {
     "data": {
      "image/png": "[encoded data removed]",
      "text/plain": [
       "<Figure size 432x288 with 1 Axes>"
      ]
     },
     "metadata": {
      "needs_background": "light"
     },
     "output_type": "display_data"
    }
   ],
   "source": [
    "# Visualising the Test set results\n",
    "from matplotlib.colors import ListedColormap\n",
    "X_set, y_set = X_test1, y_test\n",
    "X1, X2 = np.meshgrid(np.arange(start = X_set[:, 0].min() - 1, stop = X_set[:, 0].max() + 1, step = 0.01),\n",
    "                     np.arange(start = X_set[:, 1].min() - 1, stop = X_set[:, 1].max() + 1, step = 0.01))\n",
    "plt.contourf(X1, X2, lr.predict(np.array([X1.ravel(), X2.ravel()]).T).reshape(X1.shape),\n",
    "             alpha = 0.75, cmap = ListedColormap(('red', 'green')))\n",
    "plt.xlim(X1.min(), X1.max())\n",
    "plt.ylim(X2.min(), X2.max())\n",
    "for i, j in enumerate(np.unique(y_set)):\n",
    "    plt.scatter(X_set[y_set == j, 0], X_set[y_set == j, 1],\n",
    "                c = ListedColormap(('red', 'green'))(i), label = j)\n",
    "plt.title('Logistic Regression (Test set)')\n",
    "plt.xlabel('ALT')\n",
    "plt.ylabel('AST')\n",
    "plt.legend()\n",
    "plt.show()"
   ]
  },
  {
   "cell_type": "markdown",
   "metadata": {},
   "source": [
    "Исходя из графика можем сделать вывод, что чем значения ALT и AST меньше, тем меньше людей подвержены заболеваию (количество \n",
    "здоровых больше). И чем значения ALT и AST, тем больше люди подвержены заболеваию (количество больных больше). Зеленые точки на \n",
    "красном фоне - ошибка модели, заболевшие люди определились как здоровые. Красных точек на зеленом фоне нет. "
   ]
  },
  {
   "cell_type": "markdown",
   "metadata": {},
   "source": [
    "Запишем наши выборки в объект для того, чтобы использовать ее для построения все основных моделей."
   ]
  },
  {
   "cell_type": "code",
   "execution_count": 25,
   "metadata": {},
   "outputs": [],
   "source": [
    "import pickle\n",
    "obj = {'X_train': X_train1, 'X_test': X_test1,'y_train': y_train,'y_test': y_test}\n",
    "output = open('data.pkl', 'wb')\n",
    "pickle.dump(obj, output, 2)\n",
    "output.close()"
   ]
  },
  {
   "cell_type": "markdown",
   "metadata": {},
   "source": [
    "14 Classification Neural Network\n"
   ]
  },
  {
   "cell_type": "markdown",
   "metadata": {},
   "source": [
    "Рассмотрим модель классификации, основанную на нейронных сетях. Импортируем библиотеки, данные и модули."
   ]
  },
  {
   "cell_type": "code",
   "execution_count": 26,
   "metadata": {},
   "outputs": [],
   "source": [
    "# Importing the libraries\n",
    "import numpy as np\n",
    "import matplotlib.pyplot as plt\n",
    "import pandas as pd"
   ]
  },
  {
   "cell_type": "code",
   "execution_count": 27,
   "metadata": {},
   "outputs": [],
   "source": [
    "# Importing prepared dataset\n",
    "import pickle\n",
    "input = open('data.pkl', 'rb')\n",
    "obj = pickle.load(input)\n",
    "input.close()\n",
    "X_train = obj[\"X_train\"]\n",
    "X_test = obj[\"X_test\"]\n",
    "y_train = obj[\"y_train\"]\n",
    "y_test = obj[\"y_test\"]"
   ]
  },
  {
   "cell_type": "code",
   "execution_count": 28,
   "metadata": {},
   "outputs": [],
   "source": [
    "# Install Tensorflow\n",
    "# Install Keras\n",
    "# Importing the Keras libraries and packages\n",
    "import keras\n",
    "from keras.models import Sequential\n",
    "from keras.layers import Dense"
   ]
  },
  {
   "cell_type": "markdown",
   "metadata": {},
   "source": [
    "Построим нейронную сеть прямой передачи сигнала. Обычно для этого используется сужающая архитектура -число нейронов на первом\n",
    "слое не превышает число нейронов на входном слое. Т.к. у нас всего 2 параметра классификации - на входном слое у нас будет всего\n",
    "2 нейрона. Поэтому на 1м слое мы тоже будем использовать 2 нейрона. На втором слое выберем один нейрон, т.к.  одного\n",
    "элемента со значением 0;1  будет достаточно. Число выходов классификатора= число классов -1. Используем сигмоидальную ф-ю, т.к.\n",
    "она изменяется в интервале [0;1]."
   ]
  },
  {
   "cell_type": "code",
   "execution_count": 29,
   "metadata": {},
   "outputs": [],
   "source": [
    "# Initialising the ANN\n",
    "cnn = Sequential()\n",
    "\n",
    "# Adding the input layer and the first hidden layer\n",
    "cnn.add(Dense(units = 2, kernel_initializer = 'uniform', activation = 'relu', input_dim = 2))\n",
    "\n",
    "# Adding the output layer\n",
    "cnn.add(Dense(units = 1, kernel_initializer = 'uniform', activation = 'sigmoid'))\n",
    "\n",
    "# Compiling the ANN\n",
    "cnn.compile(optimizer = 'adam', loss = 'binary_crossentropy', metrics = ['accuracy'])"
   ]
  },
  {
   "cell_type": "markdown",
   "metadata": {},
   "source": [
    "Обучим нашу нейронную сеть в течении 100 эпох и посмотрим, каков прогноз и качество прогноза на тестовой выборке."
   ]
  },
  {
   "cell_type": "code",
   "execution_count": 31,
   "metadata": {},
   "outputs": [
    {
     "name": "stdout",
     "output_type": "stream",
     "text": [
      "Epoch 1/100\n",
      " 1/50 [..............................] - ETA: 0s - loss: 0.6931 - accuracy: 0.6000WARNING:tensorflow:Callbacks method `on_train_batch_end` is slow compared to the batch time (batch time: 0.0000s vs `on_train_batch_end` time: 0.0010s). Check your callbacks.\n",
      "50/50 [==============================] - 0s 600us/step - loss: 0.6838 - accuracy: 0.8577\n",
      "Epoch 2/100\n",
      "50/50 [==============================] - 0s 520us/step - loss: 0.6625 - accuracy: 0.8638\n",
      "Epoch 3/100\n",
      "50/50 [==============================] - 0s 440us/step - loss: 0.6362 - accuracy: 0.8638\n",
      "Epoch 4/100\n",
      "50/50 [==============================] - 0s 500us/step - loss: 0.6056 - accuracy: 0.8638\n",
      "Epoch 5/100\n",
      "50/50 [==============================] - 0s 420us/step - loss: 0.5711 - accuracy: 0.8638\n",
      "Epoch 6/100\n",
      "50/50 [==============================] - 0s 520us/step - loss: 0.5349 - accuracy: 0.8760\n",
      "Epoch 7/100\n",
      "50/50 [==============================] - 0s 440us/step - loss: 0.4984 - accuracy: 0.9045\n",
      "Epoch 8/100\n",
      "50/50 [==============================] - 0s 460us/step - loss: 0.4623 - accuracy: 0.9106\n",
      "Epoch 9/100\n",
      "50/50 [==============================] - 0s 440us/step - loss: 0.4280 - accuracy: 0.9187\n",
      "Epoch 10/100\n",
      "50/50 [==============================] - 0s 460us/step - loss: 0.3957 - accuracy: 0.9207\n",
      "Epoch 11/100\n",
      "50/50 [==============================] - 0s 500us/step - loss: 0.3662 - accuracy: 0.9268\n",
      "Epoch 12/100\n",
      "50/50 [==============================] - 0s 460us/step - loss: 0.3398 - accuracy: 0.9289\n",
      "Epoch 13/100\n",
      "50/50 [==============================] - 0s 460us/step - loss: 0.3164 - accuracy: 0.9329\n",
      "Epoch 14/100\n",
      "50/50 [==============================] - 0s 420us/step - loss: 0.2954 - accuracy: 0.9350\n",
      "Epoch 15/100\n",
      "50/50 [==============================] - 0s 460us/step - loss: 0.2776 - accuracy: 0.9390\n",
      "Epoch 16/100\n",
      "50/50 [==============================] - 0s 400us/step - loss: 0.2620 - accuracy: 0.9390\n",
      "Epoch 17/100\n",
      "50/50 [==============================] - 0s 460us/step - loss: 0.2484 - accuracy: 0.9370\n",
      "Epoch 18/100\n",
      "50/50 [==============================] - 0s 420us/step - loss: 0.2364 - accuracy: 0.9370\n",
      "Epoch 19/100\n",
      "50/50 [==============================] - 0s 480us/step - loss: 0.2262 - accuracy: 0.9370\n",
      "Epoch 20/100\n",
      "50/50 [==============================] - 0s 500us/step - loss: 0.2174 - accuracy: 0.9370\n",
      "Epoch 21/100\n",
      "50/50 [==============================] - 0s 900us/step - loss: 0.2098 - accuracy: 0.9370\n",
      "Epoch 22/100\n",
      "50/50 [==============================] - 0s 500us/step - loss: 0.2035 - accuracy: 0.9370\n",
      "Epoch 23/100\n",
      "50/50 [==============================] - 0s 500us/step - loss: 0.1985 - accuracy: 0.9370\n",
      "Epoch 24/100\n",
      "50/50 [==============================] - 0s 700us/step - loss: 0.1939 - accuracy: 0.9350\n",
      "Epoch 25/100\n",
      "50/50 [==============================] - 0s 460us/step - loss: 0.1899 - accuracy: 0.9370\n",
      "Epoch 26/100\n",
      "50/50 [==============================] - 0s 420us/step - loss: 0.1867 - accuracy: 0.9370\n",
      "Epoch 27/100\n",
      "50/50 [==============================] - 0s 500us/step - loss: 0.1838 - accuracy: 0.9370\n",
      "Epoch 28/100\n",
      "50/50 [==============================] - 0s 480us/step - loss: 0.1811 - accuracy: 0.9370\n",
      "Epoch 29/100\n",
      "50/50 [==============================] - 0s 440us/step - loss: 0.1790 - accuracy: 0.9370\n",
      "Epoch 30/100\n",
      "50/50 [==============================] - 0s 500us/step - loss: 0.1772 - accuracy: 0.9370\n",
      "Epoch 31/100\n",
      "50/50 [==============================] - 0s 500us/step - loss: 0.1755 - accuracy: 0.9370\n",
      "Epoch 32/100\n",
      "50/50 [==============================] - 0s 500us/step - loss: 0.1738 - accuracy: 0.9370\n",
      "Epoch 33/100\n",
      "50/50 [==============================] - 0s 500us/step - loss: 0.1725 - accuracy: 0.9390\n",
      "Epoch 34/100\n",
      "50/50 [==============================] - 0s 480us/step - loss: 0.1713 - accuracy: 0.9390\n",
      "Epoch 35/100\n",
      "50/50 [==============================] - 0s 480us/step - loss: 0.1702 - accuracy: 0.9390\n",
      "Epoch 36/100\n",
      "50/50 [==============================] - 0s 500us/step - loss: 0.1693 - accuracy: 0.9390\n",
      "Epoch 37/100\n",
      "50/50 [==============================] - 0s 440us/step - loss: 0.1683 - accuracy: 0.9370\n",
      "Epoch 38/100\n",
      "50/50 [==============================] - 0s 500us/step - loss: 0.1676 - accuracy: 0.9370\n",
      "Epoch 39/100\n",
      "50/50 [==============================] - 0s 480us/step - loss: 0.1669 - accuracy: 0.9370\n",
      "Epoch 40/100\n",
      "50/50 [==============================] - 0s 500us/step - loss: 0.1663 - accuracy: 0.9370\n",
      "Epoch 41/100\n",
      "50/50 [==============================] - 0s 500us/step - loss: 0.1660 - accuracy: 0.9370\n",
      "Epoch 42/100\n",
      "50/50 [==============================] - 0s 460us/step - loss: 0.1654 - accuracy: 0.9370\n",
      "Epoch 43/100\n",
      "50/50 [==============================] - 0s 460us/step - loss: 0.1649 - accuracy: 0.9370\n",
      "Epoch 44/100\n",
      "50/50 [==============================] - 0s 440us/step - loss: 0.1644 - accuracy: 0.9390\n",
      "Epoch 45/100\n",
      "50/50 [==============================] - 0s 440us/step - loss: 0.1639 - accuracy: 0.9390\n",
      "Epoch 46/100\n",
      "50/50 [==============================] - 0s 400us/step - loss: 0.1636 - accuracy: 0.9411\n",
      "Epoch 47/100\n",
      "50/50 [==============================] - 0s 440us/step - loss: 0.1630 - accuracy: 0.9411\n",
      "Epoch 48/100\n",
      "50/50 [==============================] - 0s 400us/step - loss: 0.1626 - accuracy: 0.9411\n",
      "Epoch 49/100\n",
      "50/50 [==============================] - 0s 760us/step - loss: 0.1623 - accuracy: 0.9411\n",
      "Epoch 50/100\n",
      "50/50 [==============================] - 0s 480us/step - loss: 0.1620 - accuracy: 0.9411\n",
      "Epoch 51/100\n",
      "50/50 [==============================] - 0s 440us/step - loss: 0.1615 - accuracy: 0.9411\n",
      "Epoch 52/100\n",
      "50/50 [==============================] - 0s 500us/step - loss: 0.1614 - accuracy: 0.9411\n",
      "Epoch 53/100\n",
      "50/50 [==============================] - 0s 480us/step - loss: 0.1609 - accuracy: 0.9411\n",
      "Epoch 54/100\n",
      "50/50 [==============================] - 0s 460us/step - loss: 0.1606 - accuracy: 0.9411\n",
      "Epoch 55/100\n",
      "50/50 [==============================] - 0s 440us/step - loss: 0.1604 - accuracy: 0.9411\n",
      "Epoch 56/100\n",
      "50/50 [==============================] - 0s 500us/step - loss: 0.1601 - accuracy: 0.9411\n",
      "Epoch 57/100\n",
      "50/50 [==============================] - 0s 580us/step - loss: 0.1599 - accuracy: 0.9411\n",
      "Epoch 58/100\n",
      "50/50 [==============================] - 0s 540us/step - loss: 0.1595 - accuracy: 0.9411\n",
      "Epoch 59/100\n",
      "50/50 [==============================] - 0s 440us/step - loss: 0.1595 - accuracy: 0.9411\n",
      "Epoch 60/100\n",
      "50/50 [==============================] - 0s 480us/step - loss: 0.1591 - accuracy: 0.9411\n",
      "Epoch 61/100\n",
      "50/50 [==============================] - 0s 440us/step - loss: 0.1589 - accuracy: 0.9411\n",
      "Epoch 62/100\n",
      "50/50 [==============================] - 0s 480us/step - loss: 0.1588 - accuracy: 0.9411\n",
      "Epoch 63/100\n",
      "50/50 [==============================] - 0s 440us/step - loss: 0.1586 - accuracy: 0.9411\n",
      "Epoch 64/100\n",
      "50/50 [==============================] - 0s 480us/step - loss: 0.1585 - accuracy: 0.9431\n",
      "Epoch 65/100\n",
      "50/50 [==============================] - 0s 500us/step - loss: 0.1582 - accuracy: 0.9411\n",
      "Epoch 66/100\n",
      "50/50 [==============================] - 0s 440us/step - loss: 0.1581 - accuracy: 0.9411\n",
      "Epoch 67/100\n",
      "50/50 [==============================] - 0s 460us/step - loss: 0.1581 - accuracy: 0.9411\n",
      "Epoch 68/100\n",
      "50/50 [==============================] - 0s 460us/step - loss: 0.1578 - accuracy: 0.9411\n",
      "Epoch 69/100\n",
      "50/50 [==============================] - 0s 460us/step - loss: 0.1578 - accuracy: 0.9411\n",
      "Epoch 70/100\n",
      "50/50 [==============================] - 0s 460us/step - loss: 0.1576 - accuracy: 0.9411\n",
      "Epoch 71/100\n",
      "50/50 [==============================] - 0s 460us/step - loss: 0.1576 - accuracy: 0.9411\n",
      "Epoch 72/100\n",
      "50/50 [==============================] - 0s 460us/step - loss: 0.1574 - accuracy: 0.9411\n",
      "Epoch 73/100\n",
      "50/50 [==============================] - 0s 460us/step - loss: 0.1573 - accuracy: 0.9390\n",
      "Epoch 74/100\n",
      "50/50 [==============================] - 0s 480us/step - loss: 0.1570 - accuracy: 0.9390\n",
      "Epoch 75/100\n",
      "50/50 [==============================] - 0s 440us/step - loss: 0.1566 - accuracy: 0.9390\n",
      "Epoch 76/100\n",
      "50/50 [==============================] - 0s 460us/step - loss: 0.1565 - accuracy: 0.9411\n",
      "Epoch 77/100\n",
      "50/50 [==============================] - 0s 440us/step - loss: 0.1563 - accuracy: 0.9411\n",
      "Epoch 78/100\n"
     ]
    },
    {
     "name": "stdout",
     "output_type": "stream",
     "text": [
      "50/50 [==============================] - 0s 440us/step - loss: 0.1561 - accuracy: 0.9431\n",
      "Epoch 79/100\n",
      "50/50 [==============================] - 0s 420us/step - loss: 0.1558 - accuracy: 0.9431\n",
      "Epoch 80/100\n",
      "50/50 [==============================] - 0s 500us/step - loss: 0.1558 - accuracy: 0.9431\n",
      "Epoch 81/100\n",
      "50/50 [==============================] - 0s 420us/step - loss: 0.1556 - accuracy: 0.9431\n",
      "Epoch 82/100\n",
      "50/50 [==============================] - 0s 440us/step - loss: 0.1556 - accuracy: 0.9431\n",
      "Epoch 83/100\n",
      "50/50 [==============================] - 0s 440us/step - loss: 0.1554 - accuracy: 0.9431\n",
      "Epoch 84/100\n",
      "50/50 [==============================] - 0s 440us/step - loss: 0.1554 - accuracy: 0.9411\n",
      "Epoch 85/100\n",
      "50/50 [==============================] - 0s 480us/step - loss: 0.1553 - accuracy: 0.9431\n",
      "Epoch 86/100\n",
      "50/50 [==============================] - 0s 440us/step - loss: 0.1551 - accuracy: 0.9411\n",
      "Epoch 87/100\n",
      "50/50 [==============================] - 0s 460us/step - loss: 0.1551 - accuracy: 0.9411\n",
      "Epoch 88/100\n",
      "50/50 [==============================] - 0s 440us/step - loss: 0.1549 - accuracy: 0.9390\n",
      "Epoch 89/100\n",
      "50/50 [==============================] - 0s 460us/step - loss: 0.1548 - accuracy: 0.9390\n",
      "Epoch 90/100\n",
      "50/50 [==============================] - 0s 440us/step - loss: 0.1546 - accuracy: 0.9390\n",
      "Epoch 91/100\n",
      "50/50 [==============================] - 0s 460us/step - loss: 0.1547 - accuracy: 0.9390\n",
      "Epoch 92/100\n",
      "50/50 [==============================] - 0s 420us/step - loss: 0.1546 - accuracy: 0.9390\n",
      "Epoch 93/100\n",
      "50/50 [==============================] - 0s 480us/step - loss: 0.1544 - accuracy: 0.9390\n",
      "Epoch 94/100\n",
      "50/50 [==============================] - 0s 440us/step - loss: 0.1544 - accuracy: 0.9411\n",
      "Epoch 95/100\n",
      "50/50 [==============================] - 0s 620us/step - loss: 0.1543 - accuracy: 0.9390\n",
      "Epoch 96/100\n",
      "50/50 [==============================] - 0s 440us/step - loss: 0.1541 - accuracy: 0.9390\n",
      "Epoch 97/100\n",
      "50/50 [==============================] - 0s 440us/step - loss: 0.1542 - accuracy: 0.9390\n",
      "Epoch 98/100\n",
      "50/50 [==============================] - 0s 460us/step - loss: 0.1541 - accuracy: 0.9390\n",
      "Epoch 99/100\n",
      "50/50 [==============================] - 0s 440us/step - loss: 0.1540 - accuracy: 0.9390\n",
      "Epoch 100/100\n",
      "50/50 [==============================] - 0s 460us/step - loss: 0.1537 - accuracy: 0.9390\n"
     ]
    },
    {
     "data": {
      "text/plain": [
       "<tensorflow.python.keras.callbacks.History at 0x1df2c785640>"
      ]
     },
     "execution_count": 31,
     "metadata": {},
     "output_type": "execute_result"
    }
   ],
   "source": [
    "# Fitting the ANN to the Training set\n",
    "cnn.fit(X_train, y_train, batch_size = 10, epochs = 100)"
   ]
  },
  {
   "cell_type": "markdown",
   "metadata": {},
   "source": [
    "Проведем прогнозирование "
   ]
  },
  {
   "cell_type": "code",
   "execution_count": 45,
   "metadata": {},
   "outputs": [],
   "source": [
    "# Predicting the Test set results\n",
    "y_pred = cnn.predict(X_test)\n",
    "y_pred = (y_pred > 0.5)"
   ]
  },
  {
   "cell_type": "code",
   "execution_count": null,
   "metadata": {},
   "outputs": [],
   "source": [
    "Построим таблицу сопряженности. Видим, что 4 положительных случаев ложно определены как отрицательные и 1 отрицательный\n",
    "случаей ложно определен как положительный. "
   ]
  },
  {
   "cell_type": "code",
   "execution_count": 46,
   "metadata": {},
   "outputs": [
    {
     "name": "stdout",
     "output_type": "stream",
     "text": [
      "[[107   1]\n",
      " [  4  11]]\n"
     ]
    }
   ],
   "source": [
    "# Making the Confusion Matrix\n",
    "from sklearn.metrics import confusion_matrix\n",
    "cm = confusion_matrix(y_test, y_pred)\n",
    "print(cm)"
   ]
  },
  {
   "cell_type": "code",
   "execution_count": null,
   "metadata": {},
   "outputs": [],
   "source": [
    "Посмотрим на разделяющую кривая. Она нелинейна. 5 объектов определены ошибочно."
   ]
  },
  {
   "cell_type": "code",
   "execution_count": 47,
   "metadata": {},
   "outputs": [
    {
     "name": "stderr",
     "output_type": "stream",
     "text": [
      "*c* argument looks like a single numeric RGB or RGBA sequence, which should be avoided as value-mapping will have precedence in case its length matches with *x* & *y*.  Please use the *color* keyword-argument or provide a 2-D array with a single row if you intend to specify the same RGB or RGBA value for all points.\n",
      "*c* argument looks like a single numeric RGB or RGBA sequence, which should be avoided as value-mapping will have precedence in case its length matches with *x* & *y*.  Please use the *color* keyword-argument or provide a 2-D array with a single row if you intend to specify the same RGB or RGBA value for all points.\n"
     ]
    },
    {
     "data": {
      "image/png": "[encoded data removed]",
      "text/plain": [
       "<Figure size 432x288 with 1 Axes>"
      ]
     },
     "metadata": {
      "needs_background": "light"
     },
     "output_type": "display_data"
    }
   ],
   "source": [
    "# Visualising the Test set results\n",
    "from matplotlib.colors import ListedColormap\n",
    "X_set, y_set = X_test, y_test\n",
    "X1, X2 = np.meshgrid(np.arange(start = X_set[:, 0].min() - 1, stop = X_set[:, 0].max() + 1, step = 0.01),\n",
    "                     np.arange(start = X_set[:, 1].min() - 1, stop = X_set[:, 1].max() + 1, step = 0.01))\n",
    "plt.contourf(X1, X2, cnn.predict(np.array([X1.ravel(), X2.ravel()]).T).reshape(X1.shape),\n",
    "             alpha = 0.75, cmap = ListedColormap(('red', 'green')))\n",
    "plt.xlim(X1.min(), X1.max())\n",
    "plt.ylim(X2.min(), X2.max())\n",
    "for i, j in enumerate(np.unique(y_set)):\n",
    "    plt.scatter(X_set[y_set == j, 0], X_set[y_set == j, 1],\n",
    "                c = ListedColormap(('red', 'green'))(i), label = j)\n",
    "plt.title('NN (Test set)')\n",
    "plt.xlabel('ALT')\n",
    "plt.ylabel('AST')\n",
    "plt.legend()\n",
    "plt.show()"
   ]
  },
  {
   "cell_type": "markdown",
   "metadata": {},
   "source": [
    "Увеличим число нейронов на первом слое до 8ми. Получим:"
   ]
  },
  {
   "cell_type": "code",
   "execution_count": 48,
   "metadata": {},
   "outputs": [],
   "source": [
    "# Initialising the ANN\n",
    "cnn = Sequential()\n",
    "\n",
    "# Adding the input layer and the first hidden layer\n",
    "cnn.add(Dense(units = 8, kernel_initializer = 'uniform', activation = 'relu', input_dim = 2))\n",
    "\n",
    "# Adding the output layer\n",
    "cnn.add(Dense(units = 1, kernel_initializer = 'uniform', activation = 'sigmoid'))\n",
    "\n",
    "# Compiling the ANN\n",
    "cnn.compile(optimizer = 'adam', loss = 'binary_crossentropy', metrics = ['accuracy'])"
   ]
  },
  {
   "cell_type": "markdown",
   "metadata": {},
   "source": [
    "Обучим нашу нейронную сеть в течении 100 эпох и посмотрим, каков прогноз и качество прогноза на тестовой выборке."
   ]
  },
  {
   "cell_type": "code",
   "execution_count": 49,
   "metadata": {},
   "outputs": [
    {
     "name": "stdout",
     "output_type": "stream",
     "text": [
      "Epoch 1/100\n",
      "50/50 [==============================] - 0s 880us/step - loss: 0.6830 - accuracy: 0.8394\n",
      "Epoch 2/100\n",
      "50/50 [==============================] - 0s 960us/step - loss: 0.6547 - accuracy: 0.8862\n",
      "Epoch 3/100\n",
      "50/50 [==============================] - 0s 960us/step - loss: 0.6084 - accuracy: 0.9045\n",
      "Epoch 4/100\n",
      "50/50 [==============================] - 0s 960us/step - loss: 0.5397 - accuracy: 0.9187\n",
      "Epoch 5/100\n",
      "50/50 [==============================] - 0s 1ms/step - loss: 0.4632 - accuracy: 0.9329\n",
      "Epoch 6/100\n",
      "50/50 [==============================] - 0s 960us/step - loss: 0.3920 - accuracy: 0.9370\n",
      "Epoch 7/100\n",
      "50/50 [==============================] - 0s 960us/step - loss: 0.3335 - accuracy: 0.9370\n",
      "Epoch 8/100\n",
      "50/50 [==============================] - 0s 1ms/step - loss: 0.2888 - accuracy: 0.9370\n",
      "Epoch 9/100\n",
      "50/50 [==============================] - 0s 960us/step - loss: 0.2554 - accuracy: 0.9350\n",
      "Epoch 10/100\n",
      "50/50 [==============================] - 0s 1ms/step - loss: 0.2311 - accuracy: 0.9350\n",
      "Epoch 11/100\n",
      "50/50 [==============================] - 0s 960us/step - loss: 0.2132 - accuracy: 0.9350\n",
      "Epoch 12/100\n",
      "50/50 [==============================] - 0s 960us/step - loss: 0.2006 - accuracy: 0.9370\n",
      "Epoch 13/100\n",
      "50/50 [==============================] - 0s 960us/step - loss: 0.1908 - accuracy: 0.9350\n",
      "Epoch 14/100\n",
      "50/50 [==============================] - 0s 880us/step - loss: 0.1841 - accuracy: 0.9390\n",
      "Epoch 15/100\n",
      "50/50 [==============================] - 0s 800us/step - loss: 0.1789 - accuracy: 0.9390\n",
      "Epoch 16/100\n",
      "50/50 [==============================] - 0s 902us/step - loss: 0.1751 - accuracy: 0.9370\n",
      "Epoch 17/100\n",
      "50/50 [==============================] - 0s 1ms/step - loss: 0.1721 - accuracy: 0.9350\n",
      "Epoch 18/100\n",
      "50/50 [==============================] - 0s 880us/step - loss: 0.1693 - accuracy: 0.9370\n",
      "Epoch 19/100\n",
      "50/50 [==============================] - 0s 1ms/step - loss: 0.1672 - accuracy: 0.9390\n",
      "Epoch 20/100\n",
      "50/50 [==============================] - 0s 880us/step - loss: 0.1659 - accuracy: 0.9411\n",
      "Epoch 21/100\n",
      "50/50 [==============================] - 0s 960us/step - loss: 0.1643 - accuracy: 0.9411\n",
      "Epoch 22/100\n",
      "50/50 [==============================] - 0s 960us/step - loss: 0.1634 - accuracy: 0.9411\n",
      "Epoch 23/100\n",
      "50/50 [==============================] - 0s 960us/step - loss: 0.1621 - accuracy: 0.9411\n",
      "Epoch 24/100\n",
      "50/50 [==============================] - 0s 960us/step - loss: 0.1614 - accuracy: 0.9411\n",
      "Epoch 25/100\n",
      "50/50 [==============================] - 0s 960us/step - loss: 0.1608 - accuracy: 0.9411\n",
      "Epoch 26/100\n",
      "50/50 [==============================] - 0s 960us/step - loss: 0.1602 - accuracy: 0.9411\n",
      "Epoch 27/100\n",
      "50/50 [==============================] - 0s 960us/step - loss: 0.1595 - accuracy: 0.9411\n",
      "Epoch 28/100\n",
      "50/50 [==============================] - 0s 931us/step - loss: 0.1589 - accuracy: 0.9411\n",
      "Epoch 29/100\n",
      "50/50 [==============================] - 0s 960us/step - loss: 0.1587 - accuracy: 0.9411\n",
      "Epoch 30/100\n",
      "50/50 [==============================] - 0s 902us/step - loss: 0.1580 - accuracy: 0.9411\n",
      "Epoch 31/100\n",
      "50/50 [==============================] - 0s 800us/step - loss: 0.1567 - accuracy: 0.9411\n",
      "Epoch 32/100\n",
      "50/50 [==============================] - 0s 800us/step - loss: 0.1561 - accuracy: 0.9411\n",
      "Epoch 33/100\n",
      "50/50 [==============================] - 0s 880us/step - loss: 0.1559 - accuracy: 0.9411\n",
      "Epoch 34/100\n",
      "50/50 [==============================] - 0s 880us/step - loss: 0.1546 - accuracy: 0.9431\n",
      "Epoch 35/100\n",
      "50/50 [==============================] - 0s 800us/step - loss: 0.1541 - accuracy: 0.9411\n",
      "Epoch 36/100\n",
      "50/50 [==============================] - 0s 880us/step - loss: 0.1536 - accuracy: 0.9431\n",
      "Epoch 37/100\n",
      "50/50 [==============================] - 0s 830us/step - loss: 0.1527 - accuracy: 0.9431\n",
      "Epoch 38/100\n",
      "50/50 [==============================] - 0s 800us/step - loss: 0.1522 - accuracy: 0.9411\n",
      "Epoch 39/100\n",
      "50/50 [==============================] - 0s 800us/step - loss: 0.1517 - accuracy: 0.9411\n",
      "Epoch 40/100\n",
      "50/50 [==============================] - 0s 741us/step - loss: 0.1507 - accuracy: 0.9431\n",
      "Epoch 41/100\n",
      "50/50 [==============================] - 0s 753us/step - loss: 0.1502 - accuracy: 0.9431\n",
      "Epoch 42/100\n",
      "50/50 [==============================] - 0s 720us/step - loss: 0.1498 - accuracy: 0.9390\n",
      "Epoch 43/100\n",
      "50/50 [==============================] - 0s 800us/step - loss: 0.1493 - accuracy: 0.9390\n",
      "Epoch 44/100\n",
      "50/50 [==============================] - 0s 720us/step - loss: 0.1491 - accuracy: 0.9390\n",
      "Epoch 45/100\n",
      "50/50 [==============================] - 0s 800us/step - loss: 0.1484 - accuracy: 0.9390\n",
      "Epoch 46/100\n",
      "50/50 [==============================] - 0s 705us/step - loss: 0.1482 - accuracy: 0.9390\n",
      "Epoch 47/100\n",
      "50/50 [==============================] - 0s 800us/step - loss: 0.1475 - accuracy: 0.9411\n",
      "Epoch 48/100\n",
      "50/50 [==============================] - 0s 720us/step - loss: 0.1472 - accuracy: 0.9370\n",
      "Epoch 49/100\n",
      "50/50 [==============================] - 0s 790us/step - loss: 0.1467 - accuracy: 0.9370\n",
      "Epoch 50/100\n",
      "50/50 [==============================] - 0s 800us/step - loss: 0.1464 - accuracy: 0.9411\n",
      "Epoch 51/100\n",
      "50/50 [==============================] - 0s 742us/step - loss: 0.1459 - accuracy: 0.9390\n",
      "Epoch 52/100\n",
      "50/50 [==============================] - 0s 720us/step - loss: 0.1459 - accuracy: 0.9431\n",
      "Epoch 53/100\n",
      "50/50 [==============================] - 0s 640us/step - loss: 0.1455 - accuracy: 0.9431\n",
      "Epoch 54/100\n",
      "50/50 [==============================] - 0s 800us/step - loss: 0.1450 - accuracy: 0.9431\n",
      "Epoch 55/100\n",
      "50/50 [==============================] - 0s 800us/step - loss: 0.1446 - accuracy: 0.9431\n",
      "Epoch 56/100\n",
      "50/50 [==============================] - 0s 640us/step - loss: 0.1443 - accuracy: 0.9431\n",
      "Epoch 57/100\n",
      "50/50 [==============================] - 0s 721us/step - loss: 0.1441 - accuracy: 0.9431\n",
      "Epoch 58/100\n",
      "50/50 [==============================] - 0s 720us/step - loss: 0.1439 - accuracy: 0.9431\n",
      "Epoch 59/100\n",
      "50/50 [==============================] - 0s 800us/step - loss: 0.1434 - accuracy: 0.9431\n",
      "Epoch 60/100\n",
      "50/50 [==============================] - 0s 822us/step - loss: 0.1427 - accuracy: 0.9431\n",
      "Epoch 61/100\n",
      "50/50 [==============================] - 0s 800us/step - loss: 0.1427 - accuracy: 0.9431\n",
      "Epoch 62/100\n",
      "50/50 [==============================] - 0s 705us/step - loss: 0.1419 - accuracy: 0.9431\n",
      "Epoch 63/100\n",
      "50/50 [==============================] - 0s 800us/step - loss: 0.1416 - accuracy: 0.9451\n",
      "Epoch 64/100\n",
      "50/50 [==============================] - 0s 720us/step - loss: 0.1414 - accuracy: 0.9431\n",
      "Epoch 65/100\n",
      "50/50 [==============================] - 0s 661us/step - loss: 0.1410 - accuracy: 0.9472\n",
      "Epoch 66/100\n",
      "50/50 [==============================] - 0s 720us/step - loss: 0.1405 - accuracy: 0.9472\n",
      "Epoch 67/100\n",
      "50/50 [==============================] - 0s 640us/step - loss: 0.1401 - accuracy: 0.9512\n",
      "Epoch 68/100\n",
      "50/50 [==============================] - ETA: 0s - loss: 0.0285 - accuracy: 1.00 - 0s 640us/step - loss: 0.1397 - accuracy: 0.9512\n",
      "Epoch 69/100\n",
      "50/50 [==============================] - 0s 720us/step - loss: 0.1391 - accuracy: 0.9512\n",
      "Epoch 70/100\n",
      "50/50 [==============================] - 0s 720us/step - loss: 0.1390 - accuracy: 0.9492\n",
      "Epoch 71/100\n",
      "50/50 [==============================] - 0s 800us/step - loss: 0.1383 - accuracy: 0.9512\n",
      "Epoch 72/100\n",
      "50/50 [==============================] - 0s 640us/step - loss: 0.1380 - accuracy: 0.9512\n",
      "Epoch 73/100\n",
      "50/50 [==============================] - 0s 640us/step - loss: 0.1376 - accuracy: 0.9512\n",
      "Epoch 74/100\n",
      "50/50 [==============================] - 0s 640us/step - loss: 0.1374 - accuracy: 0.9492\n",
      "Epoch 75/100\n",
      "50/50 [==============================] - 0s 675us/step - loss: 0.1371 - accuracy: 0.9512\n",
      "Epoch 76/100\n",
      "50/50 [==============================] - 0s 720us/step - loss: 0.1368 - accuracy: 0.9512\n",
      "Epoch 77/100\n",
      "50/50 [==============================] - 0s 720us/step - loss: 0.1363 - accuracy: 0.9512\n",
      "Epoch 78/100\n",
      "50/50 [==============================] - 0s 720us/step - loss: 0.1360 - accuracy: 0.9512\n",
      "Epoch 79/100\n",
      "50/50 [==============================] - 0s 640us/step - loss: 0.1358 - accuracy: 0.9492\n",
      "Epoch 80/100\n",
      "50/50 [==============================] - 0s 720us/step - loss: 0.1354 - accuracy: 0.9512\n",
      "Epoch 81/100\n"
     ]
    },
    {
     "name": "stdout",
     "output_type": "stream",
     "text": [
      "50/50 [==============================] - 0s 741us/step - loss: 0.1351 - accuracy: 0.9512\n",
      "Epoch 82/100\n",
      "50/50 [==============================] - 0s 720us/step - loss: 0.1348 - accuracy: 0.9512\n",
      "Epoch 83/100\n",
      "50/50 [==============================] - 0s 720us/step - loss: 0.1345 - accuracy: 0.9512\n",
      "Epoch 84/100\n",
      "50/50 [==============================] - 0s 729us/step - loss: 0.1344 - accuracy: 0.9512\n",
      "Epoch 85/100\n",
      "50/50 [==============================] - 0s 800us/step - loss: 0.1339 - accuracy: 0.9533\n",
      "Epoch 86/100\n",
      "50/50 [==============================] - 0s 800us/step - loss: 0.1336 - accuracy: 0.9533\n",
      "Epoch 87/100\n",
      "50/50 [==============================] - 0s 831us/step - loss: 0.1333 - accuracy: 0.9533\n",
      "Epoch 88/100\n",
      "50/50 [==============================] - 0s 800us/step - loss: 0.1331 - accuracy: 0.9533\n",
      "Epoch 89/100\n",
      "50/50 [==============================] - 0s 720us/step - loss: 0.1328 - accuracy: 0.9533\n",
      "Epoch 90/100\n",
      "50/50 [==============================] - 0s 720us/step - loss: 0.1325 - accuracy: 0.9512\n",
      "Epoch 91/100\n",
      "50/50 [==============================] - 0s 640us/step - loss: 0.1322 - accuracy: 0.9512\n",
      "Epoch 92/100\n",
      "50/50 [==============================] - 0s 720us/step - loss: 0.1321 - accuracy: 0.9512\n",
      "Epoch 93/100\n",
      "50/50 [==============================] - 0s 640us/step - loss: 0.1319 - accuracy: 0.9512\n",
      "Epoch 94/100\n",
      "50/50 [==============================] - 0s 560us/step - loss: 0.1313 - accuracy: 0.9512\n",
      "Epoch 95/100\n",
      "50/50 [==============================] - 0s 640us/step - loss: 0.1312 - accuracy: 0.9533\n",
      "Epoch 96/100\n",
      "50/50 [==============================] - 0s 640us/step - loss: 0.1313 - accuracy: 0.9512\n",
      "Epoch 97/100\n",
      "50/50 [==============================] - 0s 679us/step - loss: 0.1309 - accuracy: 0.9512\n",
      "Epoch 98/100\n",
      "50/50 [==============================] - 0s 640us/step - loss: 0.1305 - accuracy: 0.9512\n",
      "Epoch 99/100\n",
      "50/50 [==============================] - 0s 560us/step - loss: 0.1304 - accuracy: 0.9512\n",
      "Epoch 100/100\n",
      "50/50 [==============================] - 0s 560us/step - loss: 0.1303 - accuracy: 0.9512\n"
     ]
    },
    {
     "data": {
      "text/plain": [
       "<tensorflow.python.keras.callbacks.History at 0x1df25457a30>"
      ]
     },
     "execution_count": 49,
     "metadata": {},
     "output_type": "execute_result"
    }
   ],
   "source": [
    "# Fitting the ANN to the Training set\n",
    "cnn.fit(X_train, y_train, batch_size = 10, epochs = 100)"
   ]
  },
  {
   "cell_type": "markdown",
   "metadata": {},
   "source": [
    "Проведем прогнозирование "
   ]
  },
  {
   "cell_type": "code",
   "execution_count": 50,
   "metadata": {},
   "outputs": [],
   "source": [
    "# Predicting the Test set results\n",
    "y_pred = cnn.predict(X_test)\n",
    "y_pred = (y_pred > 0.5)"
   ]
  },
  {
   "cell_type": "markdown",
   "metadata": {},
   "source": [
    "Построим таблицу сопряженности. Видим, что 3 положительных случаев ложно определены как отрицательные и 1 отрицательный\n",
    "случаей ложно определен как положительный. Как видим, усложнение конфигурации сети в данном случае привело к незначительному\n",
    "улучшению модели"
   ]
  },
  {
   "cell_type": "code",
   "execution_count": 52,
   "metadata": {},
   "outputs": [
    {
     "name": "stdout",
     "output_type": "stream",
     "text": [
      "[[107   1]\n",
      " [  3  12]]\n"
     ]
    }
   ],
   "source": [
    "# Making the Confusion Matrix\n",
    "from sklearn.metrics import confusion_matrix\n",
    "cm = confusion_matrix(y_test, y_pred)\n",
    "print(cm)"
   ]
  },
  {
   "cell_type": "markdown",
   "metadata": {},
   "source": [
    "Посмотрим, как изменилась наша разделяющая кривая. Она нелинейна. Ее степень немного выше, наблюдаем небольшое улучшение\n",
    "результата."
   ]
  },
  {
   "cell_type": "code",
   "execution_count": 54,
   "metadata": {},
   "outputs": [
    {
     "name": "stderr",
     "output_type": "stream",
     "text": [
      "*c* argument looks like a single numeric RGB or RGBA sequence, which should be avoided as value-mapping will have precedence in case its length matches with *x* & *y*.  Please use the *color* keyword-argument or provide a 2-D array with a single row if you intend to specify the same RGB or RGBA value for all points.\n",
      "*c* argument looks like a single numeric RGB or RGBA sequence, which should be avoided as value-mapping will have precedence in case its length matches with *x* & *y*.  Please use the *color* keyword-argument or provide a 2-D array with a single row if you intend to specify the same RGB or RGBA value for all points.\n"
     ]
    },
    {
     "data": {
      "image/png": "[encoded data removed]",
      "text/plain": [
       "<Figure size 432x288 with 1 Axes>"
      ]
     },
     "metadata": {
      "needs_background": "light"
     },
     "output_type": "display_data"
    }
   ],
   "source": [
    "# Visualising the Test set results\n",
    "from matplotlib.colors import ListedColormap\n",
    "X_set, y_set = X_test, y_test\n",
    "X1, X2 = np.meshgrid(np.arange(start = X_set[:, 0].min() - 1, stop = X_set[:, 0].max() + 1, step = 0.01),\n",
    "                     np.arange(start = X_set[:, 1].min() - 1, stop = X_set[:, 1].max() + 1, step = 0.01))\n",
    "plt.contourf(X1, X2, cnn.predict(np.array([X1.ravel(), X2.ravel()]).T).reshape(X1.shape),\n",
    "             alpha = 0.75, cmap = ListedColormap(('red', 'green')))\n",
    "plt.xlim(X1.min(), X1.max())\n",
    "plt.ylim(X2.min(), X2.max())\n",
    "for i, j in enumerate(np.unique(y_set)):\n",
    "    plt.scatter(X_set[y_set == j, 0], X_set[y_set == j, 1],\n",
    "                c = ListedColormap(('red', 'green'))(i), label = j)\n",
    "plt.title('NN (Test set)')\n",
    "plt.xlabel('ALT')\n",
    "plt.ylabel('AST')\n",
    "plt.legend()\n",
    "plt.show()"
   ]
  },
  {
   "cell_type": "markdown",
   "metadata": {},
   "source": [
    "Увеличим число нейронов на первом слое до 16ми. Получим:"
   ]
  },
  {
   "cell_type": "code",
   "execution_count": 55,
   "metadata": {},
   "outputs": [],
   "source": [
    "# Initialising the ANN\n",
    "cnn = Sequential()\n",
    "\n",
    "# Adding the input layer and the first hidden layer\n",
    "cnn.add(Dense(units = 16, kernel_initializer = 'uniform', activation = 'relu', input_dim = 2))\n",
    "\n",
    "# Adding the output layer\n",
    "cnn.add(Dense(units = 1, kernel_initializer = 'uniform', activation = 'sigmoid'))\n",
    "\n",
    "# Compiling the ANN\n",
    "cnn.compile(optimizer = 'adam', loss = 'binary_crossentropy', metrics = ['accuracy'])"
   ]
  },
  {
   "cell_type": "markdown",
   "metadata": {},
   "source": [
    "Обучим нашу нейронную сеть в течении 100 эпох и посмотрим, каков прогноз и качество прогноза на тестовой выборке."
   ]
  },
  {
   "cell_type": "code",
   "execution_count": 56,
   "metadata": {},
   "outputs": [
    {
     "name": "stdout",
     "output_type": "stream",
     "text": [
      "Epoch 1/100\n",
      "50/50 [==============================] - 0s 1ms/step - loss: 0.6776 - accuracy: 0.8801\n",
      "Epoch 2/100\n",
      "50/50 [==============================] - 0s 1ms/step - loss: 0.6251 - accuracy: 0.9065\n",
      "Epoch 3/100\n",
      "50/50 [==============================] - 0s 1ms/step - loss: 0.5373 - accuracy: 0.9248\n",
      "Epoch 4/100\n",
      "50/50 [==============================] - 0s 1ms/step - loss: 0.4344 - accuracy: 0.9350\n",
      "Epoch 5/100\n",
      "50/50 [==============================] - 0s 1ms/step - loss: 0.3424 - accuracy: 0.9370\n",
      "Epoch 6/100\n",
      "50/50 [==============================] - 0s 1ms/step - loss: 0.2769 - accuracy: 0.9350\n",
      "Epoch 7/100\n",
      "50/50 [==============================] - 0s 1ms/step - loss: 0.2342 - accuracy: 0.9350\n",
      "Epoch 8/100\n",
      "50/50 [==============================] - 0s 1ms/step - loss: 0.2085 - accuracy: 0.9350\n",
      "Epoch 9/100\n",
      "50/50 [==============================] - 0s 1ms/step - loss: 0.1917 - accuracy: 0.9350\n",
      "Epoch 10/100\n",
      "50/50 [==============================] - 0s 880us/step - loss: 0.1816 - accuracy: 0.9370\n",
      "Epoch 11/100\n",
      "50/50 [==============================] - 0s 1ms/step - loss: 0.1747 - accuracy: 0.9370\n",
      "Epoch 12/100\n",
      "50/50 [==============================] - 0s 960us/step - loss: 0.1703 - accuracy: 0.9370\n",
      "Epoch 13/100\n",
      "50/50 [==============================] - 0s 960us/step - loss: 0.1667 - accuracy: 0.9370\n",
      "Epoch 14/100\n",
      "50/50 [==============================] - 0s 960us/step - loss: 0.1645 - accuracy: 0.9411\n",
      "Epoch 15/100\n",
      "50/50 [==============================] - 0s 960us/step - loss: 0.1620 - accuracy: 0.9411\n",
      "Epoch 16/100\n",
      "50/50 [==============================] - 0s 960us/step - loss: 0.1603 - accuracy: 0.9411\n",
      "Epoch 17/100\n",
      "50/50 [==============================] - 0s 960us/step - loss: 0.1590 - accuracy: 0.9411\n",
      "Epoch 18/100\n",
      "50/50 [==============================] - 0s 960us/step - loss: 0.1577 - accuracy: 0.9411\n",
      "Epoch 19/100\n",
      "50/50 [==============================] - 0s 963us/step - loss: 0.1568 - accuracy: 0.9431\n",
      "Epoch 20/100\n",
      "50/50 [==============================] - 0s 917us/step - loss: 0.1561 - accuracy: 0.9431\n",
      "Epoch 21/100\n",
      "50/50 [==============================] - 0s 1ms/step - loss: 0.1551 - accuracy: 0.9431\n",
      "Epoch 22/100\n",
      "50/50 [==============================] - 0s 1ms/step - loss: 0.1547 - accuracy: 0.9411\n",
      "Epoch 23/100\n",
      "50/50 [==============================] - 0s 960us/step - loss: 0.1540 - accuracy: 0.9431\n",
      "Epoch 24/100\n",
      "50/50 [==============================] - 0s 960us/step - loss: 0.1531 - accuracy: 0.9451\n",
      "Epoch 25/100\n",
      "50/50 [==============================] - 0s 960us/step - loss: 0.1523 - accuracy: 0.9431\n",
      "Epoch 26/100\n",
      "50/50 [==============================] - 0s 1ms/step - loss: 0.1519 - accuracy: 0.9411\n",
      "Epoch 27/100\n",
      "50/50 [==============================] - 0s 1ms/step - loss: 0.1513 - accuracy: 0.9390\n",
      "Epoch 28/100\n",
      "50/50 [==============================] - 0s 880us/step - loss: 0.1507 - accuracy: 0.9390\n",
      "Epoch 29/100\n",
      "50/50 [==============================] - 0s 1ms/step - loss: 0.1501 - accuracy: 0.9390\n",
      "Epoch 30/100\n",
      "50/50 [==============================] - 0s 1ms/step - loss: 0.1491 - accuracy: 0.9390\n",
      "Epoch 31/100\n",
      "50/50 [==============================] - 0s 960us/step - loss: 0.1490 - accuracy: 0.9370\n",
      "Epoch 32/100\n",
      "50/50 [==============================] - 0s 880us/step - loss: 0.1481 - accuracy: 0.9370\n",
      "Epoch 33/100\n",
      "50/50 [==============================] - 0s 960us/step - loss: 0.1476 - accuracy: 0.9370\n",
      "Epoch 34/100\n",
      "50/50 [==============================] - 0s 960us/step - loss: 0.1471 - accuracy: 0.9370\n",
      "Epoch 35/100\n",
      "50/50 [==============================] - 0s 960us/step - loss: 0.1466 - accuracy: 0.9370\n",
      "Epoch 36/100\n",
      "50/50 [==============================] - 0s 800us/step - loss: 0.1465 - accuracy: 0.9370\n",
      "Epoch 37/100\n",
      "50/50 [==============================] - 0s 880us/step - loss: 0.1457 - accuracy: 0.9390\n",
      "Epoch 38/100\n",
      "50/50 [==============================] - 0s 880us/step - loss: 0.1451 - accuracy: 0.9390\n",
      "Epoch 39/100\n",
      "50/50 [==============================] - 0s 880us/step - loss: 0.1447 - accuracy: 0.9390\n",
      "Epoch 40/100\n",
      "50/50 [==============================] - 0s 880us/step - loss: 0.1440 - accuracy: 0.9390\n",
      "Epoch 41/100\n",
      "50/50 [==============================] - 0s 880us/step - loss: 0.1439 - accuracy: 0.9431\n",
      "Epoch 42/100\n",
      "50/50 [==============================] - 0s 800us/step - loss: 0.1433 - accuracy: 0.9411\n",
      "Epoch 43/100\n",
      "50/50 [==============================] - 0s 880us/step - loss: 0.1428 - accuracy: 0.9390\n",
      "Epoch 44/100\n",
      "50/50 [==============================] - 0s 800us/step - loss: 0.1430 - accuracy: 0.9390\n",
      "Epoch 45/100\n",
      "50/50 [==============================] - 0s 800us/step - loss: 0.1420 - accuracy: 0.9411\n",
      "Epoch 46/100\n",
      "50/50 [==============================] - 0s 800us/step - loss: 0.1417 - accuracy: 0.9411\n",
      "Epoch 47/100\n",
      "50/50 [==============================] - 0s 880us/step - loss: 0.1412 - accuracy: 0.9390\n",
      "Epoch 48/100\n",
      "50/50 [==============================] - 0s 828us/step - loss: 0.1410 - accuracy: 0.9431\n",
      "Epoch 49/100\n",
      "50/50 [==============================] - 0s 800us/step - loss: 0.1408 - accuracy: 0.9411\n",
      "Epoch 50/100\n",
      "50/50 [==============================] - 0s 743us/step - loss: 0.1402 - accuracy: 0.9451\n",
      "Epoch 51/100\n",
      "50/50 [==============================] - 0s 800us/step - loss: 0.1399 - accuracy: 0.9390\n",
      "Epoch 52/100\n",
      "50/50 [==============================] - 0s 1ms/step - loss: 0.1397 - accuracy: 0.9411\n",
      "Epoch 53/100\n",
      "50/50 [==============================] - 0s 800us/step - loss: 0.1390 - accuracy: 0.9451\n",
      "Epoch 54/100\n",
      "50/50 [==============================] - 0s 720us/step - loss: 0.1387 - accuracy: 0.9431\n",
      "Epoch 55/100\n",
      "50/50 [==============================] - 0s 902us/step - loss: 0.1384 - accuracy: 0.9451\n",
      "Epoch 56/100\n",
      "50/50 [==============================] - 0s 880us/step - loss: 0.1382 - accuracy: 0.9431\n",
      "Epoch 57/100\n",
      "50/50 [==============================] - 0s 800us/step - loss: 0.1381 - accuracy: 0.9431\n",
      "Epoch 58/100\n",
      "50/50 [==============================] - 0s 800us/step - loss: 0.1373 - accuracy: 0.9472\n",
      "Epoch 59/100\n",
      "50/50 [==============================] - 0s 800us/step - loss: 0.1371 - accuracy: 0.9451\n",
      "Epoch 60/100\n",
      "50/50 [==============================] - 0s 800us/step - loss: 0.1367 - accuracy: 0.9472\n",
      "Epoch 61/100\n",
      "50/50 [==============================] - 0s 800us/step - loss: 0.1365 - accuracy: 0.9492\n",
      "Epoch 62/100\n",
      "50/50 [==============================] - 0s 800us/step - loss: 0.1360 - accuracy: 0.9492\n",
      "Epoch 63/100\n",
      "50/50 [==============================] - 0s 800us/step - loss: 0.1360 - accuracy: 0.9492\n",
      "Epoch 64/100\n",
      "50/50 [==============================] - 0s 800us/step - loss: 0.1356 - accuracy: 0.9472\n",
      "Epoch 65/100\n",
      "50/50 [==============================] - 0s 800us/step - loss: 0.1352 - accuracy: 0.9492\n",
      "Epoch 66/100\n",
      "50/50 [==============================] - 0s 800us/step - loss: 0.1348 - accuracy: 0.9472\n",
      "Epoch 67/100\n",
      "50/50 [==============================] - 0s 800us/step - loss: 0.1346 - accuracy: 0.9492\n",
      "Epoch 68/100\n",
      "50/50 [==============================] - 0s 800us/step - loss: 0.1342 - accuracy: 0.9492\n",
      "Epoch 69/100\n",
      "50/50 [==============================] - 0s 880us/step - loss: 0.1340 - accuracy: 0.9492\n",
      "Epoch 70/100\n",
      "50/50 [==============================] - 0s 800us/step - loss: 0.1337 - accuracy: 0.9492\n",
      "Epoch 71/100\n",
      "50/50 [==============================] - 0s 800us/step - loss: 0.1337 - accuracy: 0.9492\n",
      "Epoch 72/100\n",
      "50/50 [==============================] - 0s 800us/step - loss: 0.1335 - accuracy: 0.9492\n",
      "Epoch 73/100\n",
      "50/50 [==============================] - 0s 880us/step - loss: 0.1329 - accuracy: 0.9492\n",
      "Epoch 74/100\n",
      "50/50 [==============================] - 0s 800us/step - loss: 0.1326 - accuracy: 0.9512\n",
      "Epoch 75/100\n",
      "50/50 [==============================] - 0s 880us/step - loss: 0.1328 - accuracy: 0.9512\n",
      "Epoch 76/100\n",
      "50/50 [==============================] - 0s 800us/step - loss: 0.1327 - accuracy: 0.9512\n",
      "Epoch 77/100\n",
      "50/50 [==============================] - 0s 800us/step - loss: 0.1320 - accuracy: 0.9492\n",
      "Epoch 78/100\n",
      "50/50 [==============================] - 0s 827us/step - loss: 0.1316 - accuracy: 0.9533\n",
      "Epoch 79/100\n",
      "50/50 [==============================] - 0s 800us/step - loss: 0.1313 - accuracy: 0.9512\n",
      "Epoch 80/100\n",
      "50/50 [==============================] - 0s 742us/step - loss: 0.1310 - accuracy: 0.9512\n",
      "Epoch 81/100\n"
     ]
    },
    {
     "name": "stdout",
     "output_type": "stream",
     "text": [
      "50/50 [==============================] - 0s 880us/step - loss: 0.1308 - accuracy: 0.9512\n",
      "Epoch 82/100\n",
      "50/50 [==============================] - 0s 800us/step - loss: 0.1309 - accuracy: 0.9512\n",
      "Epoch 83/100\n",
      "50/50 [==============================] - 0s 960us/step - loss: 0.1309 - accuracy: 0.9533\n",
      "Epoch 84/100\n",
      "50/50 [==============================] - 0s 800us/step - loss: 0.1302 - accuracy: 0.9512\n",
      "Epoch 85/100\n",
      "50/50 [==============================] - 0s 880us/step - loss: 0.1300 - accuracy: 0.9512\n",
      "Epoch 86/100\n",
      "50/50 [==============================] - 0s 800us/step - loss: 0.1296 - accuracy: 0.9533\n",
      "Epoch 87/100\n",
      "50/50 [==============================] - 0s 800us/step - loss: 0.1293 - accuracy: 0.9533\n",
      "Epoch 88/100\n",
      "50/50 [==============================] - 0s 880us/step - loss: 0.1291 - accuracy: 0.9533\n",
      "Epoch 89/100\n",
      "50/50 [==============================] - 0s 880us/step - loss: 0.1292 - accuracy: 0.9533\n",
      "Epoch 90/100\n",
      "50/50 [==============================] - 0s 800us/step - loss: 0.1286 - accuracy: 0.9512\n",
      "Epoch 91/100\n",
      "50/50 [==============================] - 0s 880us/step - loss: 0.1287 - accuracy: 0.9512\n",
      "Epoch 92/100\n",
      "50/50 [==============================] - 0s 842us/step - loss: 0.1289 - accuracy: 0.9512\n",
      "Epoch 93/100\n",
      "50/50 [==============================] - 0s 800us/step - loss: 0.1281 - accuracy: 0.9533\n",
      "Epoch 94/100\n",
      "50/50 [==============================] - 0s 800us/step - loss: 0.1282 - accuracy: 0.9533\n",
      "Epoch 95/100\n",
      "50/50 [==============================] - 0s 822us/step - loss: 0.1281 - accuracy: 0.9533\n",
      "Epoch 96/100\n",
      "50/50 [==============================] - 0s 960us/step - loss: 0.1279 - accuracy: 0.9533\n",
      "Epoch 97/100\n",
      "50/50 [==============================] - 0s 879us/step - loss: 0.1278 - accuracy: 0.9533\n",
      "Epoch 98/100\n",
      "50/50 [==============================] - 0s 800us/step - loss: 0.1277 - accuracy: 0.9533\n",
      "Epoch 99/100\n",
      "50/50 [==============================] - 0s 800us/step - loss: 0.1274 - accuracy: 0.9533\n",
      "Epoch 100/100\n",
      "50/50 [==============================] - 0s 800us/step - loss: 0.1275 - accuracy: 0.9553\n"
     ]
    },
    {
     "data": {
      "text/plain": [
       "<tensorflow.python.keras.callbacks.History at 0x1df2e998430>"
      ]
     },
     "execution_count": 56,
     "metadata": {},
     "output_type": "execute_result"
    }
   ],
   "source": [
    "# Fitting the ANN to the Training set\n",
    "cnn.fit(X_train, y_train, batch_size = 10, epochs = 100)"
   ]
  },
  {
   "cell_type": "markdown",
   "metadata": {},
   "source": [
    "Проведем прогнозирование "
   ]
  },
  {
   "cell_type": "code",
   "execution_count": 57,
   "metadata": {},
   "outputs": [],
   "source": [
    "# Predicting the Test set results\n",
    "y_pred = cnn.predict(X_test)\n",
    "y_pred = (y_pred > 0.5)"
   ]
  },
  {
   "cell_type": "markdown",
   "metadata": {},
   "source": [
    "Построим таблицу сопряженности. Видим, что 3 положительных случаев ложно определены как отрицательные и 1 отрицательный\n",
    "случаей ложно определен как положительный. Как видим, усложнение конфигурации сети в данном случае не привело улучшению модели"
   ]
  },
  {
   "cell_type": "code",
   "execution_count": 59,
   "metadata": {},
   "outputs": [
    {
     "name": "stdout",
     "output_type": "stream",
     "text": [
      "[[107   1]\n",
      " [  3  12]]\n"
     ]
    }
   ],
   "source": [
    "# Making the Confusion Matrix\n",
    "from sklearn.metrics import confusion_matrix\n",
    "cm = confusion_matrix(y_test, y_pred)\n",
    "print(cm)"
   ]
  },
  {
   "cell_type": "markdown",
   "metadata": {},
   "source": [
    "Посмотрим, как изменрилась наша разделяющая кривая. Она нелинейна. Ее степень немного выше, улучшение\n",
    "результата не наблюдаем."
   ]
  },
  {
   "cell_type": "code",
   "execution_count": 60,
   "metadata": {},
   "outputs": [
    {
     "name": "stderr",
     "output_type": "stream",
     "text": [
      "*c* argument looks like a single numeric RGB or RGBA sequence, which should be avoided as value-mapping will have precedence in case its length matches with *x* & *y*.  Please use the *color* keyword-argument or provide a 2-D array with a single row if you intend to specify the same RGB or RGBA value for all points.\n",
      "*c* argument looks like a single numeric RGB or RGBA sequence, which should be avoided as value-mapping will have precedence in case its length matches with *x* & *y*.  Please use the *color* keyword-argument or provide a 2-D array with a single row if you intend to specify the same RGB or RGBA value for all points.\n"
     ]
    },
    {
     "data": {
      "image/png": "[encoded data removed]",
      "text/plain": [
       "<Figure size 432x288 with 1 Axes>"
      ]
     },
     "metadata": {
      "needs_background": "light"
     },
     "output_type": "display_data"
    }
   ],
   "source": [
    "# Visualising the Test set results\n",
    "from matplotlib.colors import ListedColormap\n",
    "X_set, y_set = X_test, y_test\n",
    "X1, X2 = np.meshgrid(np.arange(start = X_set[:, 0].min() - 1, stop = X_set[:, 0].max() + 1, step = 0.01),\n",
    "                     np.arange(start = X_set[:, 1].min() - 1, stop = X_set[:, 1].max() + 1, step = 0.01))\n",
    "plt.contourf(X1, X2, cnn.predict(np.array([X1.ravel(), X2.ravel()]).T).reshape(X1.shape),\n",
    "             alpha = 0.75, cmap = ListedColormap(('red', 'green')))\n",
    "plt.xlim(X1.min(), X1.max())\n",
    "plt.ylim(X2.min(), X2.max())\n",
    "for i, j in enumerate(np.unique(y_set)):\n",
    "    plt.scatter(X_set[y_set == j, 0], X_set[y_set == j, 1],\n",
    "                c = ListedColormap(('red', 'green'))(i), label = j)\n",
    "plt.title('NN (Test set)')\n",
    "plt.xlabel('ALT')\n",
    "plt.ylabel('AST')\n",
    "plt.legend()\n",
    "plt.show()"
   ]
  },
  {
   "cell_type": "markdown",
   "metadata": {},
   "source": [
    "ВЫВОД\n",
    "Исходя из всего вышеприведенного, можем сделать вывод, что в данном случае усложнение модели не приведет к значительным сдвигам\n",
    "результата в положительную сторону. Можно сказать, что скорее всего мы достигли максимального качества данной модели. "
   ]
  }
 ],
 "metadata": {
  "kernelspec": {
   "display_name": "Python 3",
   "language": "python",
   "name": "python3"
  },
  "language_info": {
   "codemirror_mode": {
    "name": "ipython",
    "version": 3
   },
   "file_extension": ".py",
   "mimetype": "text/x-python",
   "name": "python",
   "nbconvert_exporter": "python",
   "pygments_lexer": "ipython3",
   "version": "3.8.3"
  }
 },
 "nbformat": 4,
 "nbformat_minor": 4
}
