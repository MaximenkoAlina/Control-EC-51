{
 "cells": [
  {
   "cell_type": "markdown",
   "metadata": {},
   "source": [
    "Regression Neural Network"
   ]
  },
  {
   "cell_type": "markdown",
   "metadata": {},
   "source": [
    "Импортируем подготовленные данные из сохраненого файла и помещяем в переменные соответствующие записи."
   ]
  },
  {
   "cell_type": "code",
   "execution_count": 1,
   "metadata": {},
   "outputs": [],
   "source": [
    "# Importing the libraries\n",
    "import numpy as np\n",
    "import matplotlib.pyplot as plt\n",
    "import pandas as pd"
   ]
  },
  {
   "cell_type": "code",
   "execution_count": 2,
   "metadata": {},
   "outputs": [],
   "source": [
    "# Importing prepared dataset\n",
    "import pickle\n",
    "input = open('vehicleprice_reg.pkl', 'rb')\n",
    "obj = pickle.load(input)\n",
    "input.close()\n",
    "X_train = obj[\"X_train\"]\n",
    "X_test = obj[\"X_test\"]\n",
    "y_train = obj[\"y_train\"]\n",
    "y_test = obj[\"y_test\"]"
   ]
  },
  {
   "cell_type": "markdown",
   "metadata": {},
   "source": [
    "Произведем шкалирование данных, использя выборку train оценим параметры, затем преобразуем обучающую и тестовую выборки."
   ]
  },
  {
   "cell_type": "code",
   "execution_count": 3,
   "metadata": {},
   "outputs": [],
   "source": [
    "# Feature Scaling\n",
    "from sklearn.preprocessing import StandardScaler\n",
    "sc_X = StandardScaler().fit(X_train)\n",
    "X_train = sc_X.transform(X_train)\n",
    "X_test = sc_X.transform(X_test)\n",
    "sc_y = StandardScaler().fit(np.array([[i] for i in y_train]))\n",
    "y_train = sc_y.transform(np.array([[i] for i in y_train]))\n",
    "y_test = sc_y.transform(np.array([[i] for i in y_test]))"
   ]
  },
  {
   "cell_type": "markdown",
   "metadata": {},
   "source": [
    "Подключим библиотеки, необходимые для работы с нейронными сетями."
   ]
  },
  {
   "cell_type": "code",
   "execution_count": 4,
   "metadata": {},
   "outputs": [],
   "source": [
    "# Install Tensorflow\n",
    "# Install Keras\n",
    "# Importing the Keras libraries and packages\n",
    "import keras\n",
    "from keras.models import Sequential\n",
    "from keras.layers import Dense"
   ]
  },
  {
   "cell_type": "markdown",
   "metadata": {},
   "source": [
    "Создаем последовательную нейронную сеть: \n",
    "Добавляем к ней слои, размерность входного слоя равна 8 (в соответствии с переменными предыдущей модели), число нейронов на выходном слое задаем равным 16, так как модель расширяющаяся, функция активации на первом слое-гиперболический тангенс.\n",
    "На втором слое количество нейронов оставляем равным 16, та же функция активации.\n",
    "На последнем слое используем линейную функцию активации."
   ]
  },
  {
   "cell_type": "code",
   "execution_count": 5,
   "metadata": {},
   "outputs": [],
   "source": [
    "# Initialising the ANN\n",
    "rnn = Sequential()\n",
    "\n",
    "# Adding the input layer and the first hidden layer\n",
    "rnn.add(Dense(units = 16, activation = 'tanh', input_dim = 8))\n",
    "\n",
    "# Adding the second hidden layer\n",
    "rnn.add(Dense(units = 16, activation = 'tanh'))\n",
    "\n",
    "# Adding the output layer\n",
    "rnn.add(Dense(units = 1, activation = 'linear'))\n",
    "\n",
    "# Compiling the ANN\n",
    "rnn.compile(optimizer='adam', loss='mean_squared_error', metrics = ['accuracy'])"
   ]
  },
  {
   "cell_type": "markdown",
   "metadata": {},
   "source": [
    "Обучаем модель партиями по 10 объектов в течении 100 эпох."
   ]
  },
  {
   "cell_type": "code",
   "execution_count": 6,
   "metadata": {},
   "outputs": [
    {
     "name": "stdout",
     "output_type": "stream",
     "text": [
      "Epoch 1/100\n",
      "156/156 [==============================] - 0s 1ms/step - loss: 0.7204 - accuracy: 0.0000e+00\n",
      "Epoch 2/100\n",
      "156/156 [==============================] - 0s 1ms/step - loss: 0.4147 - accuracy: 0.0000e+00\n",
      "Epoch 3/100\n",
      "156/156 [==============================] - 0s 921us/step - loss: 0.3821 - accuracy: 0.0000e+00\n",
      "Epoch 4/100\n",
      "156/156 [==============================] - 0s 885us/step - loss: 0.3661 - accuracy: 0.0000e+00\n",
      "Epoch 5/100\n",
      "156/156 [==============================] - 0s 939us/step - loss: 0.3464 - accuracy: 0.0000e+00\n",
      "Epoch 6/100\n",
      "156/156 [==============================] - 0s 904us/step - loss: 0.3303 - accuracy: 0.0000e+00\n",
      "Epoch 7/100\n",
      "156/156 [==============================] - 0s 872us/step - loss: 0.3133 - accuracy: 0.0000e+00\n",
      "Epoch 8/100\n",
      "156/156 [==============================] - 0s 807us/step - loss: 0.2993 - accuracy: 0.0000e+00\n",
      "Epoch 9/100\n",
      "156/156 [==============================] - 0s 788us/step - loss: 0.2833 - accuracy: 0.0000e+00\n",
      "Epoch 10/100\n",
      "156/156 [==============================] - 0s 816us/step - loss: 0.2683 - accuracy: 0.0000e+00\n",
      "Epoch 11/100\n",
      "156/156 [==============================] - 0s 814us/step - loss: 0.2560 - accuracy: 0.0000e+00\n",
      "Epoch 12/100\n",
      "156/156 [==============================] - 0s 813us/step - loss: 0.2478 - accuracy: 0.0000e+00\n",
      "Epoch 13/100\n",
      "156/156 [==============================] - 0s 808us/step - loss: 0.2416 - accuracy: 0.0000e+00\n",
      "Epoch 14/100\n",
      "156/156 [==============================] - 0s 807us/step - loss: 0.2334 - accuracy: 0.0000e+00\n",
      "Epoch 15/100\n",
      "156/156 [==============================] - 0s 807us/step - loss: 0.2284 - accuracy: 0.0000e+00\n",
      "Epoch 16/100\n",
      "156/156 [==============================] - 0s 785us/step - loss: 0.2259 - accuracy: 0.0000e+00\n",
      "Epoch 17/100\n",
      "156/156 [==============================] - 0s 795us/step - loss: 0.2211 - accuracy: 0.0000e+00\n",
      "Epoch 18/100\n",
      "156/156 [==============================] - 0s 814us/step - loss: 0.2184 - accuracy: 0.0000e+00\n",
      "Epoch 19/100\n",
      "156/156 [==============================] - 0s 801us/step - loss: 0.2198 - accuracy: 0.0000e+00\n",
      "Epoch 20/100\n",
      "156/156 [==============================] - 0s 827us/step - loss: 0.2115 - accuracy: 0.0000e+00\n",
      "Epoch 21/100\n",
      "156/156 [==============================] - 0s 801us/step - loss: 0.2140 - accuracy: 0.0000e+00\n",
      "Epoch 22/100\n",
      "156/156 [==============================] - 0s 814us/step - loss: 0.2092 - accuracy: 0.0000e+00\n",
      "Epoch 23/100\n",
      "156/156 [==============================] - 0s 801us/step - loss: 0.2036 - accuracy: 0.0000e+00\n",
      "Epoch 24/100\n",
      "156/156 [==============================] - 0s 814us/step - loss: 0.2041 - accuracy: 0.0000e+00\n",
      "Epoch 25/100\n",
      "156/156 [==============================] - 0s 816us/step - loss: 0.2022 - accuracy: 0.0000e+00\n",
      "Epoch 26/100\n",
      "156/156 [==============================] - 0s 827us/step - loss: 0.1974 - accuracy: 0.0000e+00\n",
      "Epoch 27/100\n",
      "156/156 [==============================] - 0s 782us/step - loss: 0.1968 - accuracy: 0.0000e+00\n",
      "Epoch 28/100\n",
      "156/156 [==============================] - 0s 789us/step - loss: 0.2002 - accuracy: 0.0000e+00\n",
      "Epoch 29/100\n",
      "156/156 [==============================] - 0s 814us/step - loss: 0.1939 - accuracy: 0.0000e+00\n",
      "Epoch 30/100\n",
      "156/156 [==============================] - 0s 814us/step - loss: 0.1955 - accuracy: 0.0000e+00\n",
      "Epoch 31/100\n",
      "156/156 [==============================] - 0s 814us/step - loss: 0.1901 - accuracy: 0.0000e+00\n",
      "Epoch 32/100\n",
      "156/156 [==============================] - 0s 808us/step - loss: 0.1900 - accuracy: 0.0000e+00\n",
      "Epoch 33/100\n",
      "156/156 [==============================] - 0s 801us/step - loss: 0.1869 - accuracy: 0.0000e+00\n",
      "Epoch 34/100\n",
      "156/156 [==============================] - 0s 807us/step - loss: 0.1912 - accuracy: 0.0000e+00\n",
      "Epoch 35/100\n",
      "156/156 [==============================] - 0s 795us/step - loss: 0.1883 - accuracy: 0.0000e+00\n",
      "Epoch 36/100\n",
      "156/156 [==============================] - 0s 789us/step - loss: 0.1869 - accuracy: 0.0000e+00\n",
      "Epoch 37/100\n",
      "156/156 [==============================] - 0s 821us/step - loss: 0.1887 - accuracy: 0.0000e+00\n",
      "Epoch 38/100\n",
      "156/156 [==============================] - 0s 808us/step - loss: 0.1842 - accuracy: 0.0000e+00\n",
      "Epoch 39/100\n",
      "156/156 [==============================] - 0s 814us/step - loss: 0.1832 - accuracy: 0.0000e+00\n",
      "Epoch 40/100\n",
      "156/156 [==============================] - 0s 795us/step - loss: 0.1859 - accuracy: 0.0000e+00\n",
      "Epoch 41/100\n",
      "156/156 [==============================] - 0s 808us/step - loss: 0.1819 - accuracy: 0.0000e+00\n",
      "Epoch 42/100\n",
      "156/156 [==============================] - 0s 802us/step - loss: 0.1811 - accuracy: 0.0000e+00\n",
      "Epoch 43/100\n",
      "156/156 [==============================] - 0s 795us/step - loss: 0.1815 - accuracy: 0.0000e+00\n",
      "Epoch 44/100\n",
      "156/156 [==============================] - 0s 819us/step - loss: 0.1783 - accuracy: 0.0000e+00\n",
      "Epoch 45/100\n",
      "156/156 [==============================] - 0s 795us/step - loss: 0.1791 - accuracy: 0.0000e+00\n",
      "Epoch 46/100\n",
      "156/156 [==============================] - 0s 814us/step - loss: 0.1760 - accuracy: 0.0000e+00\n",
      "Epoch 47/100\n",
      "156/156 [==============================] - 0s 808us/step - loss: 0.1766 - accuracy: 0.0000e+00\n",
      "Epoch 48/100\n",
      "156/156 [==============================] - 0s 808us/step - loss: 0.1800 - accuracy: 0.0000e+00\n",
      "Epoch 49/100\n",
      "156/156 [==============================] - 0s 789us/step - loss: 0.1725 - accuracy: 0.0000e+00\n",
      "Epoch 50/100\n",
      "156/156 [==============================] - 0s 808us/step - loss: 0.1763 - accuracy: 0.0000e+00\n",
      "Epoch 51/100\n",
      "156/156 [==============================] - 0s 801us/step - loss: 0.1738 - accuracy: 0.0000e+00\n",
      "Epoch 52/100\n",
      "156/156 [==============================] - 0s 814us/step - loss: 0.1731 - accuracy: 0.0000e+00\n",
      "Epoch 53/100\n",
      "156/156 [==============================] - 0s 802us/step - loss: 0.1708 - accuracy: 0.0000e+00\n",
      "Epoch 54/100\n",
      "156/156 [==============================] - 0s 814us/step - loss: 0.1708 - accuracy: 0.0000e+00\n",
      "Epoch 55/100\n",
      "156/156 [==============================] - 0s 786us/step - loss: 0.1714 - accuracy: 0.0000e+00\n",
      "Epoch 56/100\n",
      "156/156 [==============================] - 0s 795us/step - loss: 0.1704 - accuracy: 0.0000e+00\n",
      "Epoch 57/100\n",
      "156/156 [==============================] - 0s 808us/step - loss: 0.1702 - accuracy: 0.0000e+00\n",
      "Epoch 58/100\n",
      "156/156 [==============================] - 0s 801us/step - loss: 0.1710 - accuracy: 0.0000e+00\n",
      "Epoch 59/100\n",
      "156/156 [==============================] - 0s 865us/step - loss: 0.1689 - accuracy: 0.0000e+00\n",
      "Epoch 60/100\n",
      "156/156 [==============================] - 0s 821us/step - loss: 0.1685 - accuracy: 0.0000e+00\n",
      "Epoch 61/100\n",
      "156/156 [==============================] - 0s 827us/step - loss: 0.1692 - accuracy: 0.0000e+00\n",
      "Epoch 62/100\n",
      "156/156 [==============================] - 0s 827us/step - loss: 0.1662 - accuracy: 0.0000e+00\n",
      "Epoch 63/100\n",
      "156/156 [==============================] - 0s 821us/step - loss: 0.1689 - accuracy: 0.0000e+00\n",
      "Epoch 64/100\n",
      "156/156 [==============================] - 0s 827us/step - loss: 0.1687 - accuracy: 0.0000e+00\n",
      "Epoch 65/100\n",
      "156/156 [==============================] - 0s 821us/step - loss: 0.1676 - accuracy: 0.0000e+00\n",
      "Epoch 66/100\n",
      "156/156 [==============================] - 0s 795us/step - loss: 0.1652 - accuracy: 0.0000e+00\n",
      "Epoch 67/100\n",
      "156/156 [==============================] - 0s 808us/step - loss: 0.1642 - accuracy: 0.0000e+00\n",
      "Epoch 68/100\n",
      "156/156 [==============================] - 0s 808us/step - loss: 0.1666 - accuracy: 0.0000e+00\n",
      "Epoch 69/100\n",
      "156/156 [==============================] - 0s 789us/step - loss: 0.1666 - accuracy: 0.0000e+00\n",
      "Epoch 70/100\n",
      "156/156 [==============================] - 0s 795us/step - loss: 0.1641 - accuracy: 0.0000e+00\n",
      "Epoch 71/100\n",
      "156/156 [==============================] - 0s 795us/step - loss: 0.1650 - accuracy: 0.0000e+00\n",
      "Epoch 72/100\n",
      "156/156 [==============================] - 0s 814us/step - loss: 0.1648 - accuracy: 0.0000e+00\n",
      "Epoch 73/100\n",
      "156/156 [==============================] - 0s 789us/step - loss: 0.1654 - accuracy: 0.0000e+00\n",
      "Epoch 74/100\n",
      "156/156 [==============================] - 0s 795us/step - loss: 0.1651 - accuracy: 0.0000e+00\n",
      "Epoch 75/100\n",
      "156/156 [==============================] - 0s 794us/step - loss: 0.1629 - accuracy: 0.0000e+00\n",
      "Epoch 76/100\n",
      "156/156 [==============================] - 0s 808us/step - loss: 0.1644 - accuracy: 0.0000e+00\n"
     ]
    },
    {
     "name": "stdout",
     "output_type": "stream",
     "text": [
      "Epoch 77/100\n",
      "156/156 [==============================] - 0s 806us/step - loss: 0.1624 - accuracy: 0.0000e+00\n",
      "Epoch 78/100\n",
      "156/156 [==============================] - 0s 789us/step - loss: 0.1610 - accuracy: 0.0000e+00\n",
      "Epoch 79/100\n",
      "156/156 [==============================] - 0s 814us/step - loss: 0.1595 - accuracy: 0.0000e+00\n",
      "Epoch 80/100\n",
      "156/156 [==============================] - 0s 801us/step - loss: 0.1648 - accuracy: 0.0000e+00\n",
      "Epoch 81/100\n",
      "156/156 [==============================] - 0s 795us/step - loss: 0.1608 - accuracy: 0.0000e+00\n",
      "Epoch 82/100\n",
      "156/156 [==============================] - 0s 795us/step - loss: 0.1583 - accuracy: 0.0000e+00\n",
      "Epoch 83/100\n",
      "156/156 [==============================] - 0s 795us/step - loss: 0.1590 - accuracy: 0.0000e+00\n",
      "Epoch 84/100\n",
      "156/156 [==============================] - 0s 794us/step - loss: 0.1602 - accuracy: 0.0000e+00\n",
      "Epoch 85/100\n",
      "156/156 [==============================] - 0s 795us/step - loss: 0.1598 - accuracy: 0.0000e+00\n",
      "Epoch 86/100\n",
      "156/156 [==============================] - 0s 808us/step - loss: 0.1576 - accuracy: 0.0000e+00\n",
      "Epoch 87/100\n",
      "156/156 [==============================] - 0s 795us/step - loss: 0.1603 - accuracy: 0.0000e+00\n",
      "Epoch 88/100\n",
      "156/156 [==============================] - 0s 829us/step - loss: 0.1577 - accuracy: 0.0000e+00\n",
      "Epoch 89/100\n",
      "156/156 [==============================] - 0s 808us/step - loss: 0.1583 - accuracy: 0.0000e+00\n",
      "Epoch 90/100\n",
      "156/156 [==============================] - 0s 799us/step - loss: 0.1575 - accuracy: 0.0000e+00\n",
      "Epoch 91/100\n",
      "156/156 [==============================] - 0s 795us/step - loss: 0.1568 - accuracy: 0.0000e+00\n",
      "Epoch 92/100\n",
      "156/156 [==============================] - 0s 795us/step - loss: 0.1570 - accuracy: 0.0000e+00\n",
      "Epoch 93/100\n",
      "156/156 [==============================] - 0s 795us/step - loss: 0.1561 - accuracy: 0.0000e+00\n",
      "Epoch 94/100\n",
      "156/156 [==============================] - 0s 795us/step - loss: 0.1558 - accuracy: 0.0000e+00\n",
      "Epoch 95/100\n",
      "156/156 [==============================] - 0s 795us/step - loss: 0.1561 - accuracy: 0.0000e+00\n",
      "Epoch 96/100\n",
      "156/156 [==============================] - 0s 808us/step - loss: 0.1557 - accuracy: 0.0000e+00\n",
      "Epoch 97/100\n",
      "156/156 [==============================] - 0s 795us/step - loss: 0.1561 - accuracy: 0.0000e+00\n",
      "Epoch 98/100\n",
      "156/156 [==============================] - 0s 806us/step - loss: 0.1565 - accuracy: 0.0000e+00\n",
      "Epoch 99/100\n",
      "156/156 [==============================] - 0s 789us/step - loss: 0.1537 - accuracy: 0.0000e+00\n",
      "Epoch 100/100\n",
      "156/156 [==============================] - 0s 795us/step - loss: 0.1545 - accuracy: 0.0000e+00\n"
     ]
    },
    {
     "data": {
      "text/plain": [
       "<tensorflow.python.keras.callbacks.History at 0x2732ed515e0>"
      ]
     },
     "execution_count": 6,
     "metadata": {},
     "output_type": "execute_result"
    }
   ],
   "source": [
    "# Fitting the ANN to the Training set\n",
    "rnn.fit(X_train, y_train, batch_size = 10, epochs = 100)"
   ]
  },
  {
   "cell_type": "markdown",
   "metadata": {},
   "source": [
    "Строим прогноз на тестовом множестве."
   ]
  },
  {
   "cell_type": "code",
   "execution_count": 7,
   "metadata": {},
   "outputs": [],
   "source": [
    "# Predicting the Test set results\n",
    "y_pred = rnn.predict(X_test)"
   ]
  },
  {
   "cell_type": "markdown",
   "metadata": {},
   "source": [
    "Осуществляем обратное шкалирование"
   ]
  },
  {
   "cell_type": "code",
   "execution_count": 8,
   "metadata": {},
   "outputs": [],
   "source": [
    "# Inversing scaling\n",
    "#yhat = pd.DataFrame(yhat, columns=['yhat']) \n",
    "from sklearn.preprocessing import StandardScaler\n",
    "y_hat = sc_y.inverse_transform(y_pred)\n",
    "y_test = sc_y.inverse_transform(y_test)\n",
    "X_test = sc_X.inverse_transform(X_test)"
   ]
  },
  {
   "cell_type": "markdown",
   "metadata": {},
   "source": [
    "Вычмслим сумму квадратов ошибок на тестовом множестве."
   ]
  },
  {
   "cell_type": "code",
   "execution_count": 9,
   "metadata": {},
   "outputs": [
    {
     "data": {
      "text/plain": [
       "20180858.643086202"
      ]
     },
     "execution_count": 9,
     "metadata": {},
     "output_type": "execute_result"
    }
   ],
   "source": [
    "# Mean squared error\n",
    "from sklearn.metrics import mean_squared_error\n",
    "mean_squared_error(y_test, y_hat)"
   ]
  },
  {
   "cell_type": "markdown",
   "metadata": {},
   "source": [
    "Видим, что MSE в модели нейронной сети (20180858) значительно сократилась по сравнения с моделью регрессии (35570626)."
   ]
  },
  {
   "cell_type": "markdown",
   "metadata": {},
   "source": [
    "Построим график, на котором видно, что построенная модель нейронной сети сработала довольно четко по сравнению с многофакторной регрессией."
   ]
  },
  {
   "cell_type": "code",
   "execution_count": 10,
   "metadata": {
    "scrolled": true
   },
   "outputs": [
    {
     "data": {
      "image/png": "[encoded data removed]",
      "text/plain": [
       "<Figure size 432x288 with 1 Axes>"
      ]
     },
     "metadata": {
      "needs_background": "light"
     },
     "output_type": "display_data"
    }
   ],
   "source": [
    "# Visualising the Test set results\n",
    "plt.scatter(X_test[:,4], y_test, color = 'red')\n",
    "plt.plot(X_test[:,4], y_hat, 'bo')\n",
    "plt.title('Price vs car_mileage (Test set)')\n",
    "plt.xlabel('car_mileage')\n",
    "plt.ylabel('Price')\n",
    "plt.show()"
   ]
  },
  {
   "cell_type": "code",
   "execution_count": null,
   "metadata": {},
   "outputs": [],
   "source": []
  }
 ],
 "metadata": {
  "kernelspec": {
   "display_name": "Python 3",
   "language": "python",
   "name": "python3"
  },
  "language_info": {
   "codemirror_mode": {
    "name": "ipython",
    "version": 3
   },
   "file_extension": ".py",
   "mimetype": "text/x-python",
   "name": "python",
   "nbconvert_exporter": "python",
   "pygments_lexer": "ipython3",
   "version": "3.8.3"
  }
 },
 "nbformat": 4,
 "nbformat_minor": 4
}
