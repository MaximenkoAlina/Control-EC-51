{
 "cells": [
  {
   "cell_type": "markdown",
   "metadata": {
    "slideshow": {
     "slide_type": "slide"
    }
   },
   "source": [
    "Linear Regression"
   ]
  },
  {
   "cell_type": "code",
   "execution_count": 1,
   "metadata": {
    "slideshow": {
     "slide_type": "slide"
    }
   },
   "outputs": [],
   "source": [
    "# Importing the libraries\n",
    "import numpy as np\n",
    "import matplotlib.pyplot as plt\n",
    "import pandas as pd"
   ]
  },
  {
   "cell_type": "markdown",
   "metadata": {},
   "source": [
    "Экспортируем наши данные"
   ]
  },
  {
   "cell_type": "code",
   "execution_count": 2,
   "metadata": {
    "slideshow": {
     "slide_type": "slide"
    }
   },
   "outputs": [],
   "source": [
    "# Importing the dataset\n",
    "df = pd.read_csv('vehicleprice_prep.csv', sep=',')"
   ]
  },
  {
   "cell_type": "code",
   "execution_count": 3,
   "metadata": {
    "scrolled": true
   },
   "outputs": [
    {
     "data": {
      "text/html": [
       "<div>\n",
       "<style scoped>\n",
       "    .dataframe tbody tr th:only-of-type {\n",
       "        vertical-align: middle;\n",
       "    }\n",
       "\n",
       "    .dataframe tbody tr th {\n",
       "        vertical-align: top;\n",
       "    }\n",
       "\n",
       "    .dataframe thead th {\n",
       "        text-align: right;\n",
       "    }\n",
       "</style>\n",
       "<table border=\"1\" class=\"dataframe\">\n",
       "  <thead>\n",
       "    <tr style=\"text-align: right;\">\n",
       "      <th></th>\n",
       "      <th>brand</th>\n",
       "      <th>model</th>\n",
       "      <th>year</th>\n",
       "      <th>body</th>\n",
       "      <th>car_mileage</th>\n",
       "      <th>fuel</th>\n",
       "      <th>power</th>\n",
       "      <th>transmission</th>\n",
       "      <th>price</th>\n",
       "    </tr>\n",
       "  </thead>\n",
       "  <tbody>\n",
       "    <tr>\n",
       "      <th>0</th>\n",
       "      <td>0.0</td>\n",
       "      <td>0</td>\n",
       "      <td>2006.0</td>\n",
       "      <td>0</td>\n",
       "      <td>220.0</td>\n",
       "      <td>0</td>\n",
       "      <td>2.0</td>\n",
       "      <td>0.0</td>\n",
       "      <td>5350.0</td>\n",
       "    </tr>\n",
       "    <tr>\n",
       "      <th>1</th>\n",
       "      <td>1.0</td>\n",
       "      <td>1</td>\n",
       "      <td>2017.0</td>\n",
       "      <td>0</td>\n",
       "      <td>211.0</td>\n",
       "      <td>0</td>\n",
       "      <td>2.3</td>\n",
       "      <td>0.0</td>\n",
       "      <td>17000.0</td>\n",
       "    </tr>\n",
       "    <tr>\n",
       "      <th>2</th>\n",
       "      <td>2.0</td>\n",
       "      <td>2</td>\n",
       "      <td>2015.0</td>\n",
       "      <td>0</td>\n",
       "      <td>157.0</td>\n",
       "      <td>0</td>\n",
       "      <td>1.6</td>\n",
       "      <td>0.0</td>\n",
       "      <td>15200.0</td>\n",
       "    </tr>\n",
       "    <tr>\n",
       "      <th>3</th>\n",
       "      <td>0.0</td>\n",
       "      <td>0</td>\n",
       "      <td>2000.0</td>\n",
       "      <td>0</td>\n",
       "      <td>300.0</td>\n",
       "      <td>0</td>\n",
       "      <td>2.4</td>\n",
       "      <td>0.0</td>\n",
       "      <td>4999.0</td>\n",
       "    </tr>\n",
       "    <tr>\n",
       "      <th>4</th>\n",
       "      <td>3.0</td>\n",
       "      <td>3</td>\n",
       "      <td>2002.0</td>\n",
       "      <td>0</td>\n",
       "      <td>270.0</td>\n",
       "      <td>0</td>\n",
       "      <td>2.5</td>\n",
       "      <td>0.0</td>\n",
       "      <td>12900.0</td>\n",
       "    </tr>\n",
       "    <tr>\n",
       "      <th>...</th>\n",
       "      <td>...</td>\n",
       "      <td>...</td>\n",
       "      <td>...</td>\n",
       "      <td>...</td>\n",
       "      <td>...</td>\n",
       "      <td>...</td>\n",
       "      <td>...</td>\n",
       "      <td>...</td>\n",
       "      <td>...</td>\n",
       "    </tr>\n",
       "    <tr>\n",
       "      <th>1935</th>\n",
       "      <td>1.0</td>\n",
       "      <td>98</td>\n",
       "      <td>2005.0</td>\n",
       "      <td>10</td>\n",
       "      <td>311.0</td>\n",
       "      <td>0</td>\n",
       "      <td>1.9</td>\n",
       "      <td>0.0</td>\n",
       "      <td>5400.0</td>\n",
       "    </tr>\n",
       "    <tr>\n",
       "      <th>1936</th>\n",
       "      <td>10.0</td>\n",
       "      <td>13</td>\n",
       "      <td>2009.0</td>\n",
       "      <td>10</td>\n",
       "      <td>201.0</td>\n",
       "      <td>0</td>\n",
       "      <td>2.0</td>\n",
       "      <td>0.0</td>\n",
       "      <td>8500.0</td>\n",
       "    </tr>\n",
       "    <tr>\n",
       "      <th>1937</th>\n",
       "      <td>12.0</td>\n",
       "      <td>157</td>\n",
       "      <td>2012.0</td>\n",
       "      <td>10</td>\n",
       "      <td>199.0</td>\n",
       "      <td>1</td>\n",
       "      <td>1.8</td>\n",
       "      <td>1.0</td>\n",
       "      <td>16500.0</td>\n",
       "    </tr>\n",
       "    <tr>\n",
       "      <th>1938</th>\n",
       "      <td>10.0</td>\n",
       "      <td>13</td>\n",
       "      <td>2008.0</td>\n",
       "      <td>10</td>\n",
       "      <td>226.0</td>\n",
       "      <td>2</td>\n",
       "      <td>1.6</td>\n",
       "      <td>0.0</td>\n",
       "      <td>7199.0</td>\n",
       "    </tr>\n",
       "    <tr>\n",
       "      <th>1939</th>\n",
       "      <td>2.0</td>\n",
       "      <td>234</td>\n",
       "      <td>2012.0</td>\n",
       "      <td>10</td>\n",
       "      <td>70.0</td>\n",
       "      <td>1</td>\n",
       "      <td>2.0</td>\n",
       "      <td>1.0</td>\n",
       "      <td>12500.0</td>\n",
       "    </tr>\n",
       "  </tbody>\n",
       "</table>\n",
       "<p>1940 rows × 9 columns</p>\n",
       "</div>"
      ],
      "text/plain": [
       "      brand  model    year  body  car_mileage  fuel  power  transmission  \\\n",
       "0       0.0      0  2006.0     0        220.0     0    2.0           0.0   \n",
       "1       1.0      1  2017.0     0        211.0     0    2.3           0.0   \n",
       "2       2.0      2  2015.0     0        157.0     0    1.6           0.0   \n",
       "3       0.0      0  2000.0     0        300.0     0    2.4           0.0   \n",
       "4       3.0      3  2002.0     0        270.0     0    2.5           0.0   \n",
       "...     ...    ...     ...   ...          ...   ...    ...           ...   \n",
       "1935    1.0     98  2005.0    10        311.0     0    1.9           0.0   \n",
       "1936   10.0     13  2009.0    10        201.0     0    2.0           0.0   \n",
       "1937   12.0    157  2012.0    10        199.0     1    1.8           1.0   \n",
       "1938   10.0     13  2008.0    10        226.0     2    1.6           0.0   \n",
       "1939    2.0    234  2012.0    10         70.0     1    2.0           1.0   \n",
       "\n",
       "        price  \n",
       "0      5350.0  \n",
       "1     17000.0  \n",
       "2     15200.0  \n",
       "3      4999.0  \n",
       "4     12900.0  \n",
       "...       ...  \n",
       "1935   5400.0  \n",
       "1936   8500.0  \n",
       "1937  16500.0  \n",
       "1938   7199.0  \n",
       "1939  12500.0  \n",
       "\n",
       "[1940 rows x 9 columns]"
      ]
     },
     "execution_count": 3,
     "metadata": {},
     "output_type": "execute_result"
    }
   ],
   "source": [
    "df"
   ]
  },
  {
   "cell_type": "markdown",
   "metadata": {},
   "source": [
    "Следующий этап нашей работы будет состоять в построении многофакторной линейной регрессии.  Построим корреляционную матрицую Данная матрица необходима для визуализации и выявления наиболее значимых факторов, которые необходимо будет включить в модель.\n",
    "Как можно определить изначально, большее влияние имеет переменная , Power, потом Year, потом car_mileage, потом transmission."
   ]
  },
  {
   "cell_type": "code",
   "execution_count": 4,
   "metadata": {
    "scrolled": true,
    "slideshow": {
     "slide_type": "slide"
    }
   },
   "outputs": [
    {
     "data": {
      "image/png": "[encoded data removed]",
      "text/plain": [
       "<Figure size 864x648 with 2 Axes>"
      ]
     },
     "metadata": {
      "needs_background": "light"
     },
     "output_type": "display_data"
    }
   ],
   "source": [
    "# Cheking correlations\n",
    "import seaborn as sns\n",
    "corrmat = df.corr()\n",
    "f, ax = plt.subplots(figsize=(12, 9))\n",
    "sns.heatmap(corrmat, annot=True)\n",
    "plt.show()"
   ]
  },
  {
   "cell_type": "markdown",
   "metadata": {},
   "source": [
    "Разделим выборку на обучающую и тестовую (20%), запишем разделенные данные."
   ]
  },
  {
   "cell_type": "code",
   "execution_count": 5,
   "metadata": {
    "slideshow": {
     "slide_type": "slide"
    }
   },
   "outputs": [],
   "source": [
    "# Splitting the dataset into the Training set and Test set\n",
    "X = df.iloc[:, :-1].values\n",
    "y = df.iloc[:, 8].values\n",
    "from sklearn.model_selection import train_test_split\n",
    "X_train, X_test, y_train, y_test = train_test_split(X, y, test_size=0.2, random_state=10)"
   ]
  },
  {
   "cell_type": "markdown",
   "metadata": {},
   "source": [
    "Построим модель многофакторной регрессии от всех переменных, включив константу, и выведем статистику по ней."
   ]
  },
  {
   "cell_type": "code",
   "execution_count": 6,
   "metadata": {
    "scrolled": false
   },
   "outputs": [
    {
     "data": {
      "text/html": [
       "<table class=\"simpletable\">\n",
       "<caption>OLS Regression Results</caption>\n",
       "<tr>\n",
       "  <th>Dep. Variable:</th>            <td>y</td>        <th>  R-squared:         </th> <td>   0.638</td> \n",
       "</tr>\n",
       "<tr>\n",
       "  <th>Model:</th>                   <td>OLS</td>       <th>  Adj. R-squared:    </th> <td>   0.636</td> \n",
       "</tr>\n",
       "<tr>\n",
       "  <th>Method:</th>             <td>Least Squares</td>  <th>  F-statistic:       </th> <td>   339.8</td> \n",
       "</tr>\n",
       "<tr>\n",
       "  <th>Date:</th>             <td>Sun, 20 Dec 2020</td> <th>  Prob (F-statistic):</th>  <td>  0.00</td>  \n",
       "</tr>\n",
       "<tr>\n",
       "  <th>Time:</th>                 <td>16:14:38</td>     <th>  Log-Likelihood:    </th> <td> -15976.</td> \n",
       "</tr>\n",
       "<tr>\n",
       "  <th>No. Observations:</th>      <td>  1552</td>      <th>  AIC:               </th> <td>3.197e+04</td>\n",
       "</tr>\n",
       "<tr>\n",
       "  <th>Df Residuals:</th>          <td>  1543</td>      <th>  BIC:               </th> <td>3.202e+04</td>\n",
       "</tr>\n",
       "<tr>\n",
       "  <th>Df Model:</th>              <td>     8</td>      <th>                     </th>     <td> </td>    \n",
       "</tr>\n",
       "<tr>\n",
       "  <th>Covariance Type:</th>      <td>nonrobust</td>    <th>                     </th>     <td> </td>    \n",
       "</tr>\n",
       "</table>\n",
       "<table class=\"simpletable\">\n",
       "<tr>\n",
       "    <td></td>       <th>coef</th>     <th>std err</th>      <th>t</th>      <th>P>|t|</th>  <th>[0.025</th>    <th>0.975]</th>  \n",
       "</tr>\n",
       "<tr>\n",
       "  <th>const</th> <td>-1.405e+06</td> <td> 9.47e+04</td> <td>  -14.832</td> <td> 0.000</td> <td>-1.59e+06</td> <td>-1.22e+06</td>\n",
       "</tr>\n",
       "<tr>\n",
       "  <th>x1</th>    <td>   46.1898</td> <td>   17.992</td> <td>    2.567</td> <td> 0.010</td> <td>   10.898</td> <td>   81.482</td>\n",
       "</tr>\n",
       "<tr>\n",
       "  <th>x2</th>    <td>    5.7900</td> <td>    2.127</td> <td>    2.722</td> <td> 0.007</td> <td>    1.618</td> <td>    9.962</td>\n",
       "</tr>\n",
       "<tr>\n",
       "  <th>x3</th>    <td>  699.7557</td> <td>   46.954</td> <td>   14.903</td> <td> 0.000</td> <td>  607.656</td> <td>  791.855</td>\n",
       "</tr>\n",
       "<tr>\n",
       "  <th>x4</th>    <td>   24.5486</td> <td>   79.567</td> <td>    0.309</td> <td> 0.758</td> <td> -131.523</td> <td>  180.620</td>\n",
       "</tr>\n",
       "<tr>\n",
       "  <th>x5</th>    <td>  -20.0716</td> <td>    3.040</td> <td>   -6.602</td> <td> 0.000</td> <td>  -26.035</td> <td>  -14.108</td>\n",
       "</tr>\n",
       "<tr>\n",
       "  <th>x6</th>    <td>-2158.5566</td> <td>  267.868</td> <td>   -8.058</td> <td> 0.000</td> <td>-2683.980</td> <td>-1633.133</td>\n",
       "</tr>\n",
       "<tr>\n",
       "  <th>x7</th>    <td> 6761.4411</td> <td>  241.155</td> <td>   28.038</td> <td> 0.000</td> <td> 6288.416</td> <td> 7234.467</td>\n",
       "</tr>\n",
       "<tr>\n",
       "  <th>x8</th>    <td> 1339.7160</td> <td>  316.035</td> <td>    4.239</td> <td> 0.000</td> <td>  719.813</td> <td> 1959.619</td>\n",
       "</tr>\n",
       "</table>\n",
       "<table class=\"simpletable\">\n",
       "<tr>\n",
       "  <th>Omnibus:</th>       <td>511.499</td> <th>  Durbin-Watson:     </th> <td>   2.019</td>\n",
       "</tr>\n",
       "<tr>\n",
       "  <th>Prob(Omnibus):</th> <td> 0.000</td>  <th>  Jarque-Bera (JB):  </th> <td>1883.360</td>\n",
       "</tr>\n",
       "<tr>\n",
       "  <th>Skew:</th>          <td> 1.586</td>  <th>  Prob(JB):          </th> <td>    0.00</td>\n",
       "</tr>\n",
       "<tr>\n",
       "  <th>Kurtosis:</th>      <td> 7.366</td>  <th>  Cond. No.          </th> <td>1.05e+06</td>\n",
       "</tr>\n",
       "</table><br/><br/>Warnings:<br/>[1] Standard Errors assume that the covariance matrix of the errors is correctly specified.<br/>[2] The condition number is large, 1.05e+06. This might indicate that there are<br/>strong multicollinearity or other numerical problems."
      ],
      "text/plain": [
       "<class 'statsmodels.iolib.summary.Summary'>\n",
       "\"\"\"\n",
       "                            OLS Regression Results                            \n",
       "==============================================================================\n",
       "Dep. Variable:                      y   R-squared:                       0.638\n",
       "Model:                            OLS   Adj. R-squared:                  0.636\n",
       "Method:                 Least Squares   F-statistic:                     339.8\n",
       "Date:                Sun, 20 Dec 2020   Prob (F-statistic):               0.00\n",
       "Time:                        16:14:38   Log-Likelihood:                -15976.\n",
       "No. Observations:                1552   AIC:                         3.197e+04\n",
       "Df Residuals:                    1543   BIC:                         3.202e+04\n",
       "Df Model:                           8                                         \n",
       "Covariance Type:            nonrobust                                         \n",
       "==============================================================================\n",
       "                 coef    std err          t      P>|t|      [0.025      0.975]\n",
       "------------------------------------------------------------------------------\n",
       "const      -1.405e+06   9.47e+04    -14.832      0.000   -1.59e+06   -1.22e+06\n",
       "x1            46.1898     17.992      2.567      0.010      10.898      81.482\n",
       "x2             5.7900      2.127      2.722      0.007       1.618       9.962\n",
       "x3           699.7557     46.954     14.903      0.000     607.656     791.855\n",
       "x4            24.5486     79.567      0.309      0.758    -131.523     180.620\n",
       "x5           -20.0716      3.040     -6.602      0.000     -26.035     -14.108\n",
       "x6         -2158.5566    267.868     -8.058      0.000   -2683.980   -1633.133\n",
       "x7          6761.4411    241.155     28.038      0.000    6288.416    7234.467\n",
       "x8          1339.7160    316.035      4.239      0.000     719.813    1959.619\n",
       "==============================================================================\n",
       "Omnibus:                      511.499   Durbin-Watson:                   2.019\n",
       "Prob(Omnibus):                  0.000   Jarque-Bera (JB):             1883.360\n",
       "Skew:                           1.586   Prob(JB):                         0.00\n",
       "Kurtosis:                       7.366   Cond. No.                     1.05e+06\n",
       "==============================================================================\n",
       "\n",
       "Warnings:\n",
       "[1] Standard Errors assume that the covariance matrix of the errors is correctly specified.\n",
       "[2] The condition number is large, 1.05e+06. This might indicate that there are\n",
       "strong multicollinearity or other numerical problems.\n",
       "\"\"\""
      ]
     },
     "execution_count": 6,
     "metadata": {},
     "output_type": "execute_result"
    }
   ],
   "source": [
    "# Multiple Linear Regression, checking p-values\n",
    "from sklearn.linear_model import LinearRegression\n",
    "import statsmodels.api as sm\n",
    "X = sm.add_constant(X_train)\n",
    "mr1 = sm.OLS(y_train, X).fit()\n",
    "#mr1.pvalues\n",
    "mr1.summary()"
   ]
  },
  {
   "cell_type": "markdown",
   "metadata": {},
   "source": [
    "Как показала статистика, все переменные модели, кроме Х4 \"Boddy\" оказались значимыми. Коэффициент детерминации не слишком высокий и равен 0,638, однако модель значимая."
   ]
  },
  {
   "cell_type": "markdown",
   "metadata": {},
   "source": [
    "Экспортируем наши измененные данные, где исключена переменная Х4"
   ]
  },
  {
   "cell_type": "code",
   "execution_count": 7,
   "metadata": {
    "slideshow": {
     "slide_type": "slide"
    }
   },
   "outputs": [],
   "source": [
    "# Importing the dataset\n",
    "df = pd.read_csv('vehicleprice_prep1.csv', sep=',')"
   ]
  },
  {
   "cell_type": "code",
   "execution_count": 8,
   "metadata": {},
   "outputs": [
    {
     "data": {
      "text/html": [
       "<div>\n",
       "<style scoped>\n",
       "    .dataframe tbody tr th:only-of-type {\n",
       "        vertical-align: middle;\n",
       "    }\n",
       "\n",
       "    .dataframe tbody tr th {\n",
       "        vertical-align: top;\n",
       "    }\n",
       "\n",
       "    .dataframe thead th {\n",
       "        text-align: right;\n",
       "    }\n",
       "</style>\n",
       "<table border=\"1\" class=\"dataframe\">\n",
       "  <thead>\n",
       "    <tr style=\"text-align: right;\">\n",
       "      <th></th>\n",
       "      <th>brand</th>\n",
       "      <th>model</th>\n",
       "      <th>year</th>\n",
       "      <th>car_mileage</th>\n",
       "      <th>fuel</th>\n",
       "      <th>power</th>\n",
       "      <th>transmission</th>\n",
       "      <th>price</th>\n",
       "    </tr>\n",
       "  </thead>\n",
       "  <tbody>\n",
       "    <tr>\n",
       "      <th>0</th>\n",
       "      <td>0.0</td>\n",
       "      <td>0</td>\n",
       "      <td>2006.0</td>\n",
       "      <td>220.0</td>\n",
       "      <td>0</td>\n",
       "      <td>2.0</td>\n",
       "      <td>0.0</td>\n",
       "      <td>5350.0</td>\n",
       "    </tr>\n",
       "    <tr>\n",
       "      <th>1</th>\n",
       "      <td>1.0</td>\n",
       "      <td>1</td>\n",
       "      <td>2017.0</td>\n",
       "      <td>211.0</td>\n",
       "      <td>0</td>\n",
       "      <td>2.3</td>\n",
       "      <td>0.0</td>\n",
       "      <td>17000.0</td>\n",
       "    </tr>\n",
       "    <tr>\n",
       "      <th>2</th>\n",
       "      <td>2.0</td>\n",
       "      <td>2</td>\n",
       "      <td>2015.0</td>\n",
       "      <td>157.0</td>\n",
       "      <td>0</td>\n",
       "      <td>1.6</td>\n",
       "      <td>0.0</td>\n",
       "      <td>15200.0</td>\n",
       "    </tr>\n",
       "    <tr>\n",
       "      <th>3</th>\n",
       "      <td>0.0</td>\n",
       "      <td>0</td>\n",
       "      <td>2000.0</td>\n",
       "      <td>300.0</td>\n",
       "      <td>0</td>\n",
       "      <td>2.4</td>\n",
       "      <td>0.0</td>\n",
       "      <td>4999.0</td>\n",
       "    </tr>\n",
       "    <tr>\n",
       "      <th>4</th>\n",
       "      <td>3.0</td>\n",
       "      <td>3</td>\n",
       "      <td>2002.0</td>\n",
       "      <td>270.0</td>\n",
       "      <td>0</td>\n",
       "      <td>2.5</td>\n",
       "      <td>0.0</td>\n",
       "      <td>12900.0</td>\n",
       "    </tr>\n",
       "    <tr>\n",
       "      <th>...</th>\n",
       "      <td>...</td>\n",
       "      <td>...</td>\n",
       "      <td>...</td>\n",
       "      <td>...</td>\n",
       "      <td>...</td>\n",
       "      <td>...</td>\n",
       "      <td>...</td>\n",
       "      <td>...</td>\n",
       "    </tr>\n",
       "    <tr>\n",
       "      <th>1935</th>\n",
       "      <td>1.0</td>\n",
       "      <td>98</td>\n",
       "      <td>2005.0</td>\n",
       "      <td>311.0</td>\n",
       "      <td>0</td>\n",
       "      <td>1.9</td>\n",
       "      <td>0.0</td>\n",
       "      <td>5400.0</td>\n",
       "    </tr>\n",
       "    <tr>\n",
       "      <th>1936</th>\n",
       "      <td>10.0</td>\n",
       "      <td>13</td>\n",
       "      <td>2009.0</td>\n",
       "      <td>201.0</td>\n",
       "      <td>0</td>\n",
       "      <td>2.0</td>\n",
       "      <td>0.0</td>\n",
       "      <td>8500.0</td>\n",
       "    </tr>\n",
       "    <tr>\n",
       "      <th>1937</th>\n",
       "      <td>12.0</td>\n",
       "      <td>157</td>\n",
       "      <td>2012.0</td>\n",
       "      <td>199.0</td>\n",
       "      <td>1</td>\n",
       "      <td>1.8</td>\n",
       "      <td>1.0</td>\n",
       "      <td>16500.0</td>\n",
       "    </tr>\n",
       "    <tr>\n",
       "      <th>1938</th>\n",
       "      <td>10.0</td>\n",
       "      <td>13</td>\n",
       "      <td>2008.0</td>\n",
       "      <td>226.0</td>\n",
       "      <td>2</td>\n",
       "      <td>1.6</td>\n",
       "      <td>0.0</td>\n",
       "      <td>7199.0</td>\n",
       "    </tr>\n",
       "    <tr>\n",
       "      <th>1939</th>\n",
       "      <td>2.0</td>\n",
       "      <td>234</td>\n",
       "      <td>2012.0</td>\n",
       "      <td>70.0</td>\n",
       "      <td>1</td>\n",
       "      <td>2.0</td>\n",
       "      <td>1.0</td>\n",
       "      <td>12500.0</td>\n",
       "    </tr>\n",
       "  </tbody>\n",
       "</table>\n",
       "<p>1940 rows × 8 columns</p>\n",
       "</div>"
      ],
      "text/plain": [
       "      brand  model    year  car_mileage  fuel  power  transmission    price\n",
       "0       0.0      0  2006.0        220.0     0    2.0           0.0   5350.0\n",
       "1       1.0      1  2017.0        211.0     0    2.3           0.0  17000.0\n",
       "2       2.0      2  2015.0        157.0     0    1.6           0.0  15200.0\n",
       "3       0.0      0  2000.0        300.0     0    2.4           0.0   4999.0\n",
       "4       3.0      3  2002.0        270.0     0    2.5           0.0  12900.0\n",
       "...     ...    ...     ...          ...   ...    ...           ...      ...\n",
       "1935    1.0     98  2005.0        311.0     0    1.9           0.0   5400.0\n",
       "1936   10.0     13  2009.0        201.0     0    2.0           0.0   8500.0\n",
       "1937   12.0    157  2012.0        199.0     1    1.8           1.0  16500.0\n",
       "1938   10.0     13  2008.0        226.0     2    1.6           0.0   7199.0\n",
       "1939    2.0    234  2012.0         70.0     1    2.0           1.0  12500.0\n",
       "\n",
       "[1940 rows x 8 columns]"
      ]
     },
     "execution_count": 8,
     "metadata": {},
     "output_type": "execute_result"
    }
   ],
   "source": [
    "df"
   ]
  },
  {
   "cell_type": "markdown",
   "metadata": {},
   "source": [
    "Разделим выборку на обучающую и тестовую (20%), запишем разделенные данные."
   ]
  },
  {
   "cell_type": "code",
   "execution_count": 9,
   "metadata": {
    "slideshow": {
     "slide_type": "slide"
    }
   },
   "outputs": [],
   "source": [
    "# Splitting the dataset into the Training set and Test set\n",
    "X1 = df.iloc[:, :-1].values\n",
    "y1 = df.iloc[:, 7].values\n",
    "from sklearn.model_selection import train_test_split\n",
    "X_train1, X_test1, y_train1, y_test1 = train_test_split(X1, y1, test_size=0.2, random_state=10)"
   ]
  },
  {
   "cell_type": "markdown",
   "metadata": {},
   "source": [
    "Построим модель многофакторной регрессии от всех переменных, включив константу, и выведем статистику по ней."
   ]
  },
  {
   "cell_type": "code",
   "execution_count": 10,
   "metadata": {},
   "outputs": [
    {
     "data": {
      "text/html": [
       "<table class=\"simpletable\">\n",
       "<caption>OLS Regression Results</caption>\n",
       "<tr>\n",
       "  <th>Dep. Variable:</th>            <td>y</td>        <th>  R-squared:         </th> <td>   0.638</td> \n",
       "</tr>\n",
       "<tr>\n",
       "  <th>Model:</th>                   <td>OLS</td>       <th>  Adj. R-squared:    </th> <td>   0.636</td> \n",
       "</tr>\n",
       "<tr>\n",
       "  <th>Method:</th>             <td>Least Squares</td>  <th>  F-statistic:       </th> <td>   388.5</td> \n",
       "</tr>\n",
       "<tr>\n",
       "  <th>Date:</th>             <td>Sun, 20 Dec 2020</td> <th>  Prob (F-statistic):</th>  <td>  0.00</td>  \n",
       "</tr>\n",
       "<tr>\n",
       "  <th>Time:</th>                 <td>16:14:49</td>     <th>  Log-Likelihood:    </th> <td> -15976.</td> \n",
       "</tr>\n",
       "<tr>\n",
       "  <th>No. Observations:</th>      <td>  1552</td>      <th>  AIC:               </th> <td>3.197e+04</td>\n",
       "</tr>\n",
       "<tr>\n",
       "  <th>Df Residuals:</th>          <td>  1544</td>      <th>  BIC:               </th> <td>3.201e+04</td>\n",
       "</tr>\n",
       "<tr>\n",
       "  <th>Df Model:</th>              <td>     7</td>      <th>                     </th>     <td> </td>    \n",
       "</tr>\n",
       "<tr>\n",
       "  <th>Covariance Type:</th>      <td>nonrobust</td>    <th>                     </th>     <td> </td>    \n",
       "</tr>\n",
       "</table>\n",
       "<table class=\"simpletable\">\n",
       "<tr>\n",
       "    <td></td>       <th>coef</th>     <th>std err</th>      <th>t</th>      <th>P>|t|</th>  <th>[0.025</th>    <th>0.975]</th>  \n",
       "</tr>\n",
       "<tr>\n",
       "  <th>const</th> <td>-1.406e+06</td> <td> 9.46e+04</td> <td>  -14.856</td> <td> 0.000</td> <td>-1.59e+06</td> <td>-1.22e+06</td>\n",
       "</tr>\n",
       "<tr>\n",
       "  <th>x1</th>    <td>   45.4479</td> <td>   17.826</td> <td>    2.550</td> <td> 0.011</td> <td>   10.483</td> <td>   80.413</td>\n",
       "</tr>\n",
       "<tr>\n",
       "  <th>x2</th>    <td>    6.1463</td> <td>    1.785</td> <td>    3.443</td> <td> 0.001</td> <td>    2.644</td> <td>    9.648</td>\n",
       "</tr>\n",
       "<tr>\n",
       "  <th>x3</th>    <td>  700.2883</td> <td>   46.908</td> <td>   14.929</td> <td> 0.000</td> <td>  608.278</td> <td>  792.299</td>\n",
       "</tr>\n",
       "<tr>\n",
       "  <th>x4</th>    <td>  -20.0624</td> <td>    3.039</td> <td>   -6.601</td> <td> 0.000</td> <td>  -26.024</td> <td>  -14.101</td>\n",
       "</tr>\n",
       "<tr>\n",
       "  <th>x5</th>    <td>-2166.2599</td> <td>  266.623</td> <td>   -8.125</td> <td> 0.000</td> <td>-2689.242</td> <td>-1643.278</td>\n",
       "</tr>\n",
       "<tr>\n",
       "  <th>x6</th>    <td> 6757.0872</td> <td>  240.671</td> <td>   28.076</td> <td> 0.000</td> <td> 6285.011</td> <td> 7229.164</td>\n",
       "</tr>\n",
       "<tr>\n",
       "  <th>x7</th>    <td> 1324.2625</td> <td>  311.949</td> <td>    4.245</td> <td> 0.000</td> <td>  712.375</td> <td> 1936.151</td>\n",
       "</tr>\n",
       "</table>\n",
       "<table class=\"simpletable\">\n",
       "<tr>\n",
       "  <th>Omnibus:</th>       <td>510.757</td> <th>  Durbin-Watson:     </th> <td>   2.019</td>\n",
       "</tr>\n",
       "<tr>\n",
       "  <th>Prob(Omnibus):</th> <td> 0.000</td>  <th>  Jarque-Bera (JB):  </th> <td>1877.042</td>\n",
       "</tr>\n",
       "<tr>\n",
       "  <th>Skew:</th>          <td> 1.585</td>  <th>  Prob(JB):          </th> <td>    0.00</td>\n",
       "</tr>\n",
       "<tr>\n",
       "  <th>Kurtosis:</th>      <td> 7.357</td>  <th>  Cond. No.          </th> <td>1.05e+06</td>\n",
       "</tr>\n",
       "</table><br/><br/>Warnings:<br/>[1] Standard Errors assume that the covariance matrix of the errors is correctly specified.<br/>[2] The condition number is large, 1.05e+06. This might indicate that there are<br/>strong multicollinearity or other numerical problems."
      ],
      "text/plain": [
       "<class 'statsmodels.iolib.summary.Summary'>\n",
       "\"\"\"\n",
       "                            OLS Regression Results                            \n",
       "==============================================================================\n",
       "Dep. Variable:                      y   R-squared:                       0.638\n",
       "Model:                            OLS   Adj. R-squared:                  0.636\n",
       "Method:                 Least Squares   F-statistic:                     388.5\n",
       "Date:                Sun, 20 Dec 2020   Prob (F-statistic):               0.00\n",
       "Time:                        16:14:49   Log-Likelihood:                -15976.\n",
       "No. Observations:                1552   AIC:                         3.197e+04\n",
       "Df Residuals:                    1544   BIC:                         3.201e+04\n",
       "Df Model:                           7                                         \n",
       "Covariance Type:            nonrobust                                         \n",
       "==============================================================================\n",
       "                 coef    std err          t      P>|t|      [0.025      0.975]\n",
       "------------------------------------------------------------------------------\n",
       "const      -1.406e+06   9.46e+04    -14.856      0.000   -1.59e+06   -1.22e+06\n",
       "x1            45.4479     17.826      2.550      0.011      10.483      80.413\n",
       "x2             6.1463      1.785      3.443      0.001       2.644       9.648\n",
       "x3           700.2883     46.908     14.929      0.000     608.278     792.299\n",
       "x4           -20.0624      3.039     -6.601      0.000     -26.024     -14.101\n",
       "x5         -2166.2599    266.623     -8.125      0.000   -2689.242   -1643.278\n",
       "x6          6757.0872    240.671     28.076      0.000    6285.011    7229.164\n",
       "x7          1324.2625    311.949      4.245      0.000     712.375    1936.151\n",
       "==============================================================================\n",
       "Omnibus:                      510.757   Durbin-Watson:                   2.019\n",
       "Prob(Omnibus):                  0.000   Jarque-Bera (JB):             1877.042\n",
       "Skew:                           1.585   Prob(JB):                         0.00\n",
       "Kurtosis:                       7.357   Cond. No.                     1.05e+06\n",
       "==============================================================================\n",
       "\n",
       "Warnings:\n",
       "[1] Standard Errors assume that the covariance matrix of the errors is correctly specified.\n",
       "[2] The condition number is large, 1.05e+06. This might indicate that there are\n",
       "strong multicollinearity or other numerical problems.\n",
       "\"\"\""
      ]
     },
     "execution_count": 10,
     "metadata": {},
     "output_type": "execute_result"
    }
   ],
   "source": [
    "# Multiple Linear Regression, checking p-values\n",
    "from sklearn.linear_model import LinearRegression\n",
    "import statsmodels.api as sm\n",
    "X1 = sm.add_constant(X_train1)\n",
    "mr1 = sm.OLS(y_train1, X1).fit()\n",
    "#mr1.pvalues\n",
    "mr1.summary()"
   ]
  },
  {
   "cell_type": "markdown",
   "metadata": {},
   "source": [
    "Видим, что исключение незначимой переменной никак нет повлияло на качество модели, попоэтому принимаем решение оставить все переменные. Повторно строим оптимальную модель, выбирая все факторы."
   ]
  },
  {
   "cell_type": "code",
   "execution_count": 11,
   "metadata": {},
   "outputs": [],
   "source": [
    "X_train = X_train[:, [0, 1, 2, 3, 4, 5, 6, 7]]\n",
    "X_test = X_test[:,[0, 1, 2, 3, 4, 5, 6, 7] ]"
   ]
  },
  {
   "cell_type": "code",
   "execution_count": 12,
   "metadata": {},
   "outputs": [],
   "source": [
    "# Fitting Optimized Multiple Regression to the Training set\n",
    "from sklearn.linear_model import LinearRegression\n",
    "mr = LinearRegression().fit(X_train, y_train)"
   ]
  },
  {
   "cell_type": "markdown",
   "metadata": {},
   "source": [
    "Получаем коэффициенты регрессии"
   ]
  },
  {
   "cell_type": "code",
   "execution_count": 13,
   "metadata": {},
   "outputs": [
    {
     "data": {
      "text/plain": [
       "(array([ 4.61897763e+01,  5.79002097e+00,  6.99755732e+02,  2.45485816e+01,\n",
       "        -2.00715768e+01, -2.15855657e+03,  6.76144106e+03,  1.33971595e+03]),\n",
       " -1404588.6502894547)"
      ]
     },
     "execution_count": 13,
     "metadata": {},
     "output_type": "execute_result"
    }
   ],
   "source": [
    "# Getting parameters\n",
    "mr.coef_, mr.intercept_"
   ]
  },
  {
   "cell_type": "markdown",
   "metadata": {},
   "source": [
    "Строим прогноз на тестовых значениях:"
   ]
  },
  {
   "cell_type": "code",
   "execution_count": 14,
   "metadata": {},
   "outputs": [],
   "source": [
    "# Predicting the Test set results\n",
    "y_pred = mr.predict(X_test)"
   ]
  },
  {
   "cell_type": "markdown",
   "metadata": {},
   "source": [
    "Вычисляем коэффициент детерминации, видим, что на тестовых значениях он немного выше."
   ]
  },
  {
   "cell_type": "code",
   "execution_count": 15,
   "metadata": {},
   "outputs": [
    {
     "data": {
      "text/plain": [
       "(0.637906548106647, 0.6647477246972698)"
      ]
     },
     "execution_count": 15,
     "metadata": {},
     "output_type": "execute_result"
    }
   ],
   "source": [
    "# Coefficient of determination R^2\n",
    "mr.score(X_train, y_train), mr.score(X_test, y_test)"
   ]
  },
  {
   "cell_type": "markdown",
   "metadata": {},
   "source": [
    "Находим среднеквадратическое отклонение, которое на тестовых значениях очень сильно уменьшилась, что говорит о том, что модель  переобучилась."
   ]
  },
  {
   "cell_type": "code",
   "execution_count": 16,
   "metadata": {},
   "outputs": [
    {
     "data": {
      "text/plain": [
       "(51124835.49872619, 35570626.75215884)"
      ]
     },
     "execution_count": 16,
     "metadata": {},
     "output_type": "execute_result"
    }
   ],
   "source": [
    "# Mean squared error\n",
    "from sklearn.metrics import mean_squared_error\n",
    "mean_squared_error(y_train, mr.predict(X_train)), mean_squared_error(y_test, y_pred)"
   ]
  },
  {
   "cell_type": "markdown",
   "metadata": {},
   "source": [
    "Строим график по наиболее значимой переменной для визуализации результата (На мой взгляд). Видим, что предсказание работает довольно хорошо."
   ]
  },
  {
   "cell_type": "code",
   "execution_count": 17,
   "metadata": {},
   "outputs": [
    {
     "data": {
      "image/png": "[encoded data removed]",
      "text/plain": [
       "<Figure size 432x288 with 1 Axes>"
      ]
     },
     "metadata": {
      "needs_background": "light"
     },
     "output_type": "display_data"
    }
   ],
   "source": [
    "# Visualising the Test set results\n",
    "plt.scatter(X_test[:,4], y_test, color = 'red')\n",
    "plt.plot(X_test[:,4], mr.predict(X_test), 'bo')\n",
    "plt.title('Price vs car_mileage (Test set)')\n",
    "plt.xlabel('car_mileage')\n",
    "plt.ylabel('Price')\n",
    "plt.show()"
   ]
  },
  {
   "cell_type": "markdown",
   "metadata": {},
   "source": [
    "Итак, мы получили базовую модель, от которой мы будем отталкиваться и ориентирваться в ходе посроения модели нейроной сети.\n",
    "\"Законсервируем\" данные, полученные на данном этапе."
   ]
  },
  {
   "cell_type": "code",
   "execution_count": 19,
   "metadata": {},
   "outputs": [],
   "source": [
    "import pickle\n",
    "obj = {'X_train': X_train, 'X_test': X_test,'y_train': y_train,'y_test': y_test}\n",
    "output = open('vehicleprice_reg.pkl', 'wb')\n",
    "pickle.dump(obj, output, 2)\n",
    "output.close()"
   ]
  }
 ],
 "metadata": {
  "kernelspec": {
   "display_name": "Python 3",
   "language": "python",
   "name": "python3"
  },
  "language_info": {
   "codemirror_mode": {
    "name": "ipython",
    "version": 3
   },
   "file_extension": ".py",
   "mimetype": "text/x-python",
   "name": "python",
   "nbconvert_exporter": "python",
   "pygments_lexer": "ipython3",
   "version": "3.8.3"
  }
 },
 "nbformat": 4,
 "nbformat_minor": 4
}
